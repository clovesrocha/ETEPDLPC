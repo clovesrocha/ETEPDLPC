{
  "cells": [
    {
      "cell_type": "markdown",
      "metadata": {
        "colab_type": "text",
        "id": "view-in-github"
      },
      "source": [
        "<a href=\"https://colab.research.google.com/github/lucasact4/ETE/blob/main/Desafio01_ETE.ipynb\" target=\"_parent\"><img src=\"https://colab.research.google.com/assets/colab-badge.svg\" alt=\"Open In Colab\"/></a>"
      ]
    },
    {
      "cell_type": "code",
      "execution_count": 1,
      "metadata": {
        "colab": {
          "base_uri": "https://localhost:8080/"
        },
        "id": "EylME0Y2r5_1",
        "outputId": "17ed344d-aff1-4a45-b0b2-c4a658736c04"
      },
      "outputs": [
        {
          "name": "stdout",
          "output_type": "stream",
          "text": [
            "Alô ETE PORTO DIGITAL!\n"
          ]
        }
      ],
      "source": [
        "# 1. Faça um Programa que mostre a mensagem \"Alô ETE PORTO DIGITAL!\" na tela via Colab ou Repl.it\n",
        "print('Alô ETE PORTO DIGITAL!')"
      ]
    },
    {
      "cell_type": "code",
      "execution_count": 2,
      "metadata": {
        "colab": {
          "base_uri": "https://localhost:8080/"
        },
        "id": "q9JfPY5er_P-",
        "outputId": "6f5b131b-5b6b-49c6-a90b-534dd99ef0c6"
      },
      "outputs": [
        {
          "name": "stdout",
          "output_type": "stream",
          "text": [
            "Digite um número: 8\n",
            "O número informado foi: \u001b[1;31;43m 8 \u001b[m\n"
          ]
        }
      ],
      "source": [
        "# 2. Faça um Programa que peça um número e então mostre a mensagem 'O número informado foi [número]'.\n",
        "num = int(input('Digite um número: '))\n",
        "print('O número informado foi: \\033[1;31;43m {} \\033[m'.format(num))"
      ]
    },
    {
      "cell_type": "code",
      "execution_count": 3,
      "metadata": {
        "colab": {
          "base_uri": "https://localhost:8080/"
        },
        "id": "Zz1-qgTHsBNx",
        "outputId": "3de739c2-b361-4cd8-b84c-84ad2e8b1468"
      },
      "outputs": [
        {
          "name": "stdout",
          "output_type": "stream",
          "text": [
            "Digite um número: 8\n",
            "Digite outro número: 10\n",
            "A soma entre os números informados são:  18\n"
          ]
        }
      ],
      "source": [
        "# 3. Faça um Programa que peça dois números e imprima a soma.\n",
        "n1 = int(input('Digite um número: '))\n",
        "n2 = int(input('Digite outro número: '))\n",
        "print('A soma entre os números informados são: ', n1+n2)"
      ]
    },
    {
      "cell_type": "code",
      "execution_count": 4,
      "metadata": {
        "colab": {
          "base_uri": "https://localhost:8080/"
        },
        "id": "fZfcDWLKsC3c",
        "outputId": "21444808-206d-4c09-f6ef-91b1574041c7"
      },
      "outputs": [
        {
          "name": "stdout",
          "output_type": "stream",
          "text": [
            "Digite a primeira nota: 8\n",
            "Digite a segunda nota: 9\n",
            "Digite a terceira nota: 8\n",
            "Digite a quarta nota: 9\n",
            "A média entre as notas informadas são: 8.5\n"
          ]
        }
      ],
      "source": [
        "# 4. Faça um Programa que peça as 4 notas bimestrais e mostre a média.\n",
        "n1 = int(input('Digite a primeira nota: '))\n",
        "n2 = int(input('Digite a segunda nota: '))\n",
        "n3 = int(input('Digite a terceira nota: '))\n",
        "n4 = int(input('Digite a quarta nota: '))\n",
        "print('A média entre as notas informadas são: {}'.format((n1+n2+n3+n4)/4))"
      ]
    },
    {
      "cell_type": "code",
      "execution_count": 5,
      "metadata": {
        "colab": {
          "base_uri": "https://localhost:8080/"
        },
        "id": "ECArz2fusDzw",
        "outputId": "2064c746-dd8e-4875-b368-b6535dc414b8"
      },
      "outputs": [
        {
          "name": "stdout",
          "output_type": "stream",
          "text": [
            "Digite um valor em metros: 2\n",
            "O valor 2.0 em metros possui 200.0 centimetros !\n"
          ]
        }
      ],
      "source": [
        "# 5. Faça um Programa que converta metros para centímetros.\n",
        "m = float(input('Digite um valor em metros: '))\n",
        "print('O valor {} em metros possui {} centimetros !'.format(m, m*100))"
      ]
    },
    {
      "cell_type": "code",
      "execution_count": 6,
      "metadata": {
        "colab": {
          "base_uri": "https://localhost:8080/"
        },
        "id": "UIJTMyyssIJL",
        "outputId": "6263e74c-2d2e-4fc8-9e30-bc076873757a"
      },
      "outputs": [
        {
          "name": "stdout",
          "output_type": "stream",
          "text": [
            "Qual o raio do círculo? 3\n",
            "A área do círculo é 9.42\n"
          ]
        }
      ],
      "source": [
        "# 6. Faça um Programa que peça o raio de um círculo, calcule e mostre sua área.\n",
        "r = float(input('Qual o raio do círculo? '))\n",
        "a = r * 3.14\n",
        "print(f'A área do círculo é {a}')"
      ]
    },
    {
      "cell_type": "code",
      "execution_count": 7,
      "metadata": {
        "colab": {
          "base_uri": "https://localhost:8080/"
        },
        "id": "VnSuGRhcsKst",
        "outputId": "05194b8d-40d2-4e47-ebb1-ee54246fb5f3"
      },
      "outputs": [
        {
          "name": "stdout",
          "output_type": "stream",
          "text": [
            "Digite o valor do lado de um quadrado: 4\n",
            "A área do quadrado é 16.0 e o seu dobro é 32.0.\n"
          ]
        }
      ],
      "source": [
        "# 7. Faça um Programa que calcule a área de um quadrado, em seguida mostre o dobro desta área para o usuário.\n",
        "l = float(input('Digite o valor do lado de um quadrado: '))\n",
        "print('A área do quadrado é {} e o seu dobro é {}.'.format(l*l, l*l*2))"
      ]
    },
    {
      "cell_type": "code",
      "execution_count": 8,
      "metadata": {
        "colab": {
          "base_uri": "https://localhost:8080/"
        },
        "id": "3gfsnQyzsMTf",
        "outputId": "a0d82b3c-eb92-4c25-a576-65a5fd63cd2f"
      },
      "outputs": [
        {
          "name": "stdout",
          "output_type": "stream",
          "text": [
            "Quanto você ganha por hora ? R$7\n",
            "Quantas horas você trabalhou no mês ? 170\n",
            "Salário total do mês:  1190.0\n"
          ]
        }
      ],
      "source": [
        "# 8. Faça um Programa que pergunte quanto você ganha por hora e o número de horas trabalhadas no mês.\n",
        "# Calcule e mostre o total do seu salário no referido mês.\n",
        "q = float(input('Quanto você ganha por hora ? R$'))\n",
        "h = int(input('Quantas horas você trabalhou no mês ? '))\n",
        "print('Salário total do mês: ', q*h)"
      ]
    },
    {
      "cell_type": "code",
      "execution_count": 9,
      "metadata": {
        "colab": {
          "base_uri": "https://localhost:8080/"
        },
        "id": "pR8uEWKwsNdB",
        "outputId": "9a2d036e-39ee-480a-e465-8c096299f0fc"
      },
      "outputs": [
        {
          "name": "stdout",
          "output_type": "stream",
          "text": [
            "Digite uma temperatura em Fahrenheit: F°104\n",
            "Temperatura em graus Celcius: C°40.00\n"
          ]
        }
      ],
      "source": [
        "# 9. Faça um Programa que peça a temperatura em graus Fahrenheit, transforme e mostre a temperatura em graus Celsius.\n",
        "# C = 5 * ((F-32) / 9).\n",
        "f = float(input('Digite uma temperatura em Fahrenheit: F°'))\n",
        "print('Temperatura em graus Celcius: C°{:.2f}'.format(5*(f-32)/9))"
      ]
    },
    {
      "cell_type": "code",
      "execution_count": 10,
      "metadata": {
        "colab": {
          "base_uri": "https://localhost:8080/"
        },
        "id": "nP0El8QMsOjf",
        "outputId": "41a4ca86-a047-434f-f2e7-ec1a23b20cc5"
      },
      "outputs": [
        {
          "name": "stdout",
          "output_type": "stream",
          "text": [
            "Digite uma temperatura em Celcius: C°32\n",
            "Temperatura em graus Fahrenheit: C°89.60\n"
          ]
        }
      ],
      "source": [
        "# 10. Faça um Programa que peça a temperatura em graus Celsius, transforme e mostre em graus Fahrenheit.\n",
        "c = float(input('Digite uma temperatura em Celcius: C°'))\n",
        "print('Temperatura em graus Fahrenheit: C°{:.2f}'.format(c*1.8+32))"
      ]
    },
    {
      "cell_type": "code",
      "execution_count": 12,
      "metadata": {
        "colab": {
          "base_uri": "https://localhost:8080/"
        },
        "id": "OI6zTT7gsPHP",
        "outputId": "ae2857be-fd7a-448d-92be-fa5ed4a257f7"
      },
      "outputs": [
        {
          "name": "stdout",
          "output_type": "stream",
          "text": [
            "Digite o primeiro número: 4\n",
            "Digite o segundo número: 6\n",
            "Digite o terceiro número: 8\n",
            "O produto do dobro do primeiro com metade do segundo é: 11.0\n",
            "A soma do triplo do primeiro com o terceiro é: 20.0\n",
            "O terceiro elevado ao cubo é: 64.0\n"
          ]
        }
      ],
      "source": [
        "# 11. Faça um Programa que peça 2 números inteiros e um número real.\n",
        "# Calcule e mostre: o produto do dobro do primeiro com metade do segundo.\n",
        "# a soma do triplo do primeiro com o terceiro. O terceiro elevado ao cubo.\n",
        "n1 = int(input('Digite o primeiro número: '))\n",
        "n2 = int(input('Digite o segundo número: '))\n",
        "n3 = float(input('Digite o terceiro número: '))\n",
        "print('O produto do dobro do primeiro com metade do segundo é: {}'.format((n1*2)+(n2/2)))\n",
        "print('A soma do triplo do primeiro com o terceiro é: {}'.format(n1*3+n3))\n",
        "print('O terceiro elevado ao cubo é: {}'.format(n3**2))"
      ]
    },
    {
      "cell_type": "code",
      "execution_count": 13,
      "metadata": {
        "colab": {
          "base_uri": "https://localhost:8080/"
        },
        "id": "asq-xq8_sRsz",
        "outputId": "ca2b5387-9e3d-4e38-d1d3-52f1a16698d2"
      },
      "outputs": [
        {
          "name": "stdout",
          "output_type": "stream",
          "text": [
            "Digite sua altura: 1.75\n",
            "O seu peso ideal é: 69.22500000000001\n"
          ]
        }
      ],
      "source": [
        "# 12. Tendo como dados de entrada a altura de uma pessoa,\n",
        "# construa um algoritmo que calcule seu peso ideal, usando a seguinte fórmula: (72.7*altura) - 58\n",
        "al = float(input('Digite sua altura: '))\n",
        "print('O seu peso ideal é: {}'.format(72.7*al-58))"
      ]
    },
    {
      "cell_type": "code",
      "execution_count": 14,
      "metadata": {
        "colab": {
          "base_uri": "https://localhost:8080/"
        },
        "id": "mC9perdksTdi",
        "outputId": "e5b74ab4-0130-472d-9e6c-392fcc8e210a"
      },
      "outputs": [
        {
          "name": "stdout",
          "output_type": "stream",
          "text": [
            "Digite sua altura: 1.75\n",
            "O peso ideal para homens é: 69.22500000000001\n",
            "O peso ideal para mulheres é: 63.974999999999994\n"
          ]
        }
      ],
      "source": [
        "# 13. Tendo como dado de entrada a altura (h) de uma pessoa,\n",
        "# construa um algoritmo que calcule seu peso ideal,\n",
        "# utilizando as seguintes fórmulas: Para homens: (72.7*h) - 58. Para mulheres: (62.1*h) - 44.7\n",
        "al = float(input('Digite sua altura: '))\n",
        "print('O peso ideal para homens é: {}'.format(72.7*al-58))\n",
        "print('O peso ideal para mulheres é: {}'.format(62.1*al-44.7))"
      ]
    },
    {
      "cell_type": "code",
      "execution_count": 15,
      "metadata": {
        "colab": {
          "base_uri": "https://localhost:8080/"
        },
        "id": "xgz5bCqDsUYH",
        "outputId": "a56975ee-c738-406c-f623-ad3fe6db4376"
      },
      "outputs": [
        {
          "name": "stdout",
          "output_type": "stream",
          "text": [
            "Olá, tudo bem ? preciso que você digite um valor em quilos: 52\n",
            "Você ultrapassou os 50 quilos permitidos, então pagará a multa no valor de R$8.0\n",
            "Quilos informados: 52.0 | Quilos excedidos: 2.0\n"
          ]
        }
      ],
      "source": [
        "# 14. João Papo-de-Pescador, homem de bem, comprou um microcomputador para controlar o rendimento diário de\n",
        "# seu trabalho. Toda vez que ele traz um peso de peixes maior que o estabelecido pelo regulamento de pesca\n",
        "# do estado de São Paulo (50 quilos) deve pagar uma multa de R$ 4,00 por quilo excedente. João precisa que\n",
        "# você faça um programa que leia a variável peso (peso de peixes) e calcule o excesso. Gravar na variável\n",
        "# excesso a quantidade de quilos além do limite e na variável multa o valor da multa que João deverá pagar.\n",
        "# Imprima os dados do programa com as mensagens adequadas.\n",
        "q = float(input('Olá, tudo bem ? preciso que você digite um valor em quilos: '))\n",
        "if q > 50:\n",
        "    m = (q - 50) * 4\n",
        "    print('Você ultrapassou os 50 quilos permitidos, então pagará a multa no valor de R${}'.format(m))\n",
        "    print('Quilos informados: {} | Quilos excedidos: {}'.format(q, q-50))\n",
        "else:\n",
        "    print('Hoje você não ultrapassou o limite excedido ! tenha um bom dia !')"
      ]
    },
    {
      "cell_type": "code",
      "execution_count": 17,
      "metadata": {
        "colab": {
          "base_uri": "https://localhost:8080/"
        },
        "id": "mS0jybkVsVlh",
        "outputId": "f283cbe5-3cca-4fee-bfd4-2bd27b6645e0"
      },
      "outputs": [
        {
          "name": "stdout",
          "output_type": "stream",
          "text": [
            "Digite o tamanho do arquivo: MB500\n",
            "Digite a velocidade do link da internet: Mbps9.12\n",
            "Tempo aproximado do download: 0 minutos e 55 segundos.\n"
          ]
        }
      ],
      "source": [
        "# 15. Faça um programa que peça o tamanho de um arquivo para download (em MB) e a velocidade de um link de Internet\n",
        "# (em Mbps), calcule e informe o tempo aproximado de download do arquivo usando este link (em minutos).\n",
        "ta = float(input('Digite o tamanho do arquivo: MB'))\n",
        "vi = float(input('Digite a velocidade do link da internet: Mbps'))\n",
        "s = ta/vi\n",
        "m = int(s/60)\n",
        "s = s%60\n",
        "print('Tempo aproximado do download: {} minutos e {:.0f} segundos.'.format(m, s))"
      ]
    }
  ],
  "metadata": {
    "colab": {
      "authorship_tag": "ABX9TyO4ppaj0jdCGLvIpMO34tTO",
      "include_colab_link": true,
      "name": "Desafio01 ETE",
      "provenance": []
    },
    "kernelspec": {
      "display_name": "Python 3",
      "name": "python3"
    },
    "language_info": {
      "name": "python"
    }
  },
  "nbformat": 4,
  "nbformat_minor": 0
}
