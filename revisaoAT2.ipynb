{
  "nbformat": 4,
  "nbformat_minor": 0,
  "metadata": {
    "colab": {
      "name": "revisaoAT2.ipynb",
      "provenance": [],
      "authorship_tag": "ABX9TyNYwIUM4PAfkiM9uygDmM6R",
      "include_colab_link": true
    },
    "kernelspec": {
      "name": "python3",
      "display_name": "Python 3"
    },
    "language_info": {
      "name": "python"
    }
  },
  "cells": [
    {
      "cell_type": "markdown",
      "metadata": {
        "id": "view-in-github",
        "colab_type": "text"
      },
      "source": [
        "<a href=\"https://colab.research.google.com/github/clovesrocha/ETEPDLPC/blob/master/revisaoAT2.ipynb\" target=\"_parent\"><img src=\"https://colab.research.google.com/assets/colab-badge.svg\" alt=\"Open In Colab\"/></a>"
      ]
    },
    {
      "cell_type": "code",
      "execution_count": 11,
      "metadata": {
        "colab": {
          "base_uri": "https://localhost:8080/"
        },
        "id": "RUw2ELYF_hZ7",
        "outputId": "ceaa4292-1ef4-47a6-e56f-3068bf3a4234"
      },
      "outputs": [
        {
          "output_type": "stream",
          "name": "stdout",
          "text": [
            "Digite um número: 1\n",
            "O número 1 é ímpar\n"
          ]
        }
      ],
      "source": [
        "#ETE PORTO DIGITAL\n",
        "#PROFESSOR: CLOVES\n",
        "#ESTUDANTE: ?\n",
        "\n",
        "num = int(input('Digite um número: '))\n",
        "if num % 2 == 0:\n",
        "  print(f'O número {num} é par')\n",
        "else:\n",
        "  print(f'O número {num} é ímpar')"
      ]
    },
    {
      "cell_type": "code",
      "source": [
        "#Estruturas Condicionais Aninhadas e o elif; \n",
        "num = float(input('Dgite um número: '))\n",
        "if num > 0:\n",
        "  print ('Este número é positivo!')\n",
        "\n",
        "elif num == 0:\n",
        "  print('Este número é neutro')\n",
        "\n",
        "else: \n",
        "  print('Este número é negativo!')"
      ],
      "metadata": {
        "colab": {
          "base_uri": "https://localhost:8080/"
        },
        "id": "bXZ37-vnCi-m",
        "outputId": "1deed7ac-4058-4d43-9d80-21a9195eadda"
      },
      "execution_count": 19,
      "outputs": [
        {
          "output_type": "stream",
          "name": "stdout",
          "text": [
            "Dgite um número: 3.141516\n",
            "Este número é positivo!\n"
          ]
        }
      ]
    },
    {
      "cell_type": "code",
      "source": [
        "#Um pouco de Álgebra Linear \n",
        "#Vetor IMC\n",
        "imc = [181, 100, 40]\n",
        "imc = 100/(1.81*1.81)\n",
        "print('O seu IMC é: {:.2f}'.format(imc))"
      ],
      "metadata": {
        "colab": {
          "base_uri": "https://localhost:8080/"
        },
        "id": "2Y_kRQ0tD30h",
        "outputId": "ada68089-6a4a-4f06-f8c2-689a2faa4d0f"
      },
      "execution_count": 32,
      "outputs": [
        {
          "output_type": "stream",
          "name": "stdout",
          "text": [
            "O seu IMC é: 30.52\n"
          ]
        }
      ]
    }
  ]
}