{
  "nbformat": 4,
  "nbformat_minor": 0,
  "metadata": {
    "colab": {
      "name": "desafio3_sala_de_aula_invertida.ipynb",
      "provenance": [],
      "authorship_tag": "ABX9TyOMYL9r40cO8vDveq1YGOPE",
      "include_colab_link": true
    },
    "kernelspec": {
      "name": "python3",
      "display_name": "Python 3"
    },
    "language_info": {
      "name": "python"
    }
  },
  "cells": [
    {
      "cell_type": "markdown",
      "metadata": {
        "id": "view-in-github",
        "colab_type": "text"
      },
      "source": [
        "<a href=\"https://colab.research.google.com/github/clovesrocha/ETEPDLPC/blob/master/desafio3_sala_de_aula_invertida.ipynb\" target=\"_parent\"><img src=\"https://colab.research.google.com/assets/colab-badge.svg\" alt=\"Open In Colab\"/></a>"
      ]
    },
    {
      "cell_type": "code",
      "source": [
        "#DESAFIO 3\n",
        "#QUESTÃO 01\n",
        "#ESTUDANTES: LUCILA\n",
        "nota = float(input('Digite uma nota de zero a dez: '))\n",
        "while (10<nota) or (0>nota):\n",
        "  nota=float(input('Valor inválido. Digite uma nota de zero a dez: '))\n",
        "else:\n",
        "    print('A nota foi lançada com sucesso')\n",
        "  "
      ],
      "metadata": {
        "colab": {
          "base_uri": "https://localhost:8080/"
        },
        "id": "0Yql4J3mCZ7m",
        "outputId": "3e71e4a6-f7c0-4148-afa1-f531726d8ea9"
      },
      "execution_count": 9,
      "outputs": [
        {
          "output_type": "stream",
          "name": "stdout",
          "text": [
            "Digite uma nota de zero a dez: 13\n",
            "Valor inválido. Digite uma nota de zero a dez: 5\n",
            "A nota foi lançada com sucesso\n"
          ]
        }
      ]
    },
    {
      "cell_type": "code",
      "execution_count": 1,
      "metadata": {
        "colab": {
          "base_uri": "https://localhost:8080/"
        },
        "id": "TKbbIBJ4AgfT",
        "outputId": "ee08d97d-f5f8-40b0-e852-0396868ca99b"
      },
      "outputs": [
        {
          "output_type": "stream",
          "name": "stdout",
          "text": [
            "Digite o nome do usuario: du\n",
            "Digite a senha: du\n",
            "A senha deve ser diferente do usuario!\n",
            "Digite o nome do usuario: edu\n",
            "Digite a senha: praxedes\n",
            "Ususario cadastrado!\n"
          ]
        }
      ],
      "source": [
        "#DESAFIO 3\n",
        "#QUESTÃO 02\n",
        "#ESTUDANTES: EDUARDO PRAXEDES\n",
        "nome1 = str(input('Digite o nome do usuario: '))\n",
        "nome2 = str(input('Digite a senha: '))\n",
        "while (nome2 == nome1):\n",
        "  print('A senha deve ser diferente do usuario!')\n",
        "  nome1 = str(input('Digite o nome do usuario: '))\n",
        "  nome2 = str(input('Digite a senha: '))\n",
        "else:\n",
        "  print('Ususario cadastrado!')  "
      ]
    },
    {
      "cell_type": "code",
      "source": [
        "#DESAFIO 3\n",
        "#QUESTÃO 05\n",
        "#ESTUDANTES: JOYCE COSTA\n",
        "\n",
        "for i in range(20):\n",
        "  print(i+1)\n",
        "print('\\n\\n')\n",
        "for i in range(20):\n",
        "  print(i+1, end=' ')"
      ],
      "metadata": {
        "colab": {
          "base_uri": "https://localhost:8080/"
        },
        "id": "zon9HF8rExHF",
        "outputId": "dfed0ed4-d571-4566-b873-88d25ad5e520"
      },
      "execution_count": 13,
      "outputs": [
        {
          "output_type": "stream",
          "name": "stdout",
          "text": [
            "1\n",
            "2\n",
            "3\n",
            "4\n",
            "5\n",
            "6\n",
            "7\n",
            "8\n",
            "9\n",
            "10\n",
            "11\n",
            "12\n",
            "13\n",
            "14\n",
            "15\n",
            "16\n",
            "17\n",
            "18\n",
            "19\n",
            "20\n",
            "\n",
            "\n",
            "\n",
            "1 2 3 4 5 6 7 8 9 10 11 12 13 14 15 16 17 18 19 20 "
          ]
        }
      ]
    }
  ]
}