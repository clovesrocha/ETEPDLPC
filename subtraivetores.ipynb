{
  "nbformat": 4,
  "nbformat_minor": 0,
  "metadata": {
    "colab": {
      "name": "subtraivetores.ipynb",
      "provenance": [],
      "authorship_tag": "ABX9TyMazONZxMd8FQWLvW+36a9a",
      "include_colab_link": true
    },
    "kernelspec": {
      "name": "python3",
      "display_name": "Python 3"
    },
    "language_info": {
      "name": "python"
    }
  },
  "cells": [
    {
      "cell_type": "markdown",
      "metadata": {
        "id": "view-in-github",
        "colab_type": "text"
      },
      "source": [
        "<a href=\"https://colab.research.google.com/github/clovesrocha/ETEPDLPC/blob/master/subtraivetores.ipynb\" target=\"_parent\"><img src=\"https://colab.research.google.com/assets/colab-badge.svg\" alt=\"Open In Colab\"/></a>"
      ]
    },
    {
      "cell_type": "code",
      "metadata": {
        "id": "kZcH_jEDTyXG"
      },
      "source": [
        "# ETE PORTO DIGITAL\n",
        "# DISCIPLINA: LPC\n",
        "# PROFESSOR: CLOVES ROCHA\n",
        "\n",
        "def vet_sub(vet1, vet2):\n",
        "   #subtrai elementos correspondentes\n",
        " return [vet1_i - vet2_i\n",
        "         for vet1_i, vet2_i in zip(vet1, vet2)] "
      ],
      "execution_count": 1,
      "outputs": []
    }
  ]
}