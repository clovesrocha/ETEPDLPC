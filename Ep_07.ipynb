{
  "nbformat": 4,
  "nbformat_minor": 0,
  "metadata": {
    "colab": {
      "name": "Ep. #07.ipynb",
      "provenance": [],
      "include_colab_link": true
    },
    "kernelspec": {
      "name": "python3",
      "display_name": "Python 3"
    }
  },
  "cells": [
    {
      "cell_type": "markdown",
      "metadata": {
        "id": "view-in-github",
        "colab_type": "text"
      },
      "source": [
        "<a href=\"https://colab.research.google.com/github/clovesrocha/ETEPDLPC/blob/master/Ep_07.ipynb\" target=\"_parent\"><img src=\"https://colab.research.google.com/assets/colab-badge.svg\" alt=\"Open In Colab\"/></a>"
      ]
    },
    {
      "cell_type": "code",
      "metadata": {
        "id": "CCsKMc56LBth",
        "colab": {
          "base_uri": "https://localhost:8080/"
        },
        "outputId": "4ef79ce0-42a3-480f-ff42-3195e4db2453"
      },
      "source": [
        "# Aula - Ep. #07 - Mini Curso de #IP\n",
        "# Função input() \n",
        "# GitHub do mini curso: https://github.com/clovesrocha/minicursoip\n",
        "# Prepara o café e vamos simbora! \n",
        "\n",
        "nome = str(input('Digite seu nome: '))\n",
        "sobrenome = str(input('Digite seu sobrenome: '))\n",
        "print(f'Seu nome e sobrenome é {nome} {sobrenome}')\n",
        "\n",
        "#x = int(input('Digite um valor para x:'))\n",
        "#y = int(input('Digite um valor para y:'))\n",
        "#resultado = (x * y)\n",
        "#print('O Resultado é: ', resultado)\n"
      ],
      "execution_count": 8,
      "outputs": [
        {
          "output_type": "stream",
          "name": "stdout",
          "text": [
            "Digite seu nome: Cloves\n",
            "Digite seu sobrenome: Rocha\n",
            "Seu nome e sobrenome é {nome} {sobrenome}\n"
          ]
        }
      ]
    }
  ]
}