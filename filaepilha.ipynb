{
  "nbformat": 4,
  "nbformat_minor": 0,
  "metadata": {
    "colab": {
      "name": "filaepilha.ipynb",
      "provenance": [],
      "authorship_tag": "ABX9TyM5LwHN8vLh5PJ9xLm/H+IO",
      "include_colab_link": true
    },
    "kernelspec": {
      "name": "python3",
      "display_name": "Python 3"
    },
    "language_info": {
      "name": "python"
    }
  },
  "cells": [
    {
      "cell_type": "markdown",
      "metadata": {
        "id": "view-in-github",
        "colab_type": "text"
      },
      "source": [
        "<a href=\"https://colab.research.google.com/github/clovesrocha/ETEPDLPC/blob/master/filaepilha.ipynb\" target=\"_parent\"><img src=\"https://colab.research.google.com/assets/colab-badge.svg\" alt=\"Open In Colab\"/></a>"
      ]
    },
    {
      "cell_type": "code",
      "metadata": {
        "colab": {
          "base_uri": "https://localhost:8080/"
        },
        "id": "Qw4dqTRDxgwV",
        "outputId": "72041aa7-5455-4fd7-8f8c-99c75d9ef2a1"
      },
      "source": [
        "# ETE PD \n",
        "# DISCIPLINA: LPC\n",
        "# PROFESSOR: CLOVES ROCHA\n",
        "\n",
        "#FILA\n",
        "fila = [10, 11, 12, 13, 14, 15]\n",
        "fila.append(16) #insere um elemento no final da fila\n",
        "print(fila)"
      ],
      "execution_count": 2,
      "outputs": [
        {
          "output_type": "stream",
          "text": [
            "[10, 11, 12, 13, 14, 15, 16]\n"
          ],
          "name": "stdout"
        }
      ]
    },
    {
      "cell_type": "code",
      "metadata": {
        "id": "7ViGhmiXzGy3"
      },
      "source": [
        "#PILHA\n",
        "class Pilha(object):\n",
        "  def __init__(self):\n",
        "    self.dados = []\n",
        "  \n",
        "  def empilha (self, elemento):\n",
        "  \n",
        "  def desempilhar(self):\n",
        "\n",
        "p = Pilha()\n",
        "p.empilha(10)\n",
        "p.empilha(20)\n",
        "p.empilha(30)\n",
        "p.empilha(40)\n",
        "print p.desempilha(),\n",
        "print p.desempilha(),\n",
        "print p.desempilha(),\n",
        "print p.desempilha(),\n"
      ],
      "execution_count": null,
      "outputs": []
    }
  ]
}