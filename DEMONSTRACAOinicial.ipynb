{
  "nbformat": 4,
  "nbformat_minor": 0,
  "metadata": {
    "colab": {
      "name": "DEMONSTRACAOinicial.ipynb",
      "provenance": [],
      "authorship_tag": "ABX9TyPw90yfsYhAyut3o/6Zzd1N",
      "include_colab_link": true
    },
    "kernelspec": {
      "name": "python3",
      "display_name": "Python 3"
    }
  },
  "cells": [
    {
      "cell_type": "markdown",
      "metadata": {
        "id": "view-in-github",
        "colab_type": "text"
      },
      "source": [
        "<a href=\"https://colab.research.google.com/github/clovesrocha/ETEPDLPC/blob/master/DEMONSTRACAOinicial.ipynb\" target=\"_parent\"><img src=\"https://colab.research.google.com/assets/colab-badge.svg\" alt=\"Open In Colab\"/></a>"
      ]
    },
    {
      "cell_type": "code",
      "metadata": {
        "id": "Hxk-RBnRgsqU"
      },
      "source": [
        "# ESCREVA AQUI UM COMENTÁRIO \n",
        "print('ESCREVA AQUI SEU CÓDIGO')"
      ],
      "execution_count": null,
      "outputs": []
    }
  ]
}