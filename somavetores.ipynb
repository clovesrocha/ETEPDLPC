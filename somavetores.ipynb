{
  "nbformat": 4,
  "nbformat_minor": 0,
  "metadata": {
    "colab": {
      "name": "somavetores.ipynb",
      "provenance": [],
      "authorship_tag": "ABX9TyNwhx1h2mxL7ToyesFIt158",
      "include_colab_link": true
    },
    "kernelspec": {
      "name": "python3",
      "display_name": "Python 3"
    },
    "language_info": {
      "name": "python"
    }
  },
  "cells": [
    {
      "cell_type": "markdown",
      "metadata": {
        "id": "view-in-github",
        "colab_type": "text"
      },
      "source": [
        "<a href=\"https://colab.research.google.com/github/clovesrocha/ETEPDLPC/blob/master/somavetores.ipynb\" target=\"_parent\"><img src=\"https://colab.research.google.com/assets/colab-badge.svg\" alt=\"Open In Colab\"/></a>"
      ]
    },
    {
      "cell_type": "code",
      "metadata": {
        "id": "tfN815iN6K6Z"
      },
      "source": [
        "# ETE PORTO DIGITAL\n",
        "# DISCIPLINA: LPC\n",
        "# PROFESSOR: CLOVES ROCHA\n",
        "\n",
        "def vet_add(vet1, vet2):\n",
        "    #soma elementos correspondentes\n",
        "  return [vet1_i + vet2_i\n",
        "          for vet1_i, vet2_i in zip(vet1, vet2)]"
      ],
      "execution_count": 19,
      "outputs": []
    }
  ]
}