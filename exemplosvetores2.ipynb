{
  "nbformat": 4,
  "nbformat_minor": 0,
  "metadata": {
    "colab": {
      "name": "exemplosvetores2.ipynb",
      "provenance": [],
      "authorship_tag": "ABX9TyOpsuJMCp8p2rJR04I+nX70",
      "include_colab_link": true
    },
    "kernelspec": {
      "name": "python3",
      "display_name": "Python 3"
    },
    "language_info": {
      "name": "python"
    }
  },
  "cells": [
    {
      "cell_type": "markdown",
      "metadata": {
        "id": "view-in-github",
        "colab_type": "text"
      },
      "source": [
        "<a href=\"https://colab.research.google.com/github/clovesrocha/ETEPDLPC/blob/master/exemplosvetores2.ipynb\" target=\"_parent\"><img src=\"https://colab.research.google.com/assets/colab-badge.svg\" alt=\"Open In Colab\"/></a>"
      ]
    },
    {
      "cell_type": "code",
      "metadata": {
        "id": "ShBeDilKT9Vs"
      },
      "source": [
        "# ETE PORTO DIGITAL\n",
        "# DISCIPLINA: LPC\n",
        "# PROF.: CLOVES ROCHA\n",
        "# EXEMPLOS 2 - VETORES:"
      ],
      "execution_count": null,
      "outputs": []
    },
    {
      "cell_type": "code",
      "metadata": {
        "colab": {
          "base_uri": "https://localhost:8080/"
        },
        "id": "9GJnrkyfUdVa",
        "outputId": "f6384f1a-f9ef-480e-ecea-a99d49731bab"
      },
      "source": [
        "altura_peso_idade = [181, #altura \n",
        "                     100, #peso\n",
        "                     40 ] #idade\n",
        "\n",
        "print(altura_peso_idade)          "
      ],
      "execution_count": 3,
      "outputs": [
        {
          "output_type": "stream",
          "text": [
            "[181, 100, 40]\n"
          ],
          "name": "stdout"
        }
      ]
    },
    {
      "cell_type": "code",
      "metadata": {
        "colab": {
          "base_uri": "https://localhost:8080/"
        },
        "id": "RtX2Pf34VU7F",
        "outputId": "239093bd-fd53-4568-ee56-333fc373195e"
      },
      "source": [
        "notas = [10, #teste1\n",
        "         9,  #teste2\n",
        "         8,  #teste3\n",
        "         7 ] #teste4\n",
        "\n",
        "print(notas)"
      ],
      "execution_count": 11,
      "outputs": [
        {
          "output_type": "stream",
          "text": [
            "[10, 9, 8, 7]\n"
          ],
          "name": "stdout"
        }
      ]
    }
  ]
}