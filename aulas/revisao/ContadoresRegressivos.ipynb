{
  "nbformat": 4,
  "nbformat_minor": 0,
  "metadata": {
    "colab": {
      "name": "ContadoresRegressivos.ipynb",
      "provenance": []
    },
    "kernelspec": {
      "name": "python3",
      "display_name": "Python 3"
    },
    "language_info": {
      "name": "python"
    }
  },
  "cells": [
    {
      "cell_type": "code",
      "execution_count": 5,
      "metadata": {
        "colab": {
          "base_uri": "https://localhost:8080/"
        },
        "id": "bp4ybbXROzTG",
        "outputId": "8f6decc5-0638-49fc-85aa-9eb04e2c869a"
      },
      "outputs": [
        {
          "output_type": "stream",
          "name": "stdout",
          "text": [
            "30\n",
            "29\n",
            "28\n",
            "27\n",
            "26\n",
            "25\n",
            "24\n",
            "23\n",
            "22\n",
            "21\n",
            "20\n",
            "19\n",
            "18\n",
            "17\n",
            "16\n",
            "15\n",
            "14\n",
            "13\n",
            "12\n",
            "11\n",
            "10\n",
            "9\n",
            "8\n",
            "7\n",
            "6\n",
            "5\n",
            "4\n",
            "3\n",
            "2\n",
            "1\n",
            "decolar\n"
          ]
        }
      ],
      "source": [
        "def contRegressiva(n):\n",
        "  while(n):\n",
        "    print(n)\n",
        "    n=n-1\n",
        "  if n==0:\n",
        "    print('decolar')\n",
        "  else:\n",
        "    print(n)\n",
        "\n",
        "contRegressiva(30)"
      ]
    },
    {
      "cell_type": "code",
      "source": [
        "def contRegressiva(n):\n",
        "  while(n):\n",
        "    print(n)\n",
        "    n=n-1\n",
        "contRegressiva(5)\n",
        "print('decolar')"
      ],
      "metadata": {
        "colab": {
          "base_uri": "https://localhost:8080/"
        },
        "id": "ojbgk-S6Ptui",
        "outputId": "4c54c96c-65f9-4374-a95d-ebf5b3dd02b2"
      },
      "execution_count": 6,
      "outputs": [
        {
          "output_type": "stream",
          "name": "stdout",
          "text": [
            "5\n",
            "4\n",
            "3\n",
            "2\n",
            "1\n",
            "decolar\n"
          ]
        }
      ]
    },
    {
      "cell_type": "code",
      "source": [
        "#Tema principal: Recursividade Logica\n",
        "def contRegressiva(n):\n",
        "  print(n)\n",
        "  n=n-1\n",
        "  if n>0:\n",
        "    contRegressiva(n)\n",
        "  else:\n",
        "      print('decolar')\n",
        "\n",
        "contRegressiva(25)\n"
      ],
      "metadata": {
        "colab": {
          "base_uri": "https://localhost:8080/"
        },
        "id": "ha2OyJ_GQLYJ",
        "outputId": "701a0bd1-3d5c-43c4-ca7c-17b308815695"
      },
      "execution_count": 15,
      "outputs": [
        {
          "output_type": "stream",
          "name": "stdout",
          "text": [
            "25\n",
            "24\n",
            "23\n",
            "22\n",
            "21\n",
            "20\n",
            "19\n",
            "18\n",
            "17\n",
            "16\n",
            "15\n",
            "14\n",
            "13\n",
            "12\n",
            "11\n",
            "10\n",
            "9\n",
            "8\n",
            "7\n",
            "6\n",
            "5\n",
            "4\n",
            "3\n",
            "2\n",
            "1\n",
            "decolar\n"
          ]
        }
      ]
    }
  ]
}