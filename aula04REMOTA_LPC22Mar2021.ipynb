{
  "nbformat": 4,
  "nbformat_minor": 0,
  "metadata": {
    "colab": {
      "name": "aula04REMOTA-LPC22Mar2021",
      "provenance": [],
      "authorship_tag": "ABX9TyMtFuSP6/kt8wAiToQI78e3",
      "include_colab_link": true
    },
    "kernelspec": {
      "name": "python3",
      "display_name": "Python 3"
    }
  },
  "cells": [
    {
      "cell_type": "markdown",
      "metadata": {
        "id": "view-in-github",
        "colab_type": "text"
      },
      "source": [
        "<a href=\"https://colab.research.google.com/github/clovesrocha/ETEPDLPC/blob/master/aula04REMOTA_LPC22Mar2021.ipynb\" target=\"_parent\"><img src=\"https://colab.research.google.com/assets/colab-badge.svg\" alt=\"Open In Colab\"/></a>"
      ]
    },
    {
      "cell_type": "code",
      "metadata": {
        "colab": {
          "base_uri": "https://localhost:8080/"
        },
        "id": "7To8OtoLQL1R",
        "outputId": "c4dbd040-8ae6-48b5-c48b-42f9733d47a8"
      },
      "source": [
        "# ETE PORTO DIGITAL\n",
        "# DISCIPLINA: LPC\n",
        "# PROFESSORE: CLOVES ROCHA\n",
        "# ESTUDANTE: ---\n",
        "\n",
        "# Operadores Aritméticos - Python\n",
        "\n",
        "# Adição\n",
        "#2+3\n",
        "\n",
        "# Subtração\n",
        "#4-5\n",
        "\n",
        "# Multiplicação\n",
        "#3*5\n",
        "\n",
        "# Divisão\n",
        "#15/2\n",
        "\n",
        "# Exponenciação\n",
        "#3**10\n",
        "\n",
        "# Divisão Inteira\n",
        "#9//2\n",
        "\n",
        "# Resto da Divisão\n",
        "#10%2\n",
        "\n",
        "# Operadores Relacionais Simples.\n",
        "\n",
        "# Maior que >\n",
        "#a = 2\n",
        "#b = 3\n",
        "#print(a > b)\n",
        "\n",
        "# Menor que <\n",
        "#c = 5\n",
        "#d = 6\n",
        "#print(c < d)\n",
        "\n",
        "# Igual a ==\n",
        "#a = 2.1\n",
        "#b = 2\n",
        "#print(a == b)\n",
        "\n",
        "# Operadores Relacionais Compostos\n",
        "\n",
        "#nota1 = 5.9\n",
        "#nota2 = 7\n",
        "#nota3 = 9\n",
        "#nota4 = 6\n",
        "#mediafinal = (nota1 + nota2 + nota3 + nota4)/4\n",
        "#print(mediafinal)\n",
        "\n",
        "# Função print()\n",
        "print('Olá mundo!', 4, 2.5, True, False)\n"
      ],
      "execution_count": 48,
      "outputs": [
        {
          "output_type": "stream",
          "text": [
            "Olá mundo! 4 2.5 True False\n"
          ],
          "name": "stdout"
        }
      ]
    }
  ]
}