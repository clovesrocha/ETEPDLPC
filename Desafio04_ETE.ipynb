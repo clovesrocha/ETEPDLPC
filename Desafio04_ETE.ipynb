{
  "nbformat": 4,
  "nbformat_minor": 0,
  "metadata": {
    "colab": {
      "name": "Desafio04 ETE",
      "provenance": [],
      "collapsed_sections": [],
      "include_colab_link": true
    },
    "kernelspec": {
      "name": "python3",
      "display_name": "Python 3"
    },
    "language_info": {
      "name": "python"
    }
  },
  "cells": [
    {
      "cell_type": "markdown",
      "metadata": {
        "id": "view-in-github",
        "colab_type": "text"
      },
      "source": [
        "<a href=\"https://colab.research.google.com/github/lucasact4/Exercicios-ETE/blob/main/Desafio04_ETE.ipynb\" target=\"_parent\"><img src=\"https://colab.research.google.com/assets/colab-badge.svg\" alt=\"Open In Colab\"/></a>"
      ]
    },
    {
      "cell_type": "code",
      "execution_count": null,
      "metadata": {
        "id": "-mHFb7o53011",
        "outputId": "6f4bab97-20af-4881-96e7-cc606c25b6dd",
        "colab": {
          "base_uri": "https://localhost:8080/"
        }
      },
      "outputs": [
        {
          "output_type": "stream",
          "name": "stdout",
          "text": [
            "Digite o 1° número: 10\n",
            "Digite o 2° número: 8\n",
            "Digite o 3° número: 6\n",
            "Digite o 4° número: 4\n",
            "Digite o 5° número: 2\n",
            "[10, 8, 6, 4, 2]\n"
          ]
        }
      ],
      "source": [
        "# 1. Faça um Programa que leia um vetor de 5 números inteiros e mostre-os.\n",
        "vetor = []\n",
        "cont = 1\n",
        "for x in range(0, 5):\n",
        "  vetor.append(int(input(f'Digite o {cont}° número: ')))\n",
        "  cont = cont + 1\n",
        "print(vetor)"
      ]
    },
    {
      "cell_type": "code",
      "source": [
        "# 2. Faça um Programa que leia um vetor de 10 números reais e mostre-os na ordem inversa.\n",
        "vetor = []\n",
        "cont = 1\n",
        "for x in range(0, 10):\n",
        "  vetor.append(int(input(f'Digite o {cont}° número: ')))\n",
        "  cont = cont + 1\n",
        "vetor.reverse()\n",
        "print(vetor)"
      ],
      "metadata": {
        "id": "hexvt0Ek34sR",
        "outputId": "27ba3cf0-7338-431d-9504-be0b3c70ef35",
        "colab": {
          "base_uri": "https://localhost:8080/"
        }
      },
      "execution_count": null,
      "outputs": [
        {
          "output_type": "stream",
          "name": "stdout",
          "text": [
            "Digite o 1° número: 10\n",
            "Digite o 2° número: 9\n",
            "Digite o 3° número: 8\n",
            "Digite o 4° número: 7\n",
            "Digite o 5° número: 6\n",
            "Digite o 6° número: 5\n",
            "Digite o 7° número: 4\n",
            "Digite o 8° número: 3\n",
            "Digite o 9° número: 2\n",
            "Digite o 10° número: 1\n",
            "[1, 2, 3, 4, 5, 6, 7, 8, 9, 10]\n"
          ]
        }
      ]
    },
    {
      "cell_type": "code",
      "source": [
        "# 3. Faça um Programa que leia 4 notas, mostre as notas e a média na tela.\n",
        "notas = []\n",
        "cont = 1\n",
        "for x in range(0, 4):\n",
        "  notas.append(int(input(f'Digite a {cont}° nota: ')))\n",
        "  cont = cont + 1\n",
        "print(f'A média é: {sum(notas)/len(notas)}')"
      ],
      "metadata": {
        "id": "GN03-MDq340J",
        "outputId": "7f4582bf-f7ea-4d4b-fb07-a8db1d940fc9",
        "colab": {
          "base_uri": "https://localhost:8080/"
        }
      },
      "execution_count": null,
      "outputs": [
        {
          "output_type": "stream",
          "name": "stdout",
          "text": [
            "Digite a 1° nota: 10\n",
            "Digite a 2° nota: 8\n",
            "Digite a 3° nota: 6\n",
            "Digite a 4° nota: 4\n",
            "A média é: 7.0\n"
          ]
        }
      ]
    },
    {
      "cell_type": "code",
      "source": [
        "# 4. Faça um Programa que leia um vetor de 10 caracteres, e diga quantas consoantes foram lidas.\n",
        "# Imprima as consoantes.\n",
        "caracter = []\n",
        "cont = 1\n",
        "const = 0\n",
        "for x in range(0, 10):\n",
        "  car = str(input(f'Digite o {cont}° caractere: ')).upper()\n",
        "  caracter.append(car)\n",
        "  cont = cont + 1\n",
        "  if car != 'A' and caracter != 'E' and caracter != 'I' and caracter != 'O' and caracter != 'U':\n",
        "    const = const + 1\n",
        "print(f'Existem {const} consoantes !')\n"
      ],
      "metadata": {
        "id": "TdO5ltJq34-J",
        "outputId": "a293d0c5-0ef0-420e-a903-4f9cda9947ce",
        "colab": {
          "base_uri": "https://localhost:8080/"
        }
      },
      "execution_count": null,
      "outputs": [
        {
          "output_type": "stream",
          "name": "stdout",
          "text": [
            "Digite o 1° caractere: a\n",
            "Digite o 2° caractere: a\n",
            "Digite o 3° caractere: a\n",
            "Digite o 4° caractere: a\n",
            "Digite o 5° caractere: a\n",
            "Digite o 6° caractere: a\n",
            "Digite o 7° caractere: a\n",
            "Digite o 8° caractere: a\n",
            "Digite o 9° caractere: a\n",
            "Digite o 10° caractere: b\n",
            "Existem 1 consoantes !\n"
          ]
        }
      ]
    },
    {
      "cell_type": "code",
      "source": [
        "# 5. Faça um Programa que leia 20 números inteiros e armazene-os num vetor. Armazene os números\n",
        "# pares no vetor PAR e os números IMPARES no vetor impar. Imprima os três vetores.\n",
        "nums = []\n",
        "par = []\n",
        "impar = []\n",
        "cont = 1\n",
        "for x in range(0, 20):\n",
        "  num = int(input(f'Digite o {cont} número: '))\n",
        "  nums.append(num)\n",
        "  cont = cont + 1\n",
        "  if num % 2:\n",
        "    impar.append(num)\n",
        "  else:\n",
        "    par.append(num)\n",
        "print(f'Vetor de 20 números: {nums}\\nPares: {par}\\nÍmpares: {impar}')"
      ],
      "metadata": {
        "id": "9OFZ6Byw35Hh",
        "outputId": "eeb5a8a2-c4d2-4fa4-950a-016da5883f20",
        "colab": {
          "base_uri": "https://localhost:8080/"
        }
      },
      "execution_count": null,
      "outputs": [
        {
          "output_type": "stream",
          "name": "stdout",
          "text": [
            "Digite o 1 número: 10\n",
            "Digite o 2 número: 64\n",
            "Digite o 3 número: 51\n",
            "Digite o 4 número: 78\n",
            "Digite o 5 número: 87\n",
            "Digite o 6 número: 95\n",
            "Digite o 7 número: 36\n",
            "Digite o 8 número: 14\n",
            "Digite o 9 número: 12\n",
            "Digite o 10 número: 13\n",
            "Digite o 11 número: 14\n",
            "Digite o 12 número: 78\n",
            "Digite o 13 número: 984\n",
            "Digite o 14 número: 1\n",
            "Digite o 15 número: 4\n",
            "Digite o 16 número: 6\n",
            "Digite o 17 número: 5\n",
            "Digite o 18 número: 7\n",
            "Digite o 19 número: 9\n",
            "Digite o 20 número: 10\n",
            "Vetor de 20 números: [10, 64, 51, 78, 87, 95, 36, 14, 12, 13, 14, 78, 984, 1, 4, 6, 5, 7, 9, 10]\n",
            "Pares: [10, 64, 78, 36, 14, 12, 14, 78, 984, 4, 6, 10]\n",
            "Ímpares: [51, 87, 95, 13, 1, 5, 7, 9]\n"
          ]
        }
      ]
    },
    {
      "cell_type": "code",
      "source": [
        "# 6. Faça um Programa que peça as quatro notas de 10 alunos, calcule e armazene num vetor a média\n",
        "# de cada aluno, imprima o número de alunos com média maior ou igual a 7.0.\n",
        "media = []\n",
        "cont = 1\n",
        "for x in range(0, 10):\n",
        "  n1 = int(input(f'Digite a primeira nota do aluno N°{cont}: '))\n",
        "  n2 = int(input(f'Digite a segunda nota do aluno N°{cont}: '))\n",
        "  n3 = int(input(f'Digite a terceira nota do aluno N°{cont}: '))\n",
        "  n4 = int(input(f'Digite a quarta nota do aluno N°{cont}: '))\n",
        "  notas = (n1 + n2 + n3 + n4) / 4\n",
        "  if notas >= 7:\n",
        "    media.append(notas)\n",
        "  cont = cont + 1\n",
        "print(f'Total de alunos com média superior ou igual a 7.0: {len(media)}')"
      ],
      "metadata": {
        "id": "lfDhXaVh35P5",
        "outputId": "3dbfc905-15a7-49df-d5b3-3f5f9cf0dfd5",
        "colab": {
          "base_uri": "https://localhost:8080/"
        }
      },
      "execution_count": null,
      "outputs": [
        {
          "output_type": "stream",
          "name": "stdout",
          "text": [
            "Digite a primeira nota do aluno N°1: 7\n",
            "Digite a segunda nota do aluno N°1: 8\n",
            "Digite a terceira nota do aluno N°1: 9\n",
            "Digite a quarta nota do aluno N°1: 7\n",
            "Digite a primeira nota do aluno N°2: 5\n",
            "Digite a segunda nota do aluno N°2: 6\n",
            "Digite a terceira nota do aluno N°2: 7\n",
            "Digite a quarta nota do aluno N°2: 8\n",
            "Digite a primeira nota do aluno N°3: 6\n",
            "Digite a segunda nota do aluno N°3: 1\n",
            "Digite a terceira nota do aluno N°3: 4\n",
            "Digite a quarta nota do aluno N°3: 2\n",
            "Digite a primeira nota do aluno N°4: 3\n",
            "Digite a segunda nota do aluno N°4: 7\n",
            "Digite a terceira nota do aluno N°4: 9\n",
            "Digite a quarta nota do aluno N°4: 8\n",
            "Digite a primeira nota do aluno N°5: 4\n",
            "Digite a segunda nota do aluno N°5: 5\n",
            "Digite a terceira nota do aluno N°5: 7\n",
            "Digite a quarta nota do aluno N°5: 9\n",
            "Digite a primeira nota do aluno N°6: 10\n",
            "Digite a segunda nota do aluno N°6: 10\n",
            "Digite a terceira nota do aluno N°6: 3\n",
            "Digite a quarta nota do aluno N°6: 10\n",
            "Digite a primeira nota do aluno N°7: 7\n",
            "Digite a segunda nota do aluno N°7: 6\n",
            "Digite a terceira nota do aluno N°7: 9\n",
            "Digite a quarta nota do aluno N°7: 10\n",
            "Digite a primeira nota do aluno N°8: 4\n",
            "Digite a segunda nota do aluno N°8: 7\n",
            "Digite a terceira nota do aluno N°8: 8\n",
            "Digite a quarta nota do aluno N°8: 9\n",
            "Digite a primeira nota do aluno N°9: 10\n",
            "Digite a segunda nota do aluno N°9: 4\n",
            "Digite a terceira nota do aluno N°9: 6\n",
            "Digite a quarta nota do aluno N°9: 7\n",
            "Digite a primeira nota do aluno N°10: 9\n",
            "Digite a segunda nota do aluno N°10: 3\n",
            "Digite a terceira nota do aluno N°10: 4\n",
            "Digite a quarta nota do aluno N°10: 10\n",
            "Total de alunos com média superior ou igual a 7.0: 4\n"
          ]
        }
      ]
    },
    {
      "cell_type": "code",
      "source": [
        "# 7. Faça um Programa que leia um vetor de 5 números inteiros,\n",
        "# mostre a soma, a multiplicação e os números.\n",
        "vetor = []\n",
        "cont = 1\n",
        "for x in range(0, 5):\n",
        "  vetor.append(int(input(f'Digite o {cont}° número: ')))\n",
        "  cont = cont + 1\n",
        "print(f'Soma: {vetor[0]+vetor[1]+vetor[2]+vetor[3]+vetor[4]}')\n",
        "print(f'Multiplicação: {vetor[0]*vetor[1]*vetor[2]*vetor[3]*vetor[4]}')\n",
        "print(f'Vetor: {vetor}')"
      ],
      "metadata": {
        "id": "Hdj3ubH035WK",
        "outputId": "51d73f03-335f-4219-8a25-33ef69c7cbe2",
        "colab": {
          "base_uri": "https://localhost:8080/"
        }
      },
      "execution_count": null,
      "outputs": [
        {
          "output_type": "stream",
          "name": "stdout",
          "text": [
            "Digite o 1° número: 1\n",
            "Digite o 2° número: 3\n",
            "Digite o 3° número: 5\n",
            "Digite o 4° número: 4\n",
            "Digite o 5° número: 2\n",
            "Soma: 15\n",
            "Multiplicação: 120\n",
            "Vetor: [1, 3, 5, 4, 2]\n"
          ]
        }
      ]
    },
    {
      "cell_type": "code",
      "source": [
        "# 8. Faça um Programa que peça a idade e a altura de 5 pessoas, armazene cada informação\n",
        "# no seu respectivo vetor. Imprima a idade e a altura na ordem inversa a ordem lida.\n",
        "idade = []\n",
        "altura = []\n",
        "cont = 1\n",
        "for x in range(0, 5):\n",
        "  idade.append(int(input(f'Digite a idade da {cont}° pessoa: ')))\n",
        "  altura.append(float(input(f'Digite a altura da {cont}° pessoa em CM: ')))\n",
        "  cont = cont + 1\n",
        "idade.reverse()\n",
        "altura.reverse()\n",
        "print(f'Altura: {altura}')\n",
        "print(f'Idade: {idade}')"
      ],
      "metadata": {
        "id": "kd0wkgvH35cq",
        "outputId": "33140a10-06d9-4258-9aae-2c4af02693bd",
        "colab": {
          "base_uri": "https://localhost:8080/"
        }
      },
      "execution_count": null,
      "outputs": [
        {
          "output_type": "stream",
          "name": "stdout",
          "text": [
            "Digite a idade da 1° pessoa: 10\n",
            "Digite a altura da 1° pessoa em CM: 1.40\n",
            "Digite a idade da 2° pessoa: 20\n",
            "Digite a altura da 2° pessoa em CM: 1.80\n",
            "Digite a idade da 3° pessoa: 18\n",
            "Digite a altura da 3° pessoa em CM: 1.75\n",
            "Digite a idade da 4° pessoa: 40\n",
            "Digite a altura da 4° pessoa em CM: 1.60\n",
            "Digite a idade da 5° pessoa: 80\n",
            "Digite a altura da 5° pessoa em CM: 1.45\n",
            "Altura: [1.45, 1.6, 1.75, 1.8, 1.4]\n",
            "Idade: [80, 40, 18, 20, 10]\n"
          ]
        }
      ]
    },
    {
      "cell_type": "code",
      "source": [
        "# 9. Faça um Programa que leia um vetor A com 10 números inteiros, calcule\n",
        "# e mostre a soma dos quadrados dos elementos do vetor.\n",
        "vetor = []\n",
        "soma = 0\n",
        "cont = 1\n",
        "for x in range(0, 10):\n",
        "  vetor.append(int(input(f'Digite o {cont}° número: ')))\n",
        "  soma = soma + (vetor[len(vetor)-1]**2)\n",
        "  cont = cont + 1\n",
        "print(f'A soma dos quadrados dos elementos do vetor é: {str(soma)}')"
      ],
      "metadata": {
        "id": "HAiwMvwC35hg",
        "outputId": "1536e556-bb96-4a74-d2ac-9f9139d5834e",
        "colab": {
          "base_uri": "https://localhost:8080/"
        }
      },
      "execution_count": 2,
      "outputs": [
        {
          "output_type": "stream",
          "name": "stdout",
          "text": [
            "Digite o 1° número: 1\n",
            "Digite o 2° número: 1\n",
            "Digite o 3° número: 1\n",
            "Digite o 4° número: 1\n",
            "Digite o 5° número: 1\n",
            "Digite o 6° número: 1\n",
            "Digite o 7° número: 1\n",
            "Digite o 8° número: 1\n",
            "Digite o 9° número: 1\n",
            "Digite o 10° número: 1\n",
            "A soma dos quadrados dos elementos do vetor é: 10\n"
          ]
        }
      ]
    },
    {
      "cell_type": "code",
      "source": [
        "# 10. Faça um Programa que leia dois vetores com 10 elementos cada. Gere um terceiro vetor de\n",
        "# 20 elementos, cujos valores deverão ser compostos pelos elementos intercalados dos dois outros vetores\n",
        "vetor1 = []\n",
        "vetor2 = []\n",
        "vetor3 = []\n",
        "cont = 1\n",
        "for elemento in range(0, 10):\n",
        "  vetor1.append(int(input(f'Digite o {cont}° elemento da primeira lista: ')))\n",
        "  cont = cont + 1\n",
        "cont = 1\n",
        "for elemento in range(0, 10):\n",
        "  vetor2.append(int(input(f'Digite o {cont}° elemento da segunda lista: ')))\n",
        "  cont = cont + 1\n",
        "for elemento in range(0, 10):\n",
        "  vetor3.append(vetor1[elemento])\n",
        "  vetor3.append(vetor2[elemento])\n",
        "print(vetor3)"
      ],
      "metadata": {
        "id": "5nCp5ycj35my",
        "outputId": "8565f114-dcba-4fb5-a0bc-d3bd9d9579b0",
        "colab": {
          "base_uri": "https://localhost:8080/"
        }
      },
      "execution_count": 3,
      "outputs": [
        {
          "output_type": "stream",
          "name": "stdout",
          "text": [
            "Digite o 1° elemento da primeira lista: 1\n",
            "Digite o 2° elemento da primeira lista: 3\n",
            "Digite o 3° elemento da primeira lista: 5\n",
            "Digite o 4° elemento da primeira lista: 7\n",
            "Digite o 5° elemento da primeira lista: 9\n",
            "Digite o 6° elemento da primeira lista: 11\n",
            "Digite o 7° elemento da primeira lista: 13\n",
            "Digite o 8° elemento da primeira lista: 15\n",
            "Digite o 9° elemento da primeira lista: 17\n",
            "Digite o 10° elemento da primeira lista: 19\n",
            "Digite o 1° elemento da segunda lista: 2\n",
            "Digite o 2° elemento da segunda lista: 4\n",
            "Digite o 3° elemento da segunda lista: 6\n",
            "Digite o 4° elemento da segunda lista: 8\n",
            "Digite o 5° elemento da segunda lista: 10\n",
            "Digite o 6° elemento da segunda lista: 12\n",
            "Digite o 7° elemento da segunda lista: 14\n",
            "Digite o 8° elemento da segunda lista: 16\n",
            "Digite o 9° elemento da segunda lista: 18\n",
            "Digite o 10° elemento da segunda lista: 20\n",
            "[1, 2, 3, 4, 5, 6, 7, 8, 9, 10, 11, 12, 13, 14, 15, 16, 17, 18, 19, 20]\n"
          ]
        }
      ]
    }
  ]
}