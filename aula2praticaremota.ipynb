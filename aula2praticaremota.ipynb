{
  "nbformat": 4,
  "nbformat_minor": 0,
  "metadata": {
    "colab": {
      "name": "aula2.ipynb",
      "provenance": [],
      "collapsed_sections": [],
      "authorship_tag": "ABX9TyNjCqfldoSF1ILKuY4DFwdY",
      "include_colab_link": true
    },
    "kernelspec": {
      "name": "python3",
      "display_name": "Python 3"
    }
  },
  "cells": [
    {
      "cell_type": "markdown",
      "metadata": {
        "id": "view-in-github",
        "colab_type": "text"
      },
      "source": [
        "<a href=\"https://colab.research.google.com/github/clovesrocha/ETEPDLPC/blob/master/aula2praticaremota.ipynb\" target=\"_parent\"><img src=\"https://colab.research.google.com/assets/colab-badge.svg\" alt=\"Open In Colab\"/></a>"
      ]
    },
    {
      "cell_type": "markdown",
      "metadata": {
        "id": "k6y2iSIkI_GQ"
      },
      "source": [
        ""
      ]
    },
    {
      "cell_type": "code",
      "metadata": {
        "id": "KVh_veTl6Tnb",
        "colab": {
          "base_uri": "https://localhost:8080/"
        },
        "outputId": "9d33bb7e-8862-41dd-fc47-7bb161ab86c9"
      },
      "source": [
        "# ETE PORTO DIGITAL\n",
        "# LPC - Introdução a Python\n",
        "# Aula 2\n",
        "# Prof. Cloves Rocha\n",
        "# Estudante: -----\n",
        "\n",
        "#VARIAVEIS  \n",
        "#a = 10\n",
        "#b = 5\n",
        "#print(a >= b)\n",
        "\n",
        "#FUNÇÃO PRINT\n",
        "#print ('Olá mundo!', 'estou imprimindo números e palavras', 2, 2.5, True, False)\n",
        "#print('Olá mundo!', '2', 2.5, True, False)\n",
        "cpf = 125\n",
        "print(f'O CPF {cpf} é invalido!')\n",
        "\n",
        "#nome = input('Digite seu nome: ')\n",
        "#print(f'Seu nome é {nome}.')\n",
        "\n",
        "#idade = input('Digite sua idade: ')\n",
        "#print(f'Você tem {idade} anos.')\n",
        "\n",
        "#idade = input('Digite sua idade: ')\n",
        "#print(f'Você tem {idade} anos.')\n",
        "#print(type(idade))\n",
        "\n",
        "#idade = int(input('Digite sua idade: '))\n",
        "#print(f'Você tem {idade} anos.')\n",
        "#print(type(idade))\n",
        "\n",
        "#nota = float(input('Digite a nota: '))\n",
        "#print(f'Sua nota final é {nota} ')\n",
        "#print(type(nota))\n",
        "\n",
        "#num = int(input('Digite um número: '))\n",
        "#if num % 2 == 0:\n",
        "#    print(f'O número {num} é par')\n",
        "#else:\n",
        "#    print(f'O número {num} é ímpar')\n",
        "\n",
        "#num = float(input('Digite um número: '))\n",
        "#if num > 0:\n",
        "#   print('Este número é positivo')\n",
        "#elif num == 0:\n",
        "#   print('Este número é neutro')\n",
        "#else:\n",
        "#   print('Este número é negativo')\n",
        "\n",
        "# resposta = int( input('Qual sua idade: ') )\n",
        "# if resposta>=18 and resposta <=65:\n",
        "#   print('Você é obrigado a votar!')\n",
        "# else:\n",
        "#   print('Você não é obrigado a votar!')\n",
        "\n",
        "#print('1. Idoso')\n",
        "#print('2. Gestante')\n",
        "#print('3. Cadeirante')\n",
        "#print('4. Nenhum destes')\n",
        "#print('5. Teste 5')\n",
        "#resposta=int( input('Você é: ') )\n",
        "\n",
        "#if (resposta==1) or (resposta==2) or (resposta==3) or (resposta==4):\n",
        "#   print('Você tem direito a fila prioritária')\n",
        "#else:\n",
        "#   print('Você não tem direito a nada. Vá pra fila e fique quieto')\n",
        "\n",
        "#a = 4\n",
        "#b = 3\n",
        "#print(not a > b)\n",
        "\n",
        "#banda = input('Qual melhor banda do mundo? ')\n",
        "\n",
        "#if not banda=='Beatles':\n",
        "#   print('Herege!')\n",
        "#else:\n",
        "#   print('Correto, são os Beatles!')"
      ],
      "execution_count": 26,
      "outputs": [
        {
          "output_type": "stream",
          "text": [
            "O CPF 125 é invalido!\n"
          ],
          "name": "stdout"
        }
      ]
    }
  ]
}