{
  "nbformat": 4,
  "nbformat_minor": 0,
  "metadata": {
    "colab": {
      "name": "dueloTORREdeHANOI.ipynb",
      "provenance": [],
      "authorship_tag": "ABX9TyPIHlV4OBXw+RG/0VANgB4e",
      "include_colab_link": true
    },
    "kernelspec": {
      "name": "python3",
      "display_name": "Python 3"
    },
    "language_info": {
      "name": "python"
    }
  },
  "cells": [
    {
      "cell_type": "markdown",
      "metadata": {
        "id": "view-in-github",
        "colab_type": "text"
      },
      "source": [
        "<a href=\"https://colab.research.google.com/github/clovesrocha/ETEPDLPC/blob/master/dueloTORREdeHANOI.ipynb\" target=\"_parent\"><img src=\"https://colab.research.google.com/assets/colab-badge.svg\" alt=\"Open In Colab\"/></a>"
      ]
    },
    {
      "cell_type": "code",
      "metadata": {
        "id": "0S0vxxxmUNYy"
      },
      "source": [
        "# ETE PORTO DIGITAL\n",
        "# DISCIPLINA: LPC\n",
        "# PROFESSOR: CLOVES ROCHA\n",
        "# PROBLEMA: TORRE DE HANOI - EXEMPLO CLÁSSICO.\n",
        "\n",
        "torreA  =  [ 3 ,  2 ,  1 ] \n",
        "torreB  =  [] \n",
        "torreC  =  []\n",
        "\n",
        "def  mover (n, fonte, destino, auxiliar): \n",
        "    se  n  >  0 : \n",
        "        # Mova n - 1 discos da fonte para o auxiliar, para que eles fiquem fora do caminho, \n",
        "        mova ( n  -  1 ,  fonte ,  auxiliar ,  destino )\n",
        "\n",
        "        # Mova o enésimo disco da origem ao \n",
        "        destino . anexar ( fonte . pop ())\n",
        "\n",
        "        # Exibir nosso progresso de \n",
        "        impressão ( torreA , torreB , torreC ,  '#################' ,  sep = ' \\ n ' )\n",
        "\n",
        "        # Mova os n - 1 discos que deixamos como auxiliares para o \n",
        "        movimento de destino ( n  -  1 ,  auxiliar ,  destino ,  origem )\n",
        "\n",
        "# Inicie a chamada da origem A para o destino C com o \n",
        "movimento auxiliar torreB ( 3 ,  torreA , torreC , torreB )"
      ],
      "execution_count": null,
      "outputs": []
    }
  ]
}