{
  "nbformat": 4,
  "nbformat_minor": 0,
  "metadata": {
    "colab": {
      "name": "dinamicareplitSherman.ipynb",
      "provenance": [],
      "authorship_tag": "ABX9TyOo/fjMh4prTmSFnzdhksoa",
      "include_colab_link": true
    },
    "kernelspec": {
      "name": "python3",
      "display_name": "Python 3"
    },
    "language_info": {
      "name": "python"
    }
  },
  "cells": [
    {
      "cell_type": "markdown",
      "metadata": {
        "id": "view-in-github",
        "colab_type": "text"
      },
      "source": [
        "<a href=\"https://colab.research.google.com/github/clovesrocha/ETEPDLPC/blob/master/dinamicareplitSherman.ipynb\" target=\"_parent\"><img src=\"https://colab.research.google.com/assets/colab-badge.svg\" alt=\"Open In Colab\"/></a>"
      ]
    },
    {
      "cell_type": "code",
      "metadata": {
        "colab": {
          "base_uri": "https://localhost:8080/"
        },
        "id": "XmOMvWju85kl",
        "outputId": "bcef9d9d-c46e-4caf-dcbb-1dbc46e364c3"
      },
      "source": [
        "# ETE PD - LPC \n",
        "# Dinâmica no replit\n",
        "# Somar/Listar dois vetores com 15 dados diferentes em cada um deles.\n",
        "# Sherman 1ano B. - PARABÉNS!\n",
        "vet1 = [1, 2, 3, 4, 5, 6, 7, 8, 9, 10, 11, 12, 13, 14, 15]\n",
        "vet2 = [10, 20, 30, 40, 50, 60, 70, 80, 90, 100, 110, 120, 130, 140, 150]\n",
        "\n",
        "vetSoma = []\n",
        "\n",
        "tam = len(vet1)\n",
        "\n",
        "for _ in range(0, tam):\n",
        "  vetSoma.append(vet1[0] + vet2[0])\n",
        "  vet1.pop(0)\n",
        "  vet2.pop(0)\n",
        "print(vetSoma)"
      ],
      "execution_count": 1,
      "outputs": [
        {
          "output_type": "stream",
          "text": [
            "[11, 22, 33, 44, 55, 66, 77, 88, 99, 110, 121, 132, 143, 154, 165]\n"
          ],
          "name": "stdout"
        }
      ]
    }
  ]
}