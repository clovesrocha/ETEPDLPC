{
  "nbformat": 4,
  "nbformat_minor": 0,
  "metadata": {
    "colab": {
      "name": "LP_i_oo.ipynb",
      "provenance": [],
      "authorship_tag": "ABX9TyNfHxZDbMrSuIJ0yVC/D3+S",
      "include_colab_link": true
    },
    "kernelspec": {
      "name": "python3",
      "display_name": "Python 3"
    },
    "language_info": {
      "name": "python"
    }
  },
  "cells": [
    {
      "cell_type": "markdown",
      "metadata": {
        "id": "view-in-github",
        "colab_type": "text"
      },
      "source": [
        "<a href=\"https://colab.research.google.com/github/clovesrocha/ETEPDLPC/blob/master/LP_i_oo.ipynb\" target=\"_parent\"><img src=\"https://colab.research.google.com/assets/colab-badge.svg\" alt=\"Open In Colab\"/></a>"
      ]
    },
    {
      "cell_type": "code",
      "execution_count": null,
      "metadata": {
        "colab": {
          "base_uri": "https://localhost:8080/"
        },
        "id": "lDb5Wo1_5mll",
        "outputId": "174e11e6-e15b-4ab2-9b6d-b408bde457bf"
      },
      "outputs": [
        {
          "output_type": "stream",
          "name": "stdout",
          "text": [
            "Maria dos Santos\n",
            "Trabalha\n",
            "Maga\n"
          ]
        }
      ],
      "source": [
        "#ETE Porto Digital\n",
        "#Prof. Cloves Rocha\n",
        "class Estudante:\n",
        " def __init__(self, nome_completo, nome, origem, tipo, nivel_dificuldade):\n",
        "    self.nome_completo = nome_completo\n",
        "    self.nome = nome\n",
        "    self.origem = origem\n",
        "    self.tipo = tipo\n",
        "    self.nivel_dificuldade = nivel_dificuldade\n",
        "\n",
        "maria = Estudante('Maria dos Santos', 'Mari', 'Trabalha', 'Maga', 2)\n",
        "print( maria.nome_completo + \"\\n\" + maria.origem + \"\\n\" + maria.tipo)\n",
        "\n"
      ]
    }
  ]
}