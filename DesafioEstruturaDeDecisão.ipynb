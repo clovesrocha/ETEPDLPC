{
  "nbformat": 4,
  "nbformat_minor": 0,
  "metadata": {
    "colab": {
      "name": "DesafioEstruturaDeDecisão.ipynb",
      "provenance": [],
      "collapsed_sections": [],
      "authorship_tag": "ABX9TyMIPxWuMHdjsj7+Bk94/2g/"
    },
    "kernelspec": {
      "name": "python3",
      "display_name": "Python 3"
    },
    "language_info": {
      "name": "python"
    }
  },
  "cells": [
    {
      "cell_type": "code",
      "execution_count": null,
      "metadata": {
        "id": "OsvfEM4v7twa",
        "colab": {
          "base_uri": "https://localhost:8080/"
        },
        "outputId": "c9db7ad7-63c9-4abc-f316-3b0e8e111d80"
      },
      "outputs": [
        {
          "output_type": "stream",
          "name": "stdout",
          "text": [
            "Digite o primero numero: 10\n",
            "Digite o segundo numero: 20\n",
            "20 é maior que 10\n"
          ]
        }
      ],
      "source": [
        "# ETE PORTO DIGITAL\n",
        "# DISCIPLINA: LÓGICA DE PROGRAMAÇÃO\n",
        "# PROFESSOR: CLOVES ROCHA\n",
        "# ALUNA: LUCILA SILVA\n",
        "\n",
        "# 1. Faça um Programa que peça dois números e imprima o maior deles.\n",
        "num1 = input('Digite o primero numero: ')\n",
        "num2 = input('Digite o segundo numero: ')\n",
        "if num1 > num2:\n",
        "    print(num1,'é maior que',num2)\n",
        "elif num2 > num1:\n",
        "    print(num2,'é maior que', num1)\n",
        "else: \n",
        "    print('os numeros são iguais')"
      ]
    },
    {
      "cell_type": "code",
      "source": [
        "# 2. Faça um Programa que peça um valor e mostre na tela se o valor é positivo ou negativo.\n",
        "num = float(input('Digite uma número   '))\n",
        "if num > 0:\n",
        "  print('Este número é positivo')\n",
        "elif num == 0:\n",
        "  print('Este número é neutro')  \n",
        "else:\n",
        "  print('este número é negativo')"
      ],
      "metadata": {
        "colab": {
          "base_uri": "https://localhost:8080/"
        },
        "id": "ZCYcYrzb8UZH",
        "outputId": "9b3db8dc-bdc9-4dad-baad-4f1f0809f217"
      },
      "execution_count": null,
      "outputs": [
        {
          "output_type": "stream",
          "name": "stdout",
          "text": [
            "Digite uma número   5\n",
            "Este número é positivo\n"
          ]
        }
      ]
    },
    {
      "cell_type": "code",
      "source": [
        "# 3. Faça um Programa que verifique se uma letra digitada é \"F\" ou \"M\". Conforme a letra escrever: F - Feminino, M - Masculino, Sexo Inválido.\n",
        "sexo=input('Digite seus sexo [F/M]')\n",
        "if sexo == 'M':\n",
        "  print('Masculino')\n",
        "elif sexo == 'F':\n",
        "  print('Feminino')\n",
        "else:\n",
        "  print('Sexo inválido')  \n"
      ],
      "metadata": {
        "id": "TckEN5_48utW",
        "colab": {
          "base_uri": "https://localhost:8080/"
        },
        "outputId": "a6c5a6dc-405c-466f-cefa-eaee0aeefc38"
      },
      "execution_count": null,
      "outputs": [
        {
          "output_type": "stream",
          "name": "stdout",
          "text": [
            "Digite seus sexo [F/M]F\n",
            "Feminino\n"
          ]
        }
      ]
    },
    {
      "cell_type": "code",
      "source": [
        "# 4. Faça um Programa que verifique se uma letra digitada é vogal ou consoante.\n",
        "letra = input('Digite uma letra: ')\n",
        "vogais = 'aeiou'\n",
        "if letra in vogais:\n",
        "  print(letra, 'é uma vogal')\n",
        "else:\n",
        "  print(letra, 'é uma consoante')  "
      ],
      "metadata": {
        "id": "xJnAHJyu9gVA",
        "colab": {
          "base_uri": "https://localhost:8080/"
        },
        "outputId": "1c73083a-ba01-4362-dbc5-1d8fc9da3f8d"
      },
      "execution_count": null,
      "outputs": [
        {
          "output_type": "stream",
          "name": "stdout",
          "text": [
            "Digite uma letra: b\n",
            "b é uma consoante\n"
          ]
        }
      ]
    },
    {
      "cell_type": "code",
      "source": [
        "# 5. Faça um Programa que leia três números e mostre o maior deles.\n",
        "num1 = int(input('Digite o primeiro número:  '))\n",
        "num2 = int(input('Digite o segundo número:  '))\n",
        "num3 = int(input('Digite o terceiro número:  '))\n",
        "if num1 > num2 and num1 > num3:\n",
        "  print('O primeiro número digitado é o maior:  ', num1)\n",
        "elif num2 > num1 and num2 > num3:\n",
        "  print('O segundo número é o maior:  ', num2)\n",
        "elif num3 > num1 and num3 > num2:\n",
        "  print('O terceiro número digitado é o maior:  ', num3)    "
      ],
      "metadata": {
        "id": "IXcfc8JY9lHm",
        "colab": {
          "base_uri": "https://localhost:8080/"
        },
        "outputId": "0f1eee3d-b7a9-45f0-aa00-bdf4eee2d537"
      },
      "execution_count": null,
      "outputs": [
        {
          "output_type": "stream",
          "name": "stdout",
          "text": [
            "Digite o primeiro número:  10\n",
            "Digite o segundo número:  100\n",
            "Digite o terceiro número:  30\n",
            "O segundo número é o maior:   100\n"
          ]
        }
      ]
    },
    {
      "cell_type": "code",
      "source": [
        "# 6. Faça um Programa que leia três números e mostre o maior e o menor deles.\n",
        "num1 = int(input('Digite o primeiro número:  '))\n",
        "num2 = int(input('Digite o segundo número:  '))\n",
        "num3 = int(input('Digite o terceiro número:  '))\n",
        "def maior ():\n",
        " if num1 > num2 and num1 > num3:\n",
        "  print('O primeiro número digitado é o maior:  ', num1)\n",
        " elif num2 > num1 and num2 > num3:\n",
        "  print('O segundo número é o maior:  ', num2)\n",
        " elif num3 > num1 and num3 > num2:\n",
        "  print('O terceiro número digitado é o maior:  ', num3)  \n",
        "def menor ():\n",
        " if num1 < num2 and num1 < num3:\n",
        "  print('O primeiro número digitado é o menor:  ', num1)\n",
        " elif num2 < num1 and num2 < num3:\n",
        "  print('O segundo número é o menor:  ', num2)\n",
        " elif num3 < num1 and num3 < num2:\n",
        "  print('O terceiro número digitado é o menor:  ', num3)\n",
        "maior()  \n",
        "menor()"
      ],
      "metadata": {
        "id": "J4VmQ9zx9w39",
        "colab": {
          "base_uri": "https://localhost:8080/"
        },
        "outputId": "c7f4d8f9-a64d-4937-889c-77398ec0fe30"
      },
      "execution_count": null,
      "outputs": [
        {
          "output_type": "stream",
          "name": "stdout",
          "text": [
            "Digite o primeiro número:  10\n",
            "Digite o segundo número:  20\n",
            "Digite o terceiro número:  30\n",
            "O terceiro número digitado é o maior:   30\n",
            "O primeiro número digitado é o menor:   10\n"
          ]
        }
      ]
    },
    {
      "cell_type": "code",
      "source": [
        "# 7. Faça um programa que pergunte o preço de três produtos e informe qual produto você deve comprar, sabendo que a decisão é sempre pelo mais barato.\n",
        "p1 = input(\"Digite o preço do primeiro produto: \")\n",
        "p2 = input(\"Digite o preço do segundo produto: \")\n",
        "p3 = input(\"Digite o preço do terceiro produto: \")\n",
        "\n",
        "def menor():\n",
        "    if p1 < p2 and p1 < p3:\n",
        "        print('O primeiro produto é o mais barato')\n",
        "    elif p2 < p1 and p2 < p3:\n",
        "        print('O segundo produto é o mais barato')\n",
        "    elif p3 < p1 and p3 < p2:\n",
        "        print('O produto 3 é o mais barato')\n",
        "menor()"
      ],
      "metadata": {
        "id": "W8BMswlJ93lu",
        "colab": {
          "base_uri": "https://localhost:8080/"
        },
        "outputId": "1f3ebfe3-b66b-42a3-ee58-2a8c69500739"
      },
      "execution_count": null,
      "outputs": [
        {
          "output_type": "stream",
          "name": "stdout",
          "text": [
            "Digite o preço do primeiro produto: 50\n",
            "Digite o preço do segundo produto: 40\n",
            "Digite o preço do terceiro produto: 30\n",
            "O produto 3 é o mais barato\n"
          ]
        }
      ]
    },
    {
      "cell_type": "code",
      "source": [
        "# 8. Faça um Programa que leia três números e mostre-os em ordem decrescente.\n",
        "num1 = int(input('Digite o primeiro número:  '))\n",
        "num2 = int(input('Digite o segundo número:  '))\n",
        "num3 = int(input('Digite o terceiro número:  '))\n",
        "if num1 > num2 > num3:\n",
        "  print(num1,num2, num3) \n",
        "elif num1 > num3 > num2:\n",
        "  print(num1, num3, num2)\n",
        "elif num2 > num1 > num3:\n",
        "  print(num2, num1, num3)\n",
        "elif num2 > num3 > num1:\n",
        "  print(num2, num3, num1)\n",
        "elif num3 > num1 > num2:\n",
        "  print(num3, num1, num2)\n",
        "else:\n",
        "  print(num3, num2, num1)  \n"
      ],
      "metadata": {
        "id": "GeMWLNUD98Bm",
        "colab": {
          "base_uri": "https://localhost:8080/"
        },
        "outputId": "615688e9-5200-457e-cf70-4b223cf7bbd7"
      },
      "execution_count": null,
      "outputs": [
        {
          "output_type": "stream",
          "name": "stdout",
          "text": [
            "Digite o primeiro número:  5\n",
            "Digite o segundo número:  7\n",
            "Digite o terceiro número:  20\n",
            "20 7 5\n"
          ]
        }
      ]
    },
    {
      "cell_type": "code",
      "source": [
        "# 9. Faça um Programa que pergunte em que turno você estuda. Peça para digitar M-matutino ou V-Vespertino ou N- Noturno. Imprima a mensagem \"Bom Dia!\", \"Boa Tarde!\" ou \"Boa Noite!\" ou \"Valor Inválido!\", conforme o caso.\n",
        "turno = str(input('Digite em que turno você estuda: M=matutino, V=vespertino ou N=Noturno [M/V/N]:  '))\n",
        "if turno == 'M':\n",
        "  print('Bom dia!')\n",
        "elif turno == 'V':\n",
        "  print('Boa tarde!')\n",
        "elif turno == 'N':\n",
        "  print('Boa noite!')\n",
        "else:\n",
        "  print('Valor inválido!')      "
      ],
      "metadata": {
        "id": "K5is_XjR9_Ke",
        "colab": {
          "base_uri": "https://localhost:8080/"
        },
        "outputId": "cfa50c1a-b885-4405-86b7-a71747c5e88b"
      },
      "execution_count": null,
      "outputs": [
        {
          "output_type": "stream",
          "name": "stdout",
          "text": [
            "Digite em que turno você estuda: M=matutino, V=vespertino ou N=Noturno [M/V/N]:  N\n",
            "Boa noite!\n"
          ]
        }
      ]
    },
    {
      "cell_type": "code",
      "source": [
        "# 10. Faça um Programa que peça um número correspondente a um determinado ano e em seguida informe se este ano é ou não bissexto.\n",
        "ano = int(input('Digite um ano:    '))\n",
        "if (ano%4==0 and ano%100!=0) or (ano%400==0):\n",
        "  print('O ano informado é Bissexto')\n",
        "else:\n",
        "  print('O ano informado não é Bissexto')  \n"
      ],
      "metadata": {
        "id": "Wyh-IIf--InJ",
        "colab": {
          "base_uri": "https://localhost:8080/"
        },
        "outputId": "6cc8d01b-1a8b-48da-fc27-f99f7498328b"
      },
      "execution_count": null,
      "outputs": [
        {
          "output_type": "stream",
          "name": "stdout",
          "text": [
            "Digite um ano:    2022\n",
            "O ano informado não é Bissexto\n"
          ]
        }
      ]
    },
    {
      "cell_type": "code",
      "source": [
        "# 11. Faça um Programa que peça uma data no formato dd/mm/aaaa e determine se a mesma é uma data válida.\n",
        "data = input(\"digite uma data com o seguinte formato dd/mm/aaaa ---> \")\n",
        "dia = int(data[0:2])\n",
        "mes = int(data[3:5])\n",
        "ano = int(data[6:10])\n",
        "\n",
        "validade = \"true\"\n",
        "i = 0\n",
        "while validade == \"true\" and i == 0:\n",
        "    if (ano%4 == 0 and ano%100!= 0) or ano%400 == 0:\n",
        "        bissexto = \"sim\"\n",
        "    else:\n",
        "        bissexto = \"nao\"\n",
        "\n",
        "    if mes < 1 or mes > 12:\n",
        "        validade = \"false\"\n",
        "\n",
        "    if dia > 31 or ((mes == 4 or mes == 6 or mes == 9 or mes == 11) and dia > 30):\n",
        "        validade = \"false\"\n",
        "\n",
        "    if (mes == 2 and bissexto == \"nao\" and dia > 28) or ( mes == 2 and bissexto == \"sim\" and dia > 29):\n",
        "        validade = \"false\"\n",
        "    i = i + 1\n",
        "\n",
        "if validade == \"true\":\n",
        "    print(\"data valida\")\n",
        "else:\n",
        "    print(\"data invalida\")\n",
        "    "
      ],
      "metadata": {
        "id": "Tc-pcyJG-Mie",
        "colab": {
          "base_uri": "https://localhost:8080/"
        },
        "outputId": "4df3da3e-6fd8-4850-edfc-e8a995d7cda0"
      },
      "execution_count": null,
      "outputs": [
        {
          "output_type": "stream",
          "name": "stdout",
          "text": [
            "digite uma data com o seguinte formato dd/mm/aaaa ---> 05/13/2022\n",
            "data invalida\n"
          ]
        }
      ]
    },
    {
      "cell_type": "code",
      "source": [
        "# 12. Faça um programa que faça 5 perguntas para uma pessoa sobre um crime. As perguntas são:\n",
        "# a. \"Telefonou para a vítima?\"\n",
        "# b. \"Esteve no local do crime?\"\n",
        "# c. \"Mora perto da vítima?\"\n",
        "# d. \"Devia para a vítima?\"\n",
        "# e. \"Já trabalhou com a vítima?\" O programa deve no final emitir uma classificação sobre a participação da pessoa no crime. \n",
        "# Se a pessoa responder positivamente a 2 questões ela deve ser classificada como \"Suspeita\", entre 3 e 4 como \"Cúmplice\" e 5 como \"Assassino\". Caso contrário, ele será classificado como \"Inocente\".\n",
        "\n",
        "res1 = int(input(\"Telefonou para a vítima? 1/Sim ou 0/Não: \"))\n",
        "res2 = int(input(\"Esteve no local do crime? 1/Sim ou 0/Não: \"))\n",
        "res3 = int(input(\"Mora perto da vítima? 1/Sim ou 0/Não: \"))\n",
        "res4 = int(input(\"Devia para a vítima? 1/Sim ou 0/Não: \"))\n",
        "res5 = int(input(\"Já trabalhou com a vítima? 1/Sim ou 0/Não: \"))\n",
        "\n",
        "soma_respostas = res1 + res2 + res3 + res4 + res5\n",
        "if (soma_respostas < 2):\n",
        " print(\"\\nInocente\")\n",
        "elif (soma_respostas == 2):\n",
        " print(\"\\nSuspeita\")\n",
        "elif (3 <= soma_respostas <= 4):\n",
        " print(\"\\nCúmplice\")\n",
        "elif (soma_respostas == 5):\n",
        " print(\"\\nAssassino\")\n"
      ],
      "metadata": {
        "id": "MD6Vp_xv-RMu",
        "colab": {
          "base_uri": "https://localhost:8080/"
        },
        "outputId": "305221eb-90aa-454b-f243-9905872d1056"
      },
      "execution_count": null,
      "outputs": [
        {
          "output_type": "stream",
          "name": "stdout",
          "text": [
            "Telefonou para a vítima? 1/Sim ou 0/Não: 1\n",
            "Esteve no local do crime? 1/Sim ou 0/Não: 0\n",
            "Mora perto da vítima? 1/Sim ou 0/Não: 1\n",
            "Devia para a vítima? 1/Sim ou 0/Não: 0\n",
            "Já trabalhou com a vítima? 1/Sim ou 0/Não: 1\n",
            "\n",
            "Cúmplice\n"
          ]
        }
      ]
    }
  ]
}