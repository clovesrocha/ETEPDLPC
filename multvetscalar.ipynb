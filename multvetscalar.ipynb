{
  "nbformat": 4,
  "nbformat_minor": 0,
  "metadata": {
    "colab": {
      "name": "multvetscalar.ipynb",
      "provenance": [],
      "authorship_tag": "ABX9TyM5D2PzxmNOiFYh5c3w3Kqt",
      "include_colab_link": true
    },
    "kernelspec": {
      "name": "python3",
      "display_name": "Python 3"
    },
    "language_info": {
      "name": "python"
    }
  },
  "cells": [
    {
      "cell_type": "markdown",
      "metadata": {
        "id": "view-in-github",
        "colab_type": "text"
      },
      "source": [
        "<a href=\"https://colab.research.google.com/github/clovesrocha/ETEPDLPC/blob/master/multvetscalar.ipynb\" target=\"_parent\"><img src=\"https://colab.research.google.com/assets/colab-badge.svg\" alt=\"Open In Colab\"/></a>"
      ]
    },
    {
      "cell_type": "code",
      "metadata": {
        "id": "iJ7KFYK9hi7f"
      },
      "source": [
        "def scalar_mult(c, v):\n",
        "  #c é um número, v é um vetor\n",
        "  return [c * v_i for v_i in v]"
      ],
      "execution_count": 2,
      "outputs": []
    }
  ]
}