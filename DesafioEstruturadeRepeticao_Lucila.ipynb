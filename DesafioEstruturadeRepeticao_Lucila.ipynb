{
  "nbformat": 4,
  "nbformat_minor": 0,
  "metadata": {
    "colab": {
      "name": "DesafioEstruturadeRepeticao_Lucila.ipynb",
      "provenance": [],
      "collapsed_sections": [],
      "authorship_tag": "ABX9TyNxbPWqdu7BTnMl8Aa3y6VC",
      "include_colab_link": true
    },
    "kernelspec": {
      "name": "python3",
      "display_name": "Python 3"
    },
    "language_info": {
      "name": "python"
    }
  },
  "cells": [
    {
      "cell_type": "markdown",
      "metadata": {
        "id": "view-in-github",
        "colab_type": "text"
      },
      "source": [
        "<a href=\"https://colab.research.google.com/github/clovesrocha/ETEPDLPC/blob/master/DesafioEstruturadeRepeticao_Lucila.ipynb\" target=\"_parent\"><img src=\"https://colab.research.google.com/assets/colab-badge.svg\" alt=\"Open In Colab\"/></a>"
      ]
    },
    {
      "cell_type": "code",
      "execution_count": null,
      "metadata": {
        "id": "EVS3x4qRuonI"
      },
      "outputs": [],
      "source": [
        "# ETE PORTO DIGITAL\n",
        "# DISCIPLINA: LÓGICA DE PROGRAMAÇÃO COMPUTACIONAL\n",
        "# PROFESSOR: CLOVES ROCHA\n",
        "# ALUNA: LUCILA SILVA\n",
        "\n",
        "# No final do desafio commit no seu GitHub pessoal.\n",
        "# 1. Faça um programa que peça uma nota, entre zero e dez. \n",
        "# Mostre uma mensagem caso o valor seja inválido e continue pedindo até que o usuário informe um valor válido.\n",
        "nota = float(input('Digite uma nota de zero a dez:  '))\n",
        "while (10 < nota ) or (0 > nota):\n",
        "  nota=float(input('Valor inválido. Digite uma nota de zero a dez: '))\n",
        "else:\n",
        "  print('Nota lançada com sucesso')"
      ]
    },
    {
      "cell_type": "code",
      "source": [
        "# 2. Faça um programa que leia um nome de usuário e a sua senha e não aceite a senha igual ao nome do usuário, mostrando uma mensagem de erro e voltando a pedir as informações.\n",
        "login = input(\"Digite seu Login:    \")\n",
        "senha = input(\"Digite uma senha:    \")\n",
        "while login == senha:\n",
        "  print('Sua senha não pode ser igual ao seu login:   ')\n",
        "  senha = input('Digite uma senha:   ')\n",
        "  print('Login e Senha gerados com sucesso')"
      ],
      "metadata": {
        "id": "8amoYGfXvd0T"
      },
      "execution_count": null,
      "outputs": []
    },
    {
      "cell_type": "code",
      "source": [
        "# 3. Supondo que a população de um país A seja da ordem de 80000 habitantes com uma taxa anual de crescimento de 3% e que a população de B seja 200000 habitantes com uma taxa de crescimento de 1.5%.\n",
        "# Faça um programa que calcule e escreva o número de anos necessários para que a população do país A ultrapasse ou iguale a população do país B, mantidas as taxas de crescimento.\n",
        "print('=-='*5)\n",
        "from time import sleep\n",
        "A1 = 80000\n",
        "B1 = 200000\n",
        "A2 = 80000\n",
        "B2 = 200000\n",
        "ano1 = 0\n",
        "ano2 = 0\n",
        "print('O país \"A\" possui atualmente 80.000 mil habitantes e com um aumento de 3% ao ano !')\n",
        "print('O país \"B\" possui atualmente 200.000 mil habitantes e com um aumento de 1,5% ao ano !')\n",
        "print('=-='*5)\n",
        "print('Vamos calcular quanto tempo o país \"A\" precisará crescrer populacionalmente para alcançar ou ultrapassar o país \"B\" ?')\n",
        "print('SIM\\n')\n",
        "print('PROCESSANDO...')\n",
        "sleep(2)\n",
        "while A2 < B2:\n",
        "  A2 = A2 * 3 / 100 + A2\n",
        "  ano1 = ano1 + 1\n",
        "while A1 < B1:\n",
        "  A1 = A1 * 3 / 100 + A1\n",
        "  B1 = B1 * 1.5 / 100 + B1\n",
        "  ano2 = ano2 + 1\n",
        "print('=-='*5)\n",
        "print(f'Para que o país \"A\" alcance a população do país \"B\" com um total de 200.000 mil habitantes fixos,\\nele terá que manter seu crescimento por {ano1} anos !')\n",
        "print(f'População País \"A\": {A2:.0f}\\nPopulação País \"B\": {B2:.0f}')\n",
        "print(f'Porém, para ele ultrapassar de fato o país \"B\" acompanhando o seu crescimento, ele terá que aguardar {ano2} anos ')\n",
        "print(f'População País \"A\": {A1:.0f}\\nPopulação País \"B\": {B1:.0f}')\n",
        "print('=-='*5)"
      ],
      "metadata": {
        "id": "vdktHLdXvl0E"
      },
      "execution_count": null,
      "outputs": []
    },
    {
      "cell_type": "code",
      "source": [
        "# 4. Altere o programa anterior permitindo ao usuário informar as populações e as taxas de crescimento iniciais. Valide a entrada e permita repetir a operação.\n",
        "print('=-='*5)\n",
        "from time import sleep\n",
        "rep = 'S'\n",
        "while rep == 'S':\n",
        "  A1 = int(input('Informe a população do país \"A\": '))\n",
        "  ataxa = float(input('Informe a taxa de crescimento do país \"A\": '))\n",
        "  B1 = int(input('Informe a população do país \"B\": '))\n",
        "  btaxa = float(input('Informe a taxa de crescimento do país \"B\": '))\n",
        "  A2 = A1\n",
        "  B2 = B1\n",
        "  ano1 = 0\n",
        "  ano2 = 0\n",
        "  print(f'O país \"A\" possui atualmente {A1} mil habitantes e com um aumento de {ataxa}% ao ano !')\n",
        "  print(f'O país \"B\" possui atualmente {B1} mil habitantes e com um aumento de {btaxa}% ao ano !')\n",
        "  print('=-='*5)\n",
        "  print('Vamos calcular quanto tempo o país \"A\" precisará crescrer populacionalmente para alcançar ou ultrapassar o país \"B\" ?')\n",
        "  print('SIM\\n')\n",
        "  print('PROCESSANDO...')\n",
        "  sleep(2)\n",
        "  while A2 < B2:\n",
        "    A2 = A2 * ataxa / 100 + A2\n",
        "    ano1 = ano1 + 1\n",
        "  while A1 < B1:\n",
        "    A1 = A1 * ataxa / 100 + A1\n",
        "    B1 = B1 * btaxa / 100 + B1\n",
        "    ano2 = ano2 + 1\n",
        "  print('=-='*5)\n",
        "  print(f'Para que o país \"A\" alcance a população do país \"B\" com um total de 200.000 mil habitantes fixos,\\nele terá que manter seu crescimento por {ano1} anos !')\n",
        "  print(f'População País \"A\": {A2:.0f}\\nPopulação País \"B\": {B2:.0f}')\n",
        "  print(f'Porém, para ele ultrapassar de fato o país \"B\" acompanhando o seu crescimento, ele terá que aguardar {ano2} anos ')\n",
        "  print(f'População País \"A\": {A1:.0f}\\nPopulação País \"B\": {B1:.0f}')\n",
        "  print('=-='*5)\n",
        "  rep = str(input('Deseja repetir ? (SIM - S|NÃO - N)')).upper()\n",
        "  while rep != 'S' and rep != 'N':\n",
        "    print('Ação inválida, tente novamente !')\n",
        "    rep = str(input('Deseja repetir ? (SIM - S|NÃO - N)')).upper()\n",
        "  if rep == 'S':\n",
        "    rep = 'S'\n",
        "  else:\n",
        "    rep = 'N'\n",
        "    print('Programa Finalizado !')"
      ],
      "metadata": {
        "id": "GYH7WnP_vtoK"
      },
      "execution_count": null,
      "outputs": []
    },
    {
      "cell_type": "code",
      "source": [
        "# 5. Faça um programa que imprima na tela os números de 1 a 20, um abaixo do outro. Depois modifique o programa para que ele mostre os números um ao lado do outro.\n",
        "num = 1\n",
        "while num < 21:\n",
        "  print(num)\n",
        "  num += 1"
      ],
      "metadata": {
        "id": "M-CL3eRxvwA6"
      },
      "execution_count": null,
      "outputs": []
    },
    {
      "cell_type": "code",
      "source": [
        "num = 1\n",
        "while num <=20:\n",
        "  print(num, end = ' ')\n",
        "  num += 1\n"
      ],
      "metadata": {
        "id": "0ueCLm8eZcVB"
      },
      "execution_count": null,
      "outputs": []
    },
    {
      "cell_type": "code",
      "source": [
        "# 6. Faça um programa que leia 5 números e informe o maior número.\n",
        "num = 0\n",
        "for i in range(5):\n",
        "  numero = int(input('Digite um número:  '))\n",
        "  if numero > num:\n",
        "    num = numero\n",
        "print('O maior número digitado foi:', num)    "
      ],
      "metadata": {
        "id": "Dh6KJctev1Ky"
      },
      "execution_count": null,
      "outputs": []
    },
    {
      "cell_type": "code",
      "source": [
        "# 7. Faça um programa que leia 5 números e informe a soma e a média dos números.\n",
        "numeros = []\n",
        "for num in range (1,6):\n",
        "  numeros.append(int(input('Digite um número:  ')))\n",
        "soma=numeros[0]+numeros[1]+numeros[2]+numeros[3]+numeros[4]\n",
        "print('A soma dos números digitados é:', soma)\n",
        "media=(numeros[0]+numeros[1]+numeros[2]+numeros[3]+numeros[4])/5\n",
        "print('A media dos números digitados é:', media)5"
      ],
      "metadata": {
        "id": "hJRaK0J7v4fy"
      },
      "execution_count": null,
      "outputs": []
    },
    {
      "cell_type": "code",
      "source": [
        "# 8. Faça um programa que imprima na tela apenas os números ímpares entre 1 e 50.\n",
        "num = 1\n",
        "for i in range(1,26):\n",
        "  print(num)\n",
        "  num = num + 2"
      ],
      "metadata": {
        "id": "yHUG5AHiv7mq"
      },
      "execution_count": null,
      "outputs": []
    },
    {
      "cell_type": "code",
      "source": [
        "# 9. Faça um programa que receba dois números inteiros e gere os números inteiros que estão no intervalo compreendido por eles.\n",
        "num1 = int(input('Digite um número:  '))\n",
        "num2 = int(input('Digite outro número:  '))\n",
        "if num1 > num2:\n",
        "  num1=num1-1\n",
        "if num2 > num2:\n",
        "  num2=num2-1\n",
        "for i in range(num1, num2):\n",
        "  num1=num1+1\n",
        "  print(num1)\n",
        "for h in range(num2, num1):\n",
        "   num2 = num2+1\n",
        "   print(num2)\n"
      ],
      "metadata": {
        "id": "Mbiv_mEMv-xS"
      },
      "execution_count": null,
      "outputs": []
    },
    {
      "cell_type": "code",
      "source": [
        "# 10. Altere o programa anterior para mostrar no final a soma dos números.\n",
        "num1 = int(input('Digite um número: '))\n",
        "num2 = int(input('Digite outro número: '))\n",
        "soma = num1+num2\n",
        "if num1 > num2:\n",
        "  num1 = num1 - 1\n",
        "if num2 > num1:\n",
        "  num2 = num2 - 1\n",
        "for i in range(num1, num2):\n",
        "  num1 = num1 + 1\n",
        "  print(num1)\n",
        "for h in range(num2, num1):\n",
        "  num2 = num2 + 1\n",
        "  print(num2)\n",
        "print(f'Soma entre eles: {soma}')"
      ],
      "metadata": {
        "id": "B1A_0G2iwCAK"
      },
      "execution_count": null,
      "outputs": []
    },
    {
      "cell_type": "code",
      "source": [
        "# 11. Faça um programa que calcule o valor total investido por um colecionador em sua coleção de CDs e o valor médio gasto em cada um deles. \n",
        "# O usuário deverá informar a quantidade de CDs e o valor para em cada um.\n",
        "quant = int(input(\"Digite a quantidade de CD's: \"))\n",
        "cont = 1\n",
        "total = []\n",
        "for i in range(0, quant):\n",
        "  total.append(int(input(f'Digite o valor do {cont}° CD: R$')))\n",
        "  cont = cont + 1\n",
        "soma = sum(total)\n",
        "media = soma / quant\n",
        "print(f\"O valor de todos os CD's é R${soma}, já a média deles são: R${media}.\")"
      ],
      "metadata": {
        "id": "i30bWhpGwIpk"
      },
      "execution_count": null,
      "outputs": []
    },
    {
      "cell_type": "code",
      "source": [
        "# 12. Faça um programa que leia dez conjuntos de dois valores, o primeiro representando o número do aluno e o segundo representando a sua altura em centímetros. \n",
        "# Encontre o aluno mais alto e o mais baixo. \n",
        "# Mostre o número do aluno mais alto e o número do aluno mais baixo, junto com suas alturas.\n",
        "idade = []\n",
        "altura = []\n",
        "\n",
        "for x in range(0, 10):\n",
        "  idade.append(int(input('Digite a idade do aluno: ')))\n",
        "  altura.append(int(input('Digite a altura do aluno em CM: ')))\n",
        "print('=-='*5)\n",
        "for z in range(0, len(altura)):\n",
        "  if altura[z] == max(altura):\n",
        "    print(f'Idade do aluno mais alto: {idade[z]}')\n",
        "    print(f'Altura do aluno em CM: {altura[z]}')\n",
        "for y in range(0, len(altura)):\n",
        "  if altura[y] == min(altura):\n",
        "    print(f'Idade do aluno mais baixo: {idade[y]}')\n",
        "    print(f'Altura do aluno em CM: {altura[y]}')"
      ],
      "metadata": {
        "id": "YBoR9F64wKYq"
      },
      "execution_count": null,
      "outputs": []
    },
    {
      "cell_type": "code",
      "source": [
        "# 13. Faça um programa que leia uma quantidade indeterminada de números positivos e conte quantos deles estão nos seguintes intervalos: [0-25], [26-50], [51-75] e [76-100].\n",
        "# A entrada de dados deverá terminar quando for lido um número negativo.\n",
        "num0 = []\n",
        "num26 = []\n",
        "num51 = []\n",
        "num76 = []\n",
        "num101 = []\n",
        "num1 = 1\n",
        "cont = 1\n",
        "print('Digite quantos números desejar, para finalizar, digite um número negativo.')\n",
        "while num1 > -1:\n",
        "  num1 = int(input(f'Digite o {cont}° número: '))\n",
        "  cont = cont + 1\n",
        "  if num1 > -1 and num1 < 26:\n",
        "    num0.append(num1)\n",
        "  elif num1 > 25 and num1 < 51:\n",
        "    num26.append(num1)\n",
        "  elif num1 > 50 and num1 < 76:\n",
        "    num51.append(num1)\n",
        "  elif num1 > 75 and num1 < 101:\n",
        "    num76.append(num1)\n",
        "  elif num1 > 100:\n",
        "    num101.append(num1)\n",
        "print('Analisando os números digitados anteriormente, observe quantos estão nos intervalos abaixo: ')\n",
        "total = num0 + num26 + num51 + num76 + num101\n",
        "print(total)\n",
        "print(f'[Total = {len(total)}')\n",
        "print(f'[0-25] = {len(num0)}')\n",
        "print(f'[26-50] = {len(num26)}')\n",
        "print(f'[51-75] = {len(num51)}')\n",
        "print(f'[76-100] = {len(num76)}')\n",
        "print(f'[100+] = {len(num101)}')"
      ],
      "metadata": {
        "id": "zh_9NnafwN_q"
      },
      "execution_count": null,
      "outputs": []
    },
    {
      "cell_type": "code",
      "source": [
        "# 14. Faça um programa que mostre os n termos da Série a seguir:\n",
        "# S = 1/1 + 2/3 + 3/5 + 4/7 + 5/9 + ... + n/m. Imprima no final a soma da série.\n",
        "soma = 0\n",
        "n = int(input(\"Digite n: \"))\n",
        "m = 1\n",
        "print(\"S = \", end=\"\")\n",
        "for i in range(1, n + 1):\n",
        "    print(f\"{i}/{m}\", end=\"\")\n",
        "    if i < n and n > 1:\n",
        "        print(\" + \", end=\"\")\n",
        "    else:\n",
        "        print(\".\")\n",
        "    soma += i / m\n",
        "    m += 2\n",
        "print(f\"A soma da série deu {soma:.2f}\")"
      ],
      "metadata": {
        "id": "1CQqtvbewRvi"
      },
      "execution_count": null,
      "outputs": []
    }
  ]
}