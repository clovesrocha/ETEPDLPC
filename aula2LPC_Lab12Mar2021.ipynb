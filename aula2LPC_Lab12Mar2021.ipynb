{
  "nbformat": 4,
  "nbformat_minor": 0,
  "metadata": {
    "colab": {
      "name": "aula2LPC-Lab12Mar2021.ipynb",
      "provenance": [],
      "authorship_tag": "ABX9TyN4rNnTxzcBkQMcpUggD4qD",
      "include_colab_link": true
    },
    "kernelspec": {
      "name": "python3",
      "display_name": "Python 3"
    }
  },
  "cells": [
    {
      "cell_type": "markdown",
      "metadata": {
        "id": "view-in-github",
        "colab_type": "text"
      },
      "source": [
        "<a href=\"https://colab.research.google.com/github/clovesrocha/ETEPDLPC/blob/master/aula2LPC_Lab12Mar2021.ipynb\" target=\"_parent\"><img src=\"https://colab.research.google.com/assets/colab-badge.svg\" alt=\"Open In Colab\"/></a>"
      ]
    },
    {
      "cell_type": "code",
      "metadata": {
        "colab": {
          "base_uri": "https://localhost:8080/"
        },
        "id": "XJj3RrshUNFL",
        "outputId": "75f86a68-4e7c-437f-e14b-9205bb60538c"
      },
      "source": [
        "# ETE PORTO DIGITAL\n",
        "# LPC 2021 - Introdução à Python\n",
        "# Prof. Cloves Rocha\n",
        "# Estudante: ----\n",
        "\n",
        "#VARIAVEIS \n",
        "c = 'Olá Prof.Cloves!'\n",
        "print(c)"
      ],
      "execution_count": 1,
      "outputs": [
        {
          "output_type": "stream",
          "text": [
            "Olá Prof.Cloves!\n"
          ],
          "name": "stdout"
        }
      ]
    }
  ]
}