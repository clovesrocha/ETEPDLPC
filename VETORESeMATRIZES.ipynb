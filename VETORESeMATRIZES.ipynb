{
  "nbformat": 4,
  "nbformat_minor": 0,
  "metadata": {
    "colab": {
      "name": "VETORESeMATRIZES",
      "provenance": [],
      "authorship_tag": "ABX9TyNtW7hHRHI/5jFEgCAu9sFP",
      "include_colab_link": true
    },
    "kernelspec": {
      "name": "python3",
      "display_name": "Python 3"
    },
    "language_info": {
      "name": "python"
    }
  },
  "cells": [
    {
      "cell_type": "markdown",
      "metadata": {
        "id": "view-in-github",
        "colab_type": "text"
      },
      "source": [
        "<a href=\"https://colab.research.google.com/github/clovesrocha/ETEPDLPC/blob/master/VETORESeMATRIZES.ipynb\" target=\"_parent\"><img src=\"https://colab.research.google.com/assets/colab-badge.svg\" alt=\"Open In Colab\"/></a>"
      ]
    },
    {
      "cell_type": "code",
      "execution_count": 2,
      "metadata": {
        "colab": {
          "base_uri": "https://localhost:8080/"
        },
        "id": "B9BuLQmXzvTV",
        "outputId": "f028d4c0-07a3-4bcf-c669-b1be5881edd1"
      },
      "outputs": [
        {
          "output_type": "stream",
          "name": "stdout",
          "text": [
            "[181, 100, 40]\n"
          ]
        }
      ],
      "source": [
        "#ETE PORTO DIGITAL\n",
        "#DISCIPLINA: LPC1\n",
        "#PROFESSOR: CLOVES ROCHA\n",
        "#ESTUDANTE: SEU NOME?\n",
        "\n",
        "imc = [181, #altura\n",
        "       100, #peso\n",
        "        40 ] #idade\n",
        "#CALCULE O IMC\n",
        "print(imc) "
      ]
    },
    {
      "cell_type": "code",
      "source": [
        "notas = [10,#teste1\n",
        "        9,  #teste2\n",
        "        8,  #teste3\n",
        "        7 ] #teste4\n",
        "#FAÇA A MÉDIA\n",
        "print(notas)\n",
        "media = sum(notas) / len(notas)\n",
        "print('media:',media)"
      ],
      "metadata": {
        "colab": {
          "base_uri": "https://localhost:8080/"
        },
        "id": "A70TRhd31uPx",
        "outputId": "4962e638-33c2-49e6-a3b0-701205e9387b"
      },
      "execution_count": 10,
      "outputs": [
        {
          "output_type": "stream",
          "name": "stdout",
          "text": [
            "[10, 9, 8, 7]\n",
            "media: 8.5\n"
          ]
        }
      ]
    },
    {
      "cell_type": "code",
      "source": [
        "v1 = ['Bom dia', 'Boa tarde', 'Boa noite']\n",
        "v2 = ['Cloves', 'João', 'Pedro']\n",
        "v3 = ['Como vai?', 'Que horas são?', 'Vamos programa?']\n",
        "m1 = [v1, v2, v3] \n",
        "print(m1)"
      ],
      "metadata": {
        "colab": {
          "base_uri": "https://localhost:8080/"
        },
        "id": "wrsTW7a38jV_",
        "outputId": "51bef9d7-72aa-4f8d-9190-e3b9f9561a98"
      },
      "execution_count": 12,
      "outputs": [
        {
          "output_type": "stream",
          "name": "stdout",
          "text": [
            "[['Bom dia', 'Boa tarde', 'Boa noite'], ['Cloves', 'João', 'Pedro'], ['Como vai?', 'Que horas são?', 'Vamos programa?']]\n"
          ]
        }
      ]
    }
  ]
}