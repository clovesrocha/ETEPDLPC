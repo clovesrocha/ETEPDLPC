{
  "nbformat": 4,
  "nbformat_minor": 0,
  "metadata": {
    "colab": {
      "name": "VETORESeMATRIZES",
      "provenance": [],
      "authorship_tag": "ABX9TyNCh1BUbAC4QD4vfK/yg3Fv",
      "include_colab_link": true
    },
    "kernelspec": {
      "name": "python3",
      "display_name": "Python 3"
    },
    "language_info": {
      "name": "python"
    }
  },
  "cells": [
    {
      "cell_type": "markdown",
      "metadata": {
        "id": "view-in-github",
        "colab_type": "text"
      },
      "source": [
        "<a href=\"https://colab.research.google.com/github/clovesrocha/ETEPDLPC/blob/master/VETORESeMATRIZES.ipynb\" target=\"_parent\"><img src=\"https://colab.research.google.com/assets/colab-badge.svg\" alt=\"Open In Colab\"/></a>"
      ]
    },
    {
      "cell_type": "code",
      "execution_count": null,
      "metadata": {
        "colab": {
          "base_uri": "https://localhost:8080/"
        },
        "id": "B9BuLQmXzvTV",
        "outputId": "f028d4c0-07a3-4bcf-c669-b1be5881edd1"
      },
      "outputs": [
        {
          "output_type": "stream",
          "name": "stdout",
          "text": [
            "[181, 100, 40]\n"
          ]
        }
      ],
      "source": [
        "#ETE PORTO DIGITAL\n",
        "#DISCIPLINA: LPC1\n",
        "#PROFESSOR: CLOVES ROCHA\n",
        "#ESTUDANTE: SEU NOME?\n",
        "#TÓPICO: VETORES E MATRIZES\n",
        "\n",
        "imc = [181, #altura\n",
        "       100, #peso\n",
        "        40 ] #idade\n",
        "#CALCULE O IMC\n",
        "print(imc) "
      ]
    },
    {
      "cell_type": "code",
      "source": [
        "notas = [10,#teste1\n",
        "        9,  #teste2\n",
        "        8,  #teste3\n",
        "        7 ] #teste4\n",
        "#FAÇA A MÉDIA\n",
        "print(notas)\n",
        "media = sum(notas) / len(notas)\n",
        "print('media:',media)"
      ],
      "metadata": {
        "colab": {
          "base_uri": "https://localhost:8080/"
        },
        "id": "A70TRhd31uPx",
        "outputId": "4962e638-33c2-49e6-a3b0-701205e9387b"
      },
      "execution_count": null,
      "outputs": [
        {
          "output_type": "stream",
          "name": "stdout",
          "text": [
            "[10, 9, 8, 7]\n",
            "media: 8.5\n"
          ]
        }
      ]
    },
    {
      "cell_type": "code",
      "source": [
        "#OBSERVAÇÃO IMPORTANTE: \n",
        "#Matrizes são conjuntos de vetores! \n",
        "#Para entender melhor, vamos fazer 3 vetores, e inserir cada vetor em um índice de um novo vetor:\n",
        "\n",
        "v1 = ['Bom dia', 'Boa tarde', 'Boa noite']\n",
        "v2 = ['Cloves', 'João', 'Pedro']\n",
        "v3 = ['Como vai?', 'Que horas são?', 'Vamos programar?']\n",
        "m1 = [v1, v2, v3] \n",
        "print(m1)"
      ],
      "metadata": {
        "colab": {
          "base_uri": "https://localhost:8080/"
        },
        "id": "wrsTW7a38jV_",
        "outputId": "51bef9d7-72aa-4f8d-9190-e3b9f9561a98"
      },
      "execution_count": null,
      "outputs": [
        {
          "output_type": "stream",
          "name": "stdout",
          "text": [
            "[['Bom dia', 'Boa tarde', 'Boa noite'], ['Cloves', 'João', 'Pedro'], ['Como vai?', 'Que horas são?', 'Vamos programa?']]\n"
          ]
        }
      ]
    },
    {
      "cell_type": "code",
      "source": [
        "#OBSERVAÇÃO IMPORTANTE:\n",
        "#Cada vetor se comportará como uma coluna, e cada índice da matriz representará uma coluna. \n",
        "#Ou seja: A primeira coluna da matriz (índice 0) será o vetor1, a segunda (índice 1) o vetor2 e terceira (índice 2) vetor3.\n",
        "\n",
        "#Podemos também usar o método append para inserir cada vetor:\n",
        "v1 = ['Bom dia', 'Boa tarde', 'Boa noite']\n",
        "v2 = ['Cloves', 'João', 'Pedro']\n",
        "v3 = ['Como vai?', 'Que horas são?', 'Vamos programar?']\n",
        "matriz = []\n",
        "matriz.append(v1)\n",
        "matriz.append(v2)\n",
        "matriz.append(v3)\n",
        "#Para acessar cada elemento na matriz, precisamos de dois colchetes! \n",
        "#Pois o primeiro será o índice da coluna e o segundo, o índice da linha. \n",
        "#Vamos chamar o elemento 'Bom Dia':\n",
        "v1 = ['Bom dia', 'Boa tarde', 'Boa noite']\n",
        "v2 = ['Cloves', 'João', 'Pedro']\n",
        "v3 = ['Como vai?', 'Que horas são?', 'Vamos programar?']\n",
        "m1 = [v1, v2, v3] \n",
        "print(matriz[0][0]) \n",
        "#Matriz[0] retorna todo o nosso vetor (a coluna vetor1, de índice 0), o segundo colchete representa o índice do vetor resultante.\n",
        "#Se a linha print(matriz[0][0]) fosse substituída por print(matriz[0][1]) qual seria o elemento impresso? Dica: matriz[0]=vetor1 e vetor1[0] = \"Bom Dia\".\n",
        "#Vamos inserir uma saudação no vetor1. \n",
        "#Para isso, usaremos também o método append. \n",
        "#Como o vetor1 está no primeiro índice da matriz (0), escrevemos:\n",
        "v1 = ['Bom dia', 'Boa tarde', 'Boa noite']\n",
        "v2 = ['Cloves', 'João', 'Pedro']\n",
        "v3 = ['Como vai?', 'Que horas são?', 'Vamos programar?']\n",
        "m1 = [v1, v2, v3] # m1 é a matriz 1.\n",
        "m1[0].append('Bom Final de Semana!')\n",
        "print(m1[0]) # O que será impresso?"
      ],
      "metadata": {
        "id": "y8yOu4foXBTj",
        "outputId": "c7bd0904-21e7-4e5c-81cd-c661f2378f9f",
        "colab": {
          "base_uri": "https://localhost:8080/"
        }
      },
      "execution_count": 3,
      "outputs": [
        {
          "output_type": "stream",
          "name": "stdout",
          "text": [
            "Bom dia\n"
          ]
        }
      ]
    },
    {
      "cell_type": "code",
      "source": [
        "#Podemos inserir o seu nome também:\n",
        "v1 = ['Bom dia', 'Boa tarde', 'Boa noite']\n",
        "v2 = ['Cloves', 'João', 'Pedro']\n",
        "v3 = ['Como vai?', 'Que horas são?', 'Vamos programar?']\n",
        "m1 = [v1, v2, v3] # m1 é a matriz 1.\n",
        "m1[1].append('Escreva seu nome aqui: ')\n",
        "print(m1[1]) "
      ],
      "metadata": {
        "id": "s25_GqJcZwx9",
        "outputId": "350f3844-32db-442a-b8b0-6e17dff23481",
        "colab": {
          "base_uri": "https://localhost:8080/"
        }
      },
      "execution_count": 4,
      "outputs": [
        {
          "output_type": "stream",
          "name": "stdout",
          "text": [
            "['Cloves', 'João', 'Pedro', 'Escreva seu nome aqui: ']\n"
          ]
        }
      ]
    },
    {
      "cell_type": "code",
      "source": [
        "#Para remover um elemento ou até mesmo uma coluna inteira, \n",
        "#Usamos o método pop, da mesma forma que aprendemos em Vetores:\n",
        "v1 = ['Bom dia', 'Boa tarde', 'Boa noite']\n",
        "v2 = ['Cloves', 'João', 'Pedro']\n",
        "v3 = ['Como vai?', 'Que horas são?', 'Vamos programar?']\n",
        "m1 = [v1, v2, v3] # m1 é a matriz 1.\n",
        "#Retirando o nome Cloves\n",
        "m1[1].pop(0)\n",
        "#Retirando toda a coluna 3 (de índice 2)\n",
        "m1.pop(1)"
      ],
      "metadata": {
        "id": "D58tq41yaVu7",
        "outputId": "9d17f04f-c351-4d2d-d216-02da74d81e9b",
        "colab": {
          "base_uri": "https://localhost:8080/"
        }
      },
      "execution_count": 10,
      "outputs": [
        {
          "output_type": "execute_result",
          "data": {
            "text/plain": [
              "['João', 'Pedro']"
            ]
          },
          "metadata": {},
          "execution_count": 10
        }
      ]
    },
    {
      "cell_type": "code",
      "source": [
        "#Podemos também usar o método append para inserir cada vetor:\n",
        "\n",
        "#OBSERVAÇÃO IMPORTANTE:\n",
        "#As matrizes não tem limites de dimensões.\n",
        "#Podemos colocar vetores dentro de vetores:\n",
        "pessoas = []\n",
        "nomes = ['Cloves', 'João', 'Pedro']\n",
        "sobrenomes = ['Rocha', 'Silva', 'Pereira']\n",
        "pessoas.append(nomes)\n",
        "pessoas.append(sobrenomes)\n",
        "locais = []\n",
        "estados = ['Pernambuco', 'Alagoas', 'Sergipe', 'Ceará']\n",
        "capitais = ['Recife', 'Maceió', 'Aracaju', 'Fortaleza']\n",
        "locais.append(estados)\n",
        "locais.append(capitais)\n",
        "conjunto = []\n",
        "conjunto.append(pessoas)\n",
        "conjunto.append(locais)\n",
        "print(conjunto[0][1][0])"
      ],
      "metadata": {
        "id": "6JQr3g-PVMaF",
        "outputId": "feebb3ed-afce-461d-a999-7afe30e2d3e6",
        "colab": {
          "base_uri": "https://localhost:8080/"
        }
      },
      "execution_count": 13,
      "outputs": [
        {
          "output_type": "stream",
          "name": "stdout",
          "text": [
            "Rocha\n"
          ]
        }
      ]
    }
  ]
}