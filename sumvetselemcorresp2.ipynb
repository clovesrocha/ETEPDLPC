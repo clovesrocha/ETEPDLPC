{
  "nbformat": 4,
  "nbformat_minor": 0,
  "metadata": {
    "colab": {
      "name": "sumvetselemcorresp2.ipynb",
      "provenance": [],
      "authorship_tag": "ABX9TyNmdXN4OB1m8iT6gjMsoMqh",
      "include_colab_link": true
    },
    "kernelspec": {
      "name": "python3",
      "display_name": "Python 3"
    },
    "language_info": {
      "name": "python"
    }
  },
  "cells": [
    {
      "cell_type": "markdown",
      "metadata": {
        "id": "view-in-github",
        "colab_type": "text"
      },
      "source": [
        "<a href=\"https://colab.research.google.com/github/clovesrocha/ETEPDLPC/blob/master/sumvetselemcorresp2.ipynb\" target=\"_parent\"><img src=\"https://colab.research.google.com/assets/colab-badge.svg\" alt=\"Open In Colab\"/></a>"
      ]
    },
    {
      "cell_type": "code",
      "metadata": {
        "id": "h9QcP6zTTY5b"
      },
      "source": [
        "def vet_sum(vets):\n",
        "# soma todos os elementos correspondentes\n",
        "  result = vets[0]     # começa com o primeiro vetor\n",
        "  for vet in vets[1:]: # depois passa por todos os outros\n",
        "    result = vet_add(result, vet) # e os adiciona ao resultado\n",
        "  return result"
      ],
      "execution_count": 26,
      "outputs": []
    },
    {
      "cell_type": "code",
      "metadata": {
        "id": "ms44cUwvbs1w"
      },
      "source": [
        "def vet_sum(vets):\n",
        " return reduz(vet_add, vets)"
      ],
      "execution_count": 35,
      "outputs": []
    },
    {
      "cell_type": "code",
      "metadata": {
        "id": "E-sc1gR4cNka"
      },
      "source": [
        "vet_sum = part(reduz,vet_add)"
      ],
      "execution_count": null,
      "outputs": []
    }
  ]
}