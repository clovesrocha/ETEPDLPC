{
  "nbformat": 4,
  "nbformat_minor": 0,
  "metadata": {
    "colab": {
      "name": "desafiodesplugado.ipynb",
      "provenance": [],
      "authorship_tag": "ABX9TyPuZzQ5khTK3X5/VdqA93at",
      "include_colab_link": true
    },
    "kernelspec": {
      "name": "python3",
      "display_name": "Python 3"
    },
    "language_info": {
      "name": "python"
    }
  },
  "cells": [
    {
      "cell_type": "markdown",
      "metadata": {
        "id": "view-in-github",
        "colab_type": "text"
      },
      "source": [
        "<a href=\"https://colab.research.google.com/github/clovesrocha/ETEPDLPC/blob/master/desafiodesplugado.ipynb\" target=\"_parent\"><img src=\"https://colab.research.google.com/assets/colab-badge.svg\" alt=\"Open In Colab\"/></a>"
      ]
    },
    {
      "cell_type": "code",
      "execution_count": 3,
      "metadata": {
        "colab": {
          "base_uri": "https://localhost:8080/"
        },
        "id": "xfScbAMPr5cD",
        "outputId": "118c825b-58fe-4375-b7b0-105f10aab0e3"
      },
      "outputs": [
        {
          "output_type": "stream",
          "name": "stdout",
          "text": [
            "Digite um nome: pedro\n",
            "Digite a idade: 7\n",
            "Digite um nome: sjdsad\n",
            "Digite a idade: 2\n",
            "Digite um nome: dsfdf\n",
            "Digite a idade: 6\n",
            "Digite um nome: fesr\n",
            "Digite a idade: 99\n",
            "Digite um nome: eraewr\n",
            "Digite a idade: 22\n",
            "pedro 7\n",
            "sjdsad 2\n",
            "dsfdf 6\n",
            "fesr 99\n",
            "eraewr 22\n",
            "99\n",
            "22\n",
            "7\n",
            "6\n",
            "2\n"
          ]
        }
      ],
      "source": [
        "names = []\n",
        "age = []\n",
        "\n",
        "for c in range(0,5):\n",
        "  names.append(str(input(\"Digite um nome: \")))\n",
        "  age.append(int(input(\"Digite a idade: \")))\n",
        "\n",
        "for l, v in zip(names, age):\n",
        "  print(l, v)\n",
        "\n",
        "age.sort(reverse=True)\n",
        "\n",
        "for i in age:\n",
        "  print(i)"
      ]
    }
  ]
}