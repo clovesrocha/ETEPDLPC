{
  "nbformat": 4,
  "nbformat_minor": 0,
  "metadata": {
    "colab": {
      "name": "Desafio03 ETE",
      "provenance": [],
      "include_colab_link": true
    },
    "kernelspec": {
      "name": "python3",
      "display_name": "Python 3"
    },
    "language_info": {
      "name": "python"
    }
  },
  "cells": [
    {
      "cell_type": "markdown",
      "metadata": {
        "id": "view-in-github",
        "colab_type": "text"
      },
      "source": [
        "<a href=\"https://colab.research.google.com/github/lucasact4/Exercicios-ETE/blob/main/Desafio03_ETE.ipynb\" target=\"_parent\"><img src=\"https://colab.research.google.com/assets/colab-badge.svg\" alt=\"Open In Colab\"/></a>"
      ]
    },
    {
      "cell_type": "code",
      "execution_count": null,
      "metadata": {
        "id": "vqX6-Ekzu94p",
        "outputId": "fa9cad6f-45d2-4703-9f30-ca615e5a20a1",
        "colab": {
          "base_uri": "https://localhost:8080/"
        }
      },
      "outputs": [
        {
          "output_type": "stream",
          "name": "stdout",
          "text": [
            "Digite uma nota entre 0 e 10: -1\n",
            "Nota inválida, tente novamente !\n",
            "Digite uma nota entre 0 e 10: 11\n",
            "Nota inválida, tente novamente !\n",
            "Digite uma nota entre 0 e 10: 10\n",
            "Você digitou a nota número 10 !\n"
          ]
        }
      ],
      "source": [
        "# 1. Faça um programa que peça uma nota, entre zero e dez. Mostre uma mensagem caso o valor seja inválido e continue\n",
        "# pedindo até que o usuário informe um valor válido.\n",
        "num = int(input('Digite uma nota entre 0 e 10: '))\n",
        "while num > 10 or num < 0:\n",
        "  print('Nota inválida, tente novamente !')\n",
        "  num = int(input('Digite uma nota entre 0 e 10: '))\n",
        "print(f'Você digitou a nota número {num} !')"
      ]
    },
    {
      "cell_type": "code",
      "source": [
        "# 2. Faça um programa que leia um nome de usuário e a sua senha e não aceite a senha igual ao nome do usuário,\n",
        "# mostrando uma mensagem de erro e voltando a pedir as informações.\n",
        "nome = str(input('Digite o seu nome de usuário: '))\n",
        "senha = input('Digite a sua senha de usuário: ')\n",
        "while senha == nome:\n",
        "  print('ERRO. A sua senha é idêntica ao nome de usuário, por favor, tente novamente !')\n",
        "  senha = input('Digite a sua senha de usuário: ')\n",
        "print('Cadastro Finalizado !')"
      ],
      "metadata": {
        "id": "SFg5l6bUvIWs",
        "outputId": "5ac5253e-7b82-4a00-f73f-a08271a859aa",
        "colab": {
          "base_uri": "https://localhost:8080/"
        }
      },
      "execution_count": null,
      "outputs": [
        {
          "output_type": "stream",
          "name": "stdout",
          "text": [
            "Digite o seu nome de usuário: Lucas\n",
            "Digite a sua senha de usuário: Lucas\n",
            "ERRO. A sua senha é idêntica ao nome de usuário, por favor, tente novamente !\n",
            "Digite a sua senha de usuário: Lucas\n",
            "ERRO. A sua senha é idêntica ao nome de usuário, por favor, tente novamente !\n",
            "Digite a sua senha de usuário: Lucas1\n",
            "Cadastro Finalizado !\n"
          ]
        }
      ]
    },
    {
      "cell_type": "code",
      "source": [
        "# 3. Supondo que a população de um país A seja da ordem de 80000 habitantes com uma taxa anual de crescimento\n",
        "# de 3% e que a população de B seja 200000 habitantes com uma taxa de crescimento de 1.5%. Faça um programa\n",
        "# que calcule e escreva o número de anos necessários para que a população do país A ultrapasse ou iguale a\n",
        "# população do país B, mantidas as taxas de crescimento.\n",
        "print('=-='*5)\n",
        "from time import sleep\n",
        "A1 = 80000\n",
        "B1 = 200000\n",
        "A2 = 80000\n",
        "B2 = 200000\n",
        "ano1 = 0\n",
        "ano2 = 0\n",
        "print('O país \"A\" possui atualmente 80.000 mil habitantes e com um aumento de 3% ao ano !')\n",
        "print('O país \"B\" possui atualmente 200.000 mil habitantes e com um aumento de 1,5% ao ano !')\n",
        "print('=-='*5)\n",
        "print('Vamos calcular quanto tempo o país \"A\" precisará crescrer populacionalmente para alcançar ou ultrapassar o país \"B\" ?')\n",
        "print('SIM\\n')\n",
        "print('PROCESSANDO...')\n",
        "sleep(2)\n",
        "while A2 < B2:\n",
        "  A2 = A2 * 3 / 100 + A2\n",
        "  ano1 = ano1 + 1\n",
        "while A1 < B1:\n",
        "  A1 = A1 * 3 / 100 + A1\n",
        "  B1 = B1 * 1.5 / 100 + B1\n",
        "  ano2 = ano2 + 1\n",
        "print('=-='*5)\n",
        "print(f'Para que o país \"A\" alcance a população do país \"B\" com um total de 200.000 mil habitantes fixos,\\nele terá que manter seu crescimento por {ano1} anos !')\n",
        "print(f'População País \"A\": {A2:.0f}\\nPopulação País \"B\": {B2:.0f}')\n",
        "print(f'Porém, para ele ultrapassar de fato o país \"B\" acompanhando o seu crescimento, ele terá que aguardar {ano2} anos ')\n",
        "print(f'População País \"A\": {A1:.0f}\\nPopulação País \"B\": {B1:.0f}')\n",
        "print('=-='*5)"
      ],
      "metadata": {
        "id": "QwWA-PCTvLEo",
        "outputId": "6af7aafb-986f-452d-bb79-c6cd695e28a1",
        "colab": {
          "base_uri": "https://localhost:8080/"
        }
      },
      "execution_count": null,
      "outputs": [
        {
          "output_type": "stream",
          "name": "stdout",
          "text": [
            "=-==-==-==-==-=\n",
            "O país \"A\" possui atualmente 80.000 mil habitantes e com um aumento de 3% ao ano !\n",
            "O país \"B\" possui atualmente 200.000 mil habitantes e com um aumento de 1,5% ao ano !\n",
            "=-==-==-==-==-=\n",
            "Vamos calcular quanto tempo o país \"A\" precisará crescrer populacionalmente para alcançar ou ultrapassar o país \"B\" ?\n",
            "SIM\n",
            "\n",
            "PROCESSANDO...\n",
            "=-==-==-==-==-=\n",
            "Para que o país \"A\" alcance a população do país \"B\" com um total de 200.000 mil habitantes fixos,\n",
            "ele terá que manter seu crescimento por 31 anos !\n",
            "População País \"A\": 200006\n",
            "População País \"B\": 200000\n",
            "Porém, para ele ultrapassar de fato o país \"B\" acompanhando o seu crescimento, ele terá que aguardar 63 anos \n",
            "População País \"A\": 515033\n",
            "População País \"B\": 510964\n",
            "=-==-==-==-==-=\n"
          ]
        }
      ]
    },
    {
      "cell_type": "code",
      "source": [
        "# 4. Altere o programa anterior permitindo ao usuário informar as populações e as taxas de crescimento\n",
        "# iniciais. Valide a entrada e permita repetir a operação.\n",
        "print('=-='*5)\n",
        "from time import sleep\n",
        "rep = 'S'\n",
        "while rep == 'S':\n",
        "  A1 = int(input('Informe a população do país \"A\": '))\n",
        "  ataxa = float(input('Informe a taxa de crescimento do país \"A\": '))\n",
        "  B1 = int(input('Informe a população do país \"B\": '))\n",
        "  btaxa = float(input('Informe a taxa de crescimento do país \"B\": '))\n",
        "  A2 = A1\n",
        "  B2 = B1\n",
        "  ano1 = 0\n",
        "  ano2 = 0\n",
        "  print(f'O país \"A\" possui atualmente {A1} mil habitantes e com um aumento de {ataxa}% ao ano !')\n",
        "  print(f'O país \"B\" possui atualmente {B1} mil habitantes e com um aumento de {btaxa}% ao ano !')\n",
        "  print('=-='*5)\n",
        "  print('Vamos calcular quanto tempo o país \"A\" precisará crescrer populacionalmente para alcançar ou ultrapassar o país \"B\" ?')\n",
        "  print('SIM\\n')\n",
        "  print('PROCESSANDO...')\n",
        "  sleep(2)\n",
        "  while A2 < B2:\n",
        "    A2 = A2 * ataxa / 100 + A2\n",
        "    ano1 = ano1 + 1\n",
        "  while A1 < B1:\n",
        "    A1 = A1 * ataxa / 100 + A1\n",
        "    B1 = B1 * btaxa / 100 + B1\n",
        "    ano2 = ano2 + 1\n",
        "  print('=-='*5)\n",
        "  print(f'Para que o país \"A\" alcance a população do país \"B\" com um total de 200.000 mil habitantes fixos,\\nele terá que manter seu crescimento por {ano1} anos !')\n",
        "  print(f'População País \"A\": {A2:.0f}\\nPopulação País \"B\": {B2:.0f}')\n",
        "  print(f'Porém, para ele ultrapassar de fato o país \"B\" acompanhando o seu crescimento, ele terá que aguardar {ano2} anos ')\n",
        "  print(f'População País \"A\": {A1:.0f}\\nPopulação País \"B\": {B1:.0f}')\n",
        "  print('=-='*5)\n",
        "  rep = str(input('Deseja repetir ? (SIM - S|NÃO - N)')).upper()\n",
        "  while rep != 'S' and rep != 'N':\n",
        "    print('Ação inválida, tente novamente !')\n",
        "    rep = str(input('Deseja repetir ? (SIM - S|NÃO - N)')).upper()\n",
        "  if rep == 'S':\n",
        "    rep = 'S'\n",
        "  else:\n",
        "    rep = 'N'\n",
        "    print('Programa Finalizado !')"
      ],
      "metadata": {
        "id": "j5sKv358vOEz",
        "outputId": "cb3c8b02-6f90-4cc1-9378-78ad1cedd9d9",
        "colab": {
          "base_uri": "https://localhost:8080/"
        }
      },
      "execution_count": null,
      "outputs": [
        {
          "output_type": "stream",
          "name": "stdout",
          "text": [
            "=-==-==-==-==-=\n",
            "Informe a população do país \"A\": 80000\n",
            "Informe a taxa de crescimento do país \"A\": 3\n",
            "Informe a população do país \"B\": 200000\n",
            "Informe a taxa de crescimento do país \"B\": 1.5\n",
            "O país \"A\" possui atualmente 80000 mil habitantes e com um aumento de 3.0% ao ano !\n",
            "O país \"B\" possui atualmente 200000 mil habitantes e com um aumento de 1.5% ao ano !\n",
            "=-==-==-==-==-=\n",
            "Vamos calcular quanto tempo o país \"A\" precisará crescrer populacionalmente para alcançar ou ultrapassar o país \"B\" ?\n",
            "SIM\n",
            "\n",
            "PROCESSANDO...\n",
            "=-==-==-==-==-=\n",
            "Para que o país \"A\" alcance a população do país \"B\" com um total de 200.000 mil habitantes fixos,\n",
            "ele terá que manter seu crescimento por 31 anos !\n",
            "População País \"A\": 200006\n",
            "População País \"B\": 200000\n",
            "Porém, para ele ultrapassar de fato o país \"B\" acompanhando o seu crescimento, ele terá que aguardar 63 anos \n",
            "População País \"A\": 515033\n",
            "População País \"B\": 510964\n",
            "=-==-==-==-==-=\n",
            "Deseja repetir ? (SIM - S|NÃO - N)f\n",
            "Ação inválida, tente novamente !\n",
            "Deseja repetir ? (SIM - S|NÃO - N)s\n",
            "Informe a população do país \"A\": 100000\n",
            "Informe a taxa de crescimento do país \"A\": 5.5\n",
            "Informe a população do país \"B\": 200000\n",
            "Informe a taxa de crescimento do país \"B\": 2.3\n",
            "O país \"A\" possui atualmente 100000 mil habitantes e com um aumento de 5.5% ao ano !\n",
            "O país \"B\" possui atualmente 200000 mil habitantes e com um aumento de 2.3% ao ano !\n",
            "=-==-==-==-==-=\n",
            "Vamos calcular quanto tempo o país \"A\" precisará crescrer populacionalmente para alcançar ou ultrapassar o país \"B\" ?\n",
            "SIM\n",
            "\n",
            "PROCESSANDO...\n",
            "=-==-==-==-==-=\n",
            "Para que o país \"A\" alcance a população do país \"B\" com um total de 200.000 mil habitantes fixos,\n",
            "ele terá que manter seu crescimento por 13 anos !\n",
            "População País \"A\": 200577\n",
            "População País \"B\": 200000\n",
            "Porém, para ele ultrapassar de fato o país \"B\" acompanhando o seu crescimento, ele terá que aguardar 23 anos \n",
            "População País \"A\": 342615\n",
            "População País \"B\": 337419\n",
            "=-==-==-==-==-=\n",
            "Deseja repetir ? (SIM - S|NÃO - N)N\n",
            "Programa Finalizado !\n"
          ]
        }
      ]
    },
    {
      "cell_type": "code",
      "source": [
        "# 5. Faça um programa que imprima na tela os números de 1 a 20, um abaixo do outro. Depois modifique o\n",
        "# programa para que ele mostre os números um ao lado do outro.\n",
        "for num in range(20):\n",
        "  print(num+1)\n",
        "print('\\n')\n",
        "for num in range(20):\n",
        "  print(num+1, end=' ')"
      ],
      "metadata": {
        "id": "hFXFQ6YKvON4",
        "outputId": "f0f29bff-afda-4efc-84cb-efb6927db303",
        "colab": {
          "base_uri": "https://localhost:8080/"
        }
      },
      "execution_count": null,
      "outputs": [
        {
          "output_type": "stream",
          "name": "stdout",
          "text": [
            "1\n",
            "2\n",
            "3\n",
            "4\n",
            "5\n",
            "6\n",
            "7\n",
            "8\n",
            "9\n",
            "10\n",
            "11\n",
            "12\n",
            "13\n",
            "14\n",
            "15\n",
            "16\n",
            "17\n",
            "18\n",
            "19\n",
            "20\n",
            "\n",
            "\n",
            "1 2 3 4 5 6 7 8 9 10 11 12 13 14 15 16 17 18 19 20 "
          ]
        }
      ]
    },
    {
      "cell_type": "code",
      "source": [
        "# 6. Faça um programa que leia 5 números e informe o maior número.\n",
        "numeros = []\n",
        "for num in range(1, 6):\n",
        "    numeros.append(int(input('Digite um número: ')))\n",
        "\n",
        "maiornum = numeros[0]\n",
        "\n",
        "cont = 1\n",
        "while cont < len(numeros):\n",
        "    if numeros[cont] > maiornum:\n",
        "        maiornum = numeros[cont]\n",
        "    cont = cont + 1\n",
        "        \n",
        "print ('O maior número é ' + str (maiornum))"
      ],
      "metadata": {
        "id": "B02qpAxVvOWM",
        "outputId": "27c86e73-188a-46be-eff5-22110fb380fb",
        "colab": {
          "base_uri": "https://localhost:8080/"
        }
      },
      "execution_count": null,
      "outputs": [
        {
          "output_type": "stream",
          "name": "stdout",
          "text": [
            "Digite um número: 5\n",
            "Digite um número: 9\n",
            "Digite um número: 2\n",
            "Digite um número: 4\n",
            "Digite um número: 10\n",
            "O maior número é 10\n"
          ]
        }
      ]
    },
    {
      "cell_type": "code",
      "source": [
        "# 7. Faça um programa que leia 5 números e informe a soma e a média dos números.\n",
        "numeros = []\n",
        "for num in range(1, 6):\n",
        "    numeros.append(int(input('Digite um número: ')))\n",
        "soma = numeros[0] + numeros[1] + numeros[2] + numeros[3] + numeros[4]\n",
        "print(f'A soma dos números digitados é {soma} !')\n",
        "media = (numeros[0] + numeros[1] + numeros[2] + numeros[3] + numeros[4]) / 5\n",
        "print(f'A média dos números digitados é {media} !')"
      ],
      "metadata": {
        "id": "LPws6_fxvOd4",
        "outputId": "26470326-212e-4b6b-ca45-d8f068406a94",
        "colab": {
          "base_uri": "https://localhost:8080/"
        }
      },
      "execution_count": null,
      "outputs": [
        {
          "output_type": "stream",
          "name": "stdout",
          "text": [
            "Digite um número: 1\n",
            "Digite um número: 2\n",
            "Digite um número: 3\n",
            "Digite um número: 4\n",
            "Digite um número: 5\n",
            "A soma dos números digitados é 15 !\n",
            "A média dos números digitados é 3.0 !\n"
          ]
        }
      ]
    },
    {
      "cell_type": "code",
      "source": [
        "# 8. Faça um programa que imprima na tela apenas os números ímpares entre 1 e 50.\n",
        "num = 1\n",
        "for i in range(1, 26):\n",
        "  print(num)\n",
        "  num = num + 2"
      ],
      "metadata": {
        "id": "EKU9ekLEvOmg",
        "outputId": "0a26d2de-f7c7-4ca9-9e57-fc8be7a4a813",
        "colab": {
          "base_uri": "https://localhost:8080/"
        }
      },
      "execution_count": null,
      "outputs": [
        {
          "output_type": "stream",
          "name": "stdout",
          "text": [
            "1\n",
            "3\n",
            "5\n",
            "7\n",
            "9\n",
            "11\n",
            "13\n",
            "15\n",
            "17\n",
            "19\n",
            "21\n",
            "23\n",
            "25\n",
            "27\n",
            "29\n",
            "31\n",
            "33\n",
            "35\n",
            "37\n",
            "39\n",
            "41\n",
            "43\n",
            "45\n",
            "47\n",
            "49\n"
          ]
        }
      ]
    },
    {
      "cell_type": "code",
      "source": [
        "# 9. Faça um programa que receba dois números inteiros e gere os números inteiros\n",
        "# que estão no intervalo compreendido por eles.\n",
        "num1 = int(input('Digite um número: '))\n",
        "num2 = int(input('Digite outro número: '))\n",
        "if num1 > num2:\n",
        "  num1 = num1 - 1\n",
        "if num2 > num1:\n",
        "  num2 = num2 - 1\n",
        "for i in range(num1, num2):\n",
        "  num1 = num1 + 1\n",
        "  print(num1)\n",
        "for h in range(num2, num1):\n",
        "  num2 = num2 + 1\n",
        "  print(num2)"
      ],
      "metadata": {
        "id": "gwG_DwBgvOso",
        "outputId": "353a831e-6438-4659-a51f-fe0e4b984610",
        "colab": {
          "base_uri": "https://localhost:8080/"
        }
      },
      "execution_count": null,
      "outputs": [
        {
          "output_type": "stream",
          "name": "stdout",
          "text": [
            "Digite um número: 20\n",
            "Digite outro número: 10\n",
            "11\n",
            "12\n",
            "13\n",
            "14\n",
            "15\n",
            "16\n",
            "17\n",
            "18\n",
            "19\n"
          ]
        }
      ]
    },
    {
      "cell_type": "code",
      "source": [
        "# 10. Altere o programa anterior para mostrar no final a soma dos números.\n",
        "num1 = int(input('Digite um número: '))\n",
        "num2 = int(input('Digite outro número: '))\n",
        "soma = num1+num2\n",
        "if num1 > num2:\n",
        "  num1 = num1 - 1\n",
        "if num2 > num1:\n",
        "  num2 = num2 - 1\n",
        "for i in range(num1, num2):\n",
        "  num1 = num1 + 1\n",
        "  print(num1)\n",
        "for h in range(num2, num1):\n",
        "  num2 = num2 + 1\n",
        "  print(num2)\n",
        "print(f'Soma entre eles: {soma}')"
      ],
      "metadata": {
        "id": "6eNb_xSrvOz4",
        "outputId": "191e1138-e1db-43f9-a281-6a6481db4c0e",
        "colab": {
          "base_uri": "https://localhost:8080/"
        }
      },
      "execution_count": null,
      "outputs": [
        {
          "output_type": "stream",
          "name": "stdout",
          "text": [
            "Digite um número: 20\n",
            "Digite outro número: 10\n",
            "11\n",
            "12\n",
            "13\n",
            "14\n",
            "15\n",
            "16\n",
            "17\n",
            "18\n",
            "19\n",
            "Soma entre eles: 30\n"
          ]
        }
      ]
    },
    {
      "cell_type": "code",
      "source": [
        "# 11. Faça um programa que calcule o valor total investido por um colecionador em sua coleção de CDs\n",
        "# e o valor médio gasto em cada um deles. O usuário deverá informar a quantidade de CDs e o valor para em cada um.\n",
        "quant = int(input(\"Digite a quantidade de CD's: \"))\n",
        "cont = 1\n",
        "total = []\n",
        "for i in range(0, quant):\n",
        "  total.append(int(input(f'Digite o valor do {cont}° CD: R$')))\n",
        "  cont = cont + 1\n",
        "soma = sum(total)\n",
        "media = soma / quant\n",
        "print(f\"O valor de todos os CD's é R${soma}, já a média deles são: R${media}.\")"
      ],
      "metadata": {
        "id": "v9_nLKeIvO7E",
        "outputId": "ad7b6ff1-fc0c-4ff0-c1ad-259131a192e7",
        "colab": {
          "base_uri": "https://localhost:8080/"
        }
      },
      "execution_count": 16,
      "outputs": [
        {
          "output_type": "stream",
          "name": "stdout",
          "text": [
            "Digite a quantidade de CD's: 5\n",
            "Digite o valor do 1° CD: R$10\n",
            "Digite o valor do 2° CD: R$15\n",
            "Digite o valor do 3° CD: R$12\n",
            "Digite o valor do 4° CD: R$17\n",
            "Digite o valor do 5° CD: R$18\n",
            "O valor de todos os CD's é R$72, já a média deles são: R$14.4.\n"
          ]
        }
      ]
    },
    {
      "cell_type": "code",
      "source": [
        "# 12. Faça um programa que leia dez conjuntos de dois valores, o primeiro representando o número do aluno e o\n",
        "# segundo representando a sua altura em centímetros. Encontre o aluno mais alto e o mais baixo. Mostre o número\n",
        "# do aluno mais alto e o número do aluno mais baixo, junto com suas alturas.\n",
        "idade = []\n",
        "altura = []\n",
        "\n",
        "for x in range(0, 10):\n",
        "  idade.append(int(input('Digite a idade do aluno: ')))\n",
        "  altura.append(int(input('Digite a altura do aluno em CM: ')))\n",
        "print('=-='*5)\n",
        "for z in range(0, len(altura)):\n",
        "  if altura[z] == max(altura):\n",
        "    print(f'Idade do aluno mais alto: {idade[z]}')\n",
        "    print(f'Altura do aluno em CM: {altura[z]}')\n",
        "for y in range(0, len(altura)):\n",
        "  if altura[y] == min(altura):\n",
        "    print(f'Idade do aluno mais baixo: {idade[y]}')\n",
        "    print(f'Altura do aluno em CM: {altura[y]}')"
      ],
      "metadata": {
        "id": "IRu7vyfuvPCI",
        "outputId": "0dae0450-c867-4468-94c8-73038f7778b7",
        "colab": {
          "base_uri": "https://localhost:8080/"
        }
      },
      "execution_count": 18,
      "outputs": [
        {
          "output_type": "stream",
          "name": "stdout",
          "text": [
            "Digite a idade do aluno: 18\n",
            "Digite a altura do aluno em CM: 175\n",
            "Digite a idade do aluno: 19\n",
            "Digite a altura do aluno em CM: 179\n",
            "Digite a idade do aluno: 34\n",
            "Digite a altura do aluno em CM: 178\n",
            "Digite a idade do aluno: 35\n",
            "Digite a altura do aluno em CM: 190\n",
            "Digite a idade do aluno: 17\n",
            "Digite a altura do aluno em CM: 160\n",
            "Digite a idade do aluno: 20\n",
            "Digite a altura do aluno em CM: 177\n",
            "Digite a idade do aluno: 40\n",
            "Digite a altura do aluno em CM: 165\n",
            "Digite a idade do aluno: 28\n",
            "Digite a altura do aluno em CM: 166\n",
            "Digite a idade do aluno: 36\n",
            "Digite a altura do aluno em CM: 164\n",
            "Digite a idade do aluno: 37\n",
            "Digite a altura do aluno em CM: 191\n",
            "=-==-==-==-==-=\n",
            "Idade do aluno mais alto: 37\n",
            "Altura do aluno em CM: 191\n",
            "Idade do aluno mais baixo: 17\n",
            "Altura do baixo em CM: 160\n"
          ]
        }
      ]
    },
    {
      "cell_type": "code",
      "source": [
        "# 13. Faça um programa que leia uma quantidade indeterminada de números positivos e conte quantos deles\n",
        "# estão nos seguintes intervalos: [0-25], [26-50], [51-75] e [76-100]. A entrada de dados deverá\n",
        "# terminar quando for lido um número negativo.\n",
        "num0 = []\n",
        "num26 = []\n",
        "num51 = []\n",
        "num76 = []\n",
        "num101 = []\n",
        "num1 = 1\n",
        "cont = 1\n",
        "print('Digite quantos números desejar, para finalizar, digite um número negativo.')\n",
        "while num1 > -1:\n",
        "  num1 = int(input(f'Digite o {cont}° número: '))\n",
        "  cont = cont + 1\n",
        "  if num1 > -1 and num1 < 26:\n",
        "    num0.append(num1)\n",
        "  elif num1 > 25 and num1 < 51:\n",
        "    num26.append(num1)\n",
        "  elif num1 > 50 and num1 < 76:\n",
        "    num51.append(num1)\n",
        "  elif num1 > 75 and num1 < 101:\n",
        "    num76.append(num1)\n",
        "  elif num1 > 100:\n",
        "    num101.append(num1)\n",
        "print('Analisando os números digitados anteriormente, observe quantos estão nos intervalos abaixo: ')\n",
        "total = num0 + num26 + num51 + num76 + num101\n",
        "print(total)\n",
        "print(f'[Total = {len(total)}')\n",
        "print(f'[0-25] = {len(num0)}')\n",
        "print(f'[26-50] = {len(num26)}')\n",
        "print(f'[51-75] = {len(num51)}')\n",
        "print(f'[76-100] = {len(num76)}')\n",
        "print(f'[100+] = {len(num101)}')"
      ],
      "metadata": {
        "id": "AOfLjP0zvPIk",
        "outputId": "7fba8e2b-9d76-4008-9824-fcc7f537dc7a",
        "colab": {
          "base_uri": "https://localhost:8080/"
        }
      },
      "execution_count": 24,
      "outputs": [
        {
          "output_type": "stream",
          "name": "stdout",
          "text": [
            "Digite quantos números desejar, para finalizar, digite um número negativo.\n",
            "Digite o 1° número: 0\n",
            "Digite o 2° número: 25\n",
            "Digite o 3° número: 26\n",
            "Digite o 4° número: 50\n",
            "Digite o 5° número: 51\n",
            "Digite o 6° número: 75\n",
            "Digite o 7° número: 76\n",
            "Digite o 8° número: 100\n",
            "Digite o 9° número: 101\n",
            "Digite o 10° número: 1000\n",
            "Digite o 11° número: -10\n",
            "Analisando os números digitados anteriormente, observe quantos estão nos intervalos abaixo: \n",
            "[0, 25, 26, 50, 51, 75, 76, 100, 101, 1000]\n",
            "[Total = 10\n",
            "[0-25] = 2\n",
            "[26-50] = 2\n",
            "[51-75] = 2\n",
            "[76-100] = 2\n",
            "[100+] = 2\n"
          ]
        }
      ]
    },
    {
      "cell_type": "code",
      "source": [
        "# 14. Faça um programa que mostre os n termos da Série a seguir:\n",
        "# S = 1/1 + 2/3 + 3/5 + 4/7 + 5/9 + ... + n/m. Imprima no final a soma da série.\n",
        "n1 = int(1)\n",
        "n2 = int(1)\n",
        "s1 = str(f'{n1}/{n2}')\n",
        "for x in range(0,5):\n",
        "  n1 = n1 + 1\n",
        "  n2 = n2 + 2\n",
        "  s2 = str(f' + {n1}/{n2}')\n",
        "  s1 = s1 + s2\n",
        "print(s1)"
      ],
      "metadata": {
        "id": "0R649w2hvPPe",
        "outputId": "58af8b6e-d670-40c1-f794-8531994c1012",
        "colab": {
          "base_uri": "https://localhost:8080/"
        }
      },
      "execution_count": 25,
      "outputs": [
        {
          "output_type": "stream",
          "name": "stdout",
          "text": [
            "1/1 + 2/3 + 3/5 + 4/7 + 5/9 + 6/11\n"
          ]
        }
      ]
    }
  ]
}