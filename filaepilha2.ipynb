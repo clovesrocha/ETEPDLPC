{
  "nbformat": 4,
  "nbformat_minor": 0,
  "metadata": {
    "colab": {
      "name": "filaepilha2.ipynb",
      "provenance": [],
      "authorship_tag": "ABX9TyPFdh23G4dKiPt9WweWOl9x",
      "include_colab_link": true
    },
    "kernelspec": {
      "name": "python3",
      "display_name": "Python 3"
    },
    "language_info": {
      "name": "python"
    }
  },
  "cells": [
    {
      "cell_type": "markdown",
      "metadata": {
        "id": "view-in-github",
        "colab_type": "text"
      },
      "source": [
        "<a href=\"https://colab.research.google.com/github/clovesrocha/ETEPDLPC/blob/master/filaepilha2.ipynb\" target=\"_parent\"><img src=\"https://colab.research.google.com/assets/colab-badge.svg\" alt=\"Open In Colab\"/></a>"
      ]
    },
    {
      "cell_type": "code",
      "metadata": {
        "colab": {
          "base_uri": "https://localhost:8080/"
        },
        "id": "2oso4Q2Ipjf9",
        "outputId": "11a0d2b6-9d12-48bd-d35b-2a2ad996f82d"
      },
      "source": [
        "#ETE PORTO DIGITAL\n",
        "#PROFESSOR: CLOVES ROCHA\n",
        "#DISCIPLINA: LPC\n",
        "\n",
        "fila = [100, 101, 102, 103, 104]\n",
        "fila.append(105)  # insere um elemento no final da fila\n",
        "print(fila)"
      ],
      "execution_count": 8,
      "outputs": [
        {
          "output_type": "stream",
          "text": [
            "[100, 101, 102, 103, 104, 105]\n"
          ],
          "name": "stdout"
        }
      ]
    },
    {
      "cell_type": "code",
      "metadata": {
        "id": "pSYPQo_-q_Tw"
      },
      "source": [
        "class Fila(object):\n",
        "    def __init__(self):\n",
        "        self.dados = []\n",
        " \n",
        "    def insere(self, elemento):\n",
        "        self.dados.append(elemento)\n",
        " \n",
        "    def retira(self):\n",
        "        return self.dados.pop(0)\n",
        " \n",
        "    def vazia(self):\n",
        "        return len(self.dados) == 0"
      ],
      "execution_count": 7,
      "outputs": []
    },
    {
      "cell_type": "code",
      "metadata": {
        "id": "NJ4OVO5dq7Lg"
      },
      "source": [
        "class Pilha(object):\n",
        "    def __init__(self):\n",
        "        self.dados = []\n",
        " \n",
        "    def empilha(self, elemento):\n",
        "        self.dados.append(elemento)\n",
        " \n",
        "    def desempilha(self):\n",
        "        if not self.vazia():\n",
        "            return self.dados.pop(-1)\n",
        " \n",
        "    def vazia(self):\n",
        "        return len(self.dados) == 0"
      ],
      "execution_count": 6,
      "outputs": []
    }
  ]
}