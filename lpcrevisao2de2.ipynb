{
  "nbformat": 4,
  "nbformat_minor": 0,
  "metadata": {
    "colab": {
      "name": "lpcrevisao2de2.ipynb",
      "provenance": [],
      "authorship_tag": "ABX9TyPI+dj0mOaD6y6ea1QecYw0",
      "include_colab_link": true
    },
    "kernelspec": {
      "name": "python3",
      "display_name": "Python 3"
    },
    "language_info": {
      "name": "python"
    }
  },
  "cells": [
    {
      "cell_type": "markdown",
      "metadata": {
        "id": "view-in-github",
        "colab_type": "text"
      },
      "source": [
        "<a href=\"https://colab.research.google.com/github/clovesrocha/ETEPDLPC/blob/master/lpcrevisao2de2.ipynb\" target=\"_parent\"><img src=\"https://colab.research.google.com/assets/colab-badge.svg\" alt=\"Open In Colab\"/></a>"
      ]
    },
    {
      "cell_type": "markdown",
      "metadata": {
        "id": "_6-VGYdWIDGa"
      },
      "source": [
        "# ETE PORTO DIGITAL\n",
        "# Prof. MSc. Cloves Rocha\n",
        "# Lógica e Pensamento Computacional - LPC\n",
        "# Revisão 2 de 2 e Simulado Prático \n",
        "# N2 do 1 Bimestre ciclo 2021."
      ]
    },
    {
      "cell_type": "code",
      "metadata": {
        "id": "pWDs64uVD6_Y"
      },
      "source": [
        "# FAÇA UM CÓDIGO/SISTEMA \n",
        "# QUE O CIDADÃO BRASILEIRO ATRIBUA NOTAS/AVALIAÇÕES AOS GOVERNOS \n",
        "# DISTRITO FEDERAL E ESTADOS.\n",
        "# ao todo são 27 unidades federativas.\n",
        "\n",
        "print('Bem-vindo(a) ao Sistema de Avaliação do Brasil, desenvolvido por Cloves Rocha Digital.') \n",
        "cpf = int(input('Cidadão Brasileiro, para participar digite seu CPF:')\n",
        "\n",
        "estado = str(input('INFORME UM ESTADO OU DF QUE SERÁ AVALIADO: ')) \n",
        "notasaude = float(input('Digite uma nota para saúde: '))\n",
        "notaeducacao = float(input('Digite uma nota para educação: '))\n",
        "notaseguranca = float(input('Digite uma nota para segurança: '))\n",
        "mediaestado = notasaude + notaeducacao + notaseguranca\n",
        "print(\"Sua média é: \", mediaestado/3)\n",
        "\n"
      ],
      "execution_count": null,
      "outputs": []
    }
  ]
}