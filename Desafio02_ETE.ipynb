{
  "nbformat": 4,
  "nbformat_minor": 0,
  "metadata": {
    "colab": {
      "name": "Desafio02 ETE",
      "provenance": [],
      "include_colab_link": true
    },
    "kernelspec": {
      "name": "python3",
      "display_name": "Python 3"
    },
    "language_info": {
      "name": "python"
    }
  },
  "cells": [
    {
      "cell_type": "markdown",
      "metadata": {
        "id": "view-in-github",
        "colab_type": "text"
      },
      "source": [
        "<a href=\"https://colab.research.google.com/github/lucasact4/Exercicios-ETE/blob/main/Desafio02_ETE.ipynb\" target=\"_parent\"><img src=\"https://colab.research.google.com/assets/colab-badge.svg\" alt=\"Open In Colab\"/></a>"
      ]
    },
    {
      "cell_type": "code",
      "execution_count": null,
      "metadata": {
        "id": "-mXqqpOF1COz",
        "outputId": "e8ffaf75-c308-4270-c309-c8c3394327b5",
        "colab": {
          "base_uri": "https://localhost:8080/"
        }
      },
      "outputs": [
        {
          "output_type": "stream",
          "name": "stdout",
          "text": [
            "Digite um número: 8\n",
            "Digite outro número: 4\n",
            "O maior número é 8.0\n"
          ]
        }
      ],
      "source": [
        "# 1. Faça um Programa que peça dois números e imprima o maior deles.\n",
        "n1 = float(input('Digite um número: '))\n",
        "n2 = float(input('Digite outro número: '))\n",
        "if n1 > n2:\n",
        "  print('O maior número é {}'.format(n1))\n",
        "elif n2 > n1:\n",
        "  print('O maior número é {}'.format(n2))\n",
        "else:\n",
        "  print('Os números são iguais !')"
      ]
    },
    {
      "cell_type": "code",
      "source": [
        "# 2. Faça um Programa que peça um valor e mostre na tela se o valor é positivo ou negativo.\n",
        "n = float(input('Digite um número: '))\n",
        "if n > 0:\n",
        "  print('O valor {} é positivo.'.format(n))\n",
        "elif n == 0:\n",
        "  print('O valor {} é neutro.'.format(n))\n",
        "else:\n",
        "  print('O valor {} é negativo.'.format(n))"
      ],
      "metadata": {
        "id": "-IYpZv5z1NRs",
        "colab": {
          "base_uri": "https://localhost:8080/"
        },
        "outputId": "93726971-e89e-43df-9726-fe874f5729db"
      },
      "execution_count": 4,
      "outputs": [
        {
          "output_type": "stream",
          "name": "stdout",
          "text": [
            "Digite um número: -2\n",
            "O valor -2.0 é negativo.\n"
          ]
        }
      ]
    },
    {
      "cell_type": "code",
      "source": [
        "# 3. Faça um Programa que verifique se uma letra digitada é \"F\" ou \"M\". Conforme a letra escrever:\n",
        "# F - Feminino, M - Masculino, Sexo Inválido.\n",
        "l = str(input('Digite uma letra: (F - Feminino | M - Masculino) ')).upper()\n",
        "while not ((l == 'M') or (l == 'F')):\n",
        "  print('Sexo Inválido. Tente novamente !')\n",
        "  l = str(input('Digite uma letra: (F - Feminino | M - Masculino) ')).upper()\n",
        "if l == 'M':\n",
        "  print('Masculino')\n",
        "else:\n",
        "  print('Feminino')"
      ],
      "metadata": {
        "id": "10_WrUst1PHB",
        "colab": {
          "base_uri": "https://localhost:8080/"
        },
        "outputId": "b7b59bc9-e512-4cd9-9475-dd22974b72ec"
      },
      "execution_count": 86,
      "outputs": [
        {
          "output_type": "stream",
          "name": "stdout",
          "text": [
            "Digite uma letra: (F - Feminino | M - Masculino) a\n",
            "Sexo Inválido. Tente novamente !\n",
            "Digite uma letra: (F - Feminino | M - Masculino) F\n",
            "Feminino\n"
          ]
        }
      ]
    },
    {
      "cell_type": "code",
      "source": [
        "# 4. Faça um Programa que verifique se uma letra digitada é vogal ou consoante.\n",
        "l = input('Digite uma letra: ').upper()\n",
        "while l.isnumeric() == True:\n",
        "  print('Você digitou um número. Tente novamente com uma letra !')\n",
        "  l = input('Digite uma letra: ').upper()\n",
        "if l == 'A' or l == 'E' or l == 'I' or l == 'O' or l == 'U':\n",
        "  print('A letra {} é uma vogal !'.format(l))\n",
        "else:\n",
        "  print('A letra {} é uma consoante !'.format(l))"
      ],
      "metadata": {
        "id": "8fHGEqlH1SJq",
        "colab": {
          "base_uri": "https://localhost:8080/"
        },
        "outputId": "4826d164-1585-43f6-e804-4ac48b0f1d19"
      },
      "execution_count": 63,
      "outputs": [
        {
          "output_type": "stream",
          "name": "stdout",
          "text": [
            "Digite uma letra: 1\n",
            "Você digitou um número. Tente novamente com uma letra !\n",
            "Digite uma letra: a\n",
            "A letra A é uma vogal !\n"
          ]
        }
      ]
    },
    {
      "cell_type": "code",
      "source": [
        "# 5. Faça um Programa que leia três números e mostre o maior deles.\n",
        "n1 = int(input('Digite o primeiro número: '))\n",
        "n2 = int(input('Digite o segundo número: '))\n",
        "n3 = int(input('Digite o terceiro número: '))\n",
        "if n1 > n2 and n1 > n3:\n",
        "    print('O primeiro número que é {} é o MAIOR.'.format(n1))\n",
        "elif n2 > n1 and n2 > n3:\n",
        "    print('O segundo número que é {} é o MAIOR.'.format(n2))\n",
        "elif n3 > n2 and n3 > n1:\n",
        "    print('O terceiro número que é {} é o MAIOR.'.format(n3))\n",
        "if n1 == n2 and n1 != n3:\n",
        "    print('O primeiro e o segundo número que é {}, são IGUAIS.'.format(n1))\n",
        "elif n2 == n3 and n2 != n1:\n",
        "    print('O segundo e o terceiro número que é {}, são IGUAIS.'.format(n2, n3))\n",
        "elif n1 == n3 and n3 != n2:\n",
        "    print('O primeiro e o terceiro número que é {}, são IGUAIS.'.format(n1, n3))\n",
        "elif n1 == n2 and n1 == n2 and n2 == n3:\n",
        "    print('Todos os números são IGUAIS.')"
      ],
      "metadata": {
        "id": "wkT_Jjpd1TTX",
        "colab": {
          "base_uri": "https://localhost:8080/"
        },
        "outputId": "7769f012-66e5-4d97-c41f-a7caaaac0686"
      },
      "execution_count": 83,
      "outputs": [
        {
          "output_type": "stream",
          "name": "stdout",
          "text": [
            "Digite o primeiro número: 2\n",
            "Digite o segundo número: 5\n",
            "Digite o terceiro número: 1\n",
            "O segundo número que é 5 é o MAIOR.\n"
          ]
        }
      ]
    },
    {
      "cell_type": "code",
      "source": [
        "# 6. Faça um Programa que leia três números e mostre o maior e o menor deles.\n",
        "n1 = int(input('Digite o primeiro número: '))\n",
        "n2 = int(input('Digite o segundo número: '))\n",
        "n3 = int(input('Digite o terceiro número: '))\n",
        "if n1 > n2 and n1 > n3:\n",
        "    print('O primeiro número que é {} é o MAIOR.'.format(n1))\n",
        "elif n2 > n1 and n2 > n3:\n",
        "    print('O segundo número que é {} é o MAIOR.'.format(n2))\n",
        "elif n3 > n2 and n3 > n1:\n",
        "    print('O terceiro número que é {} é o MAIOR.'.format(n3))\n",
        "if n1 == n2 and n1 != n3:\n",
        "    print('O primeiro e o segundo número que é {}, são IGUAIS.'.format(n1))\n",
        "elif n2 == n3 and n2 != n1:\n",
        "    print('O segundo e o terceiro número que é {}, são IGUAIS.'.format(n2, n3))\n",
        "elif n1 == n3 and n3 != n2:\n",
        "    print('O primeiro e o terceiro número que é {}, são IGUAIS.'.format(n1, n3))\n",
        "elif n1 == n2 and n1 == n2 and n2 == n3:\n",
        "    print('Todos os números são IGUAIS.')\n",
        "if n1 < n2 and n1 < n3:\n",
        "    print('O primeiro número que é {} é o MENOR.'.format(n1))\n",
        "elif n2 < n1 and n2 < n3:\n",
        "    print('O segundo número que é {} é o MENOR.'.format(n2))\n",
        "elif n3 < n2 and n3 < n1:\n",
        "    print('O terceiro número que é {} é o MENOR.'.format(n3))"
      ],
      "metadata": {
        "id": "gIXvQu1F1Uew",
        "colab": {
          "base_uri": "https://localhost:8080/"
        },
        "outputId": "2b1fca2c-5d41-464b-a0d5-04d90b3dc92b"
      },
      "execution_count": 68,
      "outputs": [
        {
          "output_type": "stream",
          "name": "stdout",
          "text": [
            "Digite o primeiro número: 2\n",
            "Digite o segundo número: 4\n",
            "Digite o terceiro número: 6\n",
            "O terceiro número que é 6 é o MAIOR.\n",
            "O primeiro número que é 2 é o MENOR.\n"
          ]
        }
      ]
    },
    {
      "cell_type": "code",
      "source": [
        "# 7. Faça um programa que pergunte o preço de três produtos e informe qual produto você\n",
        "# deve comprar, sabendo que a decisão é sempre pelo mais barato.\n",
        "n1 = int(input('Digite o valor do primeiro produto: R$'))\n",
        "n2 = int(input('Digite o valor do segundo produto: R$'))\n",
        "n3 = int(input('Digite o valor do terceiro produto: R$'))\n",
        "if n1 < n2 and n1 < n3:\n",
        "    print('O primeiro produto que custa R${} é o que você deve comprar.'.format(n1))\n",
        "elif n2 < n1 and n2 < n3:\n",
        "    print('O segundo produto que custa R${} é o que você deve comprar.'.format(n2))\n",
        "elif n3 < n2 and n3 < n1:\n",
        "    print('O terceiro produto que custa R${} é o que você deve comprar.'.format(n3))"
      ],
      "metadata": {
        "id": "yDBeRZXP1ZBx",
        "colab": {
          "base_uri": "https://localhost:8080/"
        },
        "outputId": "090f4d82-15c7-4387-8015-6930c0562acf"
      },
      "execution_count": 70,
      "outputs": [
        {
          "output_type": "stream",
          "name": "stdout",
          "text": [
            "Digite o valor do primeiro produto: R$100\n",
            "Digite o valor do segundo produto: R$80\n",
            "Digite o valor do terceiro produto: R$150\n",
            "O segundo produto que custa R$80 é o que você deve comprar.\n"
          ]
        }
      ]
    },
    {
      "cell_type": "code",
      "source": [
        "# 8. Faça um Programa que leia três números e mostre-os em ordem decrescente.\n",
        "n1 = int(input('Digite o primeiro número: '))\n",
        "n2 = int(input('Digite o segundo número: '))\n",
        "n3 = int(input('Digite o terceiro número: '))\n",
        "if n1 > n2 > n3:\n",
        "  print(n1, n2, n3)\n",
        "if n1 > n3 > n2:\n",
        "  print(n1, n3, n2)\n",
        "if n2 > n1 > n3:\n",
        "  print(n2, n1, n3)\n",
        "if n2 > n3 > n1:\n",
        "  print(n2, n3, n1)\n",
        "if n3 > n1 > n2:\n",
        "  print(n3, n1, n2)\n",
        "if n3 > n2 > n1:\n",
        "  print(n3, n2, n1)\n",
        "if n1 == n2 or n1 == n3 or n2 == n3:\n",
        "  print('Inválido')"
      ],
      "metadata": {
        "id": "8KiUxqna1aYn",
        "colab": {
          "base_uri": "https://localhost:8080/"
        },
        "outputId": "f68415ec-2df9-480f-df26-ac014feae7d4"
      },
      "execution_count": 76,
      "outputs": [
        {
          "output_type": "stream",
          "name": "stdout",
          "text": [
            "Digite o primeiro número: 10\n",
            "Digite o segundo número: 8\n",
            "Digite o terceiro número: 18\n",
            "18 10 8\n"
          ]
        }
      ]
    },
    {
      "cell_type": "code",
      "source": [
        "# 9. Faça um Programa que pergunte em que turno você estuda. Peça para digitar M-matutino ou V-Vespertino ou N- Noturno.\n",
        "# Imprima a mensagem \"Bom Dia!\", \"Boa Tarde!\" ou \"Boa Noite!\" ou \"Valor Inválido!\", conforme o caso.\n",
        "h = str(input('Em que turno você estuda ?\\n(M - Matutino | V - Vespertino | N - Noturno) ')).upper()\n",
        "if h == 'M':\n",
        "  print('Bom dia!')\n",
        "elif h == 'V':\n",
        "  print('Boa tarde!')\n",
        "elif h == 'N':\n",
        "  print('Boa noite!')\n",
        "else:\n",
        "  print('Valor Inválido!')"
      ],
      "metadata": {
        "id": "pq7bvlY-1cN7",
        "colab": {
          "base_uri": "https://localhost:8080/"
        },
        "outputId": "d6a12bd3-70b8-4dcd-ee2b-3ddfd97c44f3"
      },
      "execution_count": 84,
      "outputs": [
        {
          "output_type": "stream",
          "name": "stdout",
          "text": [
            "Em que turno você estuda ?\n",
            "(M - Matutino | V - Vespertino | N - Noturno) N\n",
            "Boa noite!\n"
          ]
        }
      ]
    },
    {
      "cell_type": "code",
      "source": [
        "# 10. Faça um Programa que peça um número correspondente a um determinado ano e em seguida informe se este ano é ou não bissexto.\n",
        "from datetime import date\n",
        "print('Digite o número 0 para analisar o ano atual !')\n",
        "ano = int(input('Digite o ano que deseja descobrir se é BISSEXTO: '))\n",
        "if ano == 0:\n",
        "    ano = date.today().year\n",
        "if (ano % 400 == 0) and (ano % 100 == 0):\n",
        "    print('{} é um ano BISSEXTO !'.format(ano))\n",
        "elif (ano % 4 == 0) and (ano % 100 != 0):\n",
        "    print('{} é um ano BISSEXTO !'.format(ano))\n",
        "else:\n",
        "    print('{} não é um ano BISSEXTO !'.format(ano))"
      ],
      "metadata": {
        "id": "qrYPARF51jMs",
        "colab": {
          "base_uri": "https://localhost:8080/"
        },
        "outputId": "8a74b2b7-c38c-48dc-d125-4f4b6252bce0"
      },
      "execution_count": 94,
      "outputs": [
        {
          "output_type": "stream",
          "name": "stdout",
          "text": [
            "Digite o número 0 para analisar o ano atual !\n",
            "Digite o ano que deseja descobrir se é BISSEXTO: 0\n",
            "2022 não é um ano BISSEXTO !\n"
          ]
        }
      ]
    },
    {
      "cell_type": "code",
      "source": [
        "# 11. Faça um Programa que peça uma data no formato dd/mm/aaaa e determine se a mesma é uma data válida.\n",
        "dia = int(input('Digite o dia: '))\n",
        "mes = int(input('Digite o mês: '))\n",
        "ano = int(input('Digite o ano: '))\n",
        "print('Formato: {:2}/{:2}/{:4}'.format(dia, mes, ano))\n",
        "if dia > 31 or dia < 1:\n",
        "  print('Dia Inválido !')\n",
        "if mes > 12 or mes < 1:\n",
        "  print('Mês Inválido !')\n",
        "if ano < 0:\n",
        "  print('Ano Inválido !')\n",
        "else:\n",
        "  print('A data está correta !')"
      ],
      "metadata": {
        "id": "UwhOPBrj1l11",
        "colab": {
          "base_uri": "https://localhost:8080/"
        },
        "outputId": "e80dc98b-69f4-4a54-f396-e673b5b08dcb"
      },
      "execution_count": 106,
      "outputs": [
        {
          "output_type": "stream",
          "name": "stdout",
          "text": [
            "Digite o dia: 19\n",
            "Digite o mês: 05\n",
            "Digite o ano: 2003\n",
            "Formato: 19/ 5/2003\n",
            "A data está correta !\n"
          ]
        }
      ]
    },
    {
      "cell_type": "code",
      "source": [
        "# 12. Faça um programa que faça 5 perguntas para uma pessoa sobre um crime. As perguntas são:\n",
        "# a. \"Telefonou para a vítima?\"\n",
        "# b. \"Esteve no local do crime?\"\n",
        "# c. \"Mora perto da vítima?\"\n",
        "# d. \"Devia para a vítima?\"\n",
        "# e. \"Já trabalhou com a vítima?\"\n",
        "# O programa deve no final emitir uma classificação sobre a participação da pessoa no crime.\n",
        "# Se a pessoa responder positivamente a 2 questões ela deve ser classificada como \"Suspeita\", entre 3 e 4 como \"Cúmplice\" e\n",
        "# 5 como \"Assassino\". Caso contrário, ele será classificado como \"Inocente\".\n",
        "print('Responda as questões a seguir: (S - SIM | N - NÃO)')\n",
        "a = str(input('Telefonou para a vítima ? ')).upper()\n",
        "b = str(input('Esteve no local do crime ? ')).upper()\n",
        "c = str(input('Mora perto da vítima ? ')).upper()\n",
        "d = str(input('Devia para a vítima ? ')).upper()\n",
        "e = str(input('Já trabalhou com a vítima ? ')).upper()\n",
        "if b == 'S' and c == 'N' or d == 'N':\n",
        "  print('Suspeita !')\n",
        "elif b == 'S' and c == 'S' and d == 'S' and e == 'N':\n",
        "  print('Cúmplice !')\n",
        "elif b == 'S' and c == 'S' and d == 'S' and e == 'S':\n",
        "  print('Assasino !')\n",
        "else:\n",
        "  print('Inocente !')"
      ],
      "metadata": {
        "id": "iATApxGd1l7j",
        "colab": {
          "base_uri": "https://localhost:8080/"
        },
        "outputId": "9501877b-4a38-418e-c887-9fdbb3e5b785"
      },
      "execution_count": 118,
      "outputs": [
        {
          "output_type": "stream",
          "name": "stdout",
          "text": [
            "Responda as questões a seguir: (S - SIM | N - NÃO)\n",
            "Telefonou para a vítima ? N\n",
            "Esteve no local do crime ? S\n",
            "Mora perto da vítima ? S\n",
            "Devia para a vítima ? S\n",
            "Já trabalhou com a vítima ? S\n",
            "Assasino !\n"
          ]
        }
      ]
    }
  ]
}