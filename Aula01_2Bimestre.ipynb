{
  "nbformat": 4,
  "nbformat_minor": 0,
  "metadata": {
    "colab": {
      "name": "Aula01-2Bimestre.ipynb",
      "provenance": [],
      "authorship_tag": "ABX9TyOAnvDEL6gr22kzznE47BXW",
      "include_colab_link": true
    },
    "kernelspec": {
      "name": "python3",
      "display_name": "Python 3"
    },
    "language_info": {
      "name": "python"
    }
  },
  "cells": [
    {
      "cell_type": "markdown",
      "metadata": {
        "id": "view-in-github",
        "colab_type": "text"
      },
      "source": [
        "<a href=\"https://colab.research.google.com/github/clovesrocha/ETEPDLPC/blob/master/Aula01_2Bimestre.ipynb\" target=\"_parent\"><img src=\"https://colab.research.google.com/assets/colab-badge.svg\" alt=\"Open In Colab\"/></a>"
      ]
    },
    {
      "cell_type": "code",
      "metadata": {
        "id": "hxTRo0QUkaK7"
      },
      "source": [
        "# ETE PD\n",
        "# DISCIPLINA DE LPC\n",
        "# PROFESSOR: CLOVES"
      ],
      "execution_count": null,
      "outputs": []
    },
    {
      "cell_type": "code",
      "metadata": {
        "colab": {
          "base_uri": "https://localhost:8080/"
        },
        "id": "iUIkyvUKkl96",
        "outputId": "98683ee4-3ca1-4193-b6f1-9421721f456c"
      },
      "source": [
        "resposta = int(input('Qual sua idade: '))\n",
        "#SE #and = e\n",
        "if resposta>=18 and resposta <=65:\n",
        "   print('Você é obrigado a votar!')\n",
        "\n",
        "elif resposta == 17:\n",
        "   print('Você pode votar, mas não é obrigatório!')\n",
        "\n",
        "#SENAO\n",
        "else:\n",
        "   print('Você não é obrigado a votar!')"
      ],
      "execution_count": 4,
      "outputs": [
        {
          "output_type": "stream",
          "text": [
            "Qual sua idade: 17\n",
            "Você pode votar, mas não é obrigatório!\n"
          ],
          "name": "stdout"
        }
      ]
    },
    {
      "cell_type": "code",
      "metadata": {
        "colab": {
          "base_uri": "https://localhost:8080/"
        },
        "id": "FzhCSoh1oE6o",
        "outputId": "8a5e5485-9bc5-4b92-f5ae-f51d09b90ab1"
      },
      "source": [
        "print('Selecione uma das opções abaixo:')\n",
        "print('1. Idoso')\n",
        "print('2. Gestante')\n",
        "print('3. Cadeirante')\n",
        "print('4. Comum')\n",
        "resposta = int(input('Você é: ') )\n",
        "\n",
        "#SE #OU\n",
        "if (resposta==1) or (resposta==2) or (resposta==3) :\n",
        "   print('Você tem direito a fila prioritária')\n",
        "\n",
        "#SENAO\n",
        "else:\n",
        "   print('Você não tem direito a nada. Vá pra fila e fique quieto.')"
      ],
      "execution_count": 5,
      "outputs": [
        {
          "output_type": "stream",
          "text": [
            "Selecione uma das opções abaixo:\n",
            "1. Idoso\n",
            "2. Gestante\n",
            "3. Cadeirante\n",
            "4. Nenhum destes\n",
            "Você é: 4\n",
            "Você não tem direito a nada. Vá pra fila e fique quieto.\n"
          ],
          "name": "stdout"
        }
      ]
    },
    {
      "cell_type": "code",
      "metadata": {
        "colab": {
          "base_uri": "https://localhost:8080/"
        },
        "id": "4xedpwrQpW22",
        "outputId": "ee0e991c-d4d7-489a-f153-39da7290ffbf"
      },
      "source": [
        "# not inverte \n",
        "a = 4\n",
        "b = 2\n",
        "print(not a > b)"
      ],
      "execution_count": 7,
      "outputs": [
        {
          "output_type": "stream",
          "text": [
            "False\n"
          ],
          "name": "stdout"
        }
      ]
    },
    {
      "cell_type": "code",
      "metadata": {
        "colab": {
          "base_uri": "https://localhost:8080/"
        },
        "id": "cxWQBHjSqKzC",
        "outputId": "f5d1d34f-9e9b-4070-b11c-22250dfc9b3b"
      },
      "source": [
        "banda = input('Qual melhor banda do mundo? ')\n",
        "\n",
        "if not banda=='Beatles':\n",
        "   print('Herege!')\n",
        "else:\n",
        "   print('Correto, são os Beatles!')"
      ],
      "execution_count": 11,
      "outputs": [
        {
          "output_type": "stream",
          "text": [
            "Qual melhor banda do mundo? Calcinha preta!\n",
            "Herege!\n"
          ],
          "name": "stdout"
        }
      ]
    },
    {
      "cell_type": "code",
      "metadata": {
        "colab": {
          "base_uri": "https://localhost:8080/"
        },
        "id": "iFq0Q_Blq_Lt",
        "outputId": "1ce26701-25ca-44e4-a2b2-391d9c5797df"
      },
      "source": [
        "a = float(input('Digite um número: '))\n",
        "#SE\n",
        "if a in range(1, 300):\n",
        "   print(f'{a} está entre 1 e 300.')\n",
        "\n",
        "#SENAO\n",
        "else:\n",
        "   print(f'{a} não está entre 1 e 300.')"
      ],
      "execution_count": 25,
      "outputs": [
        {
          "output_type": "stream",
          "text": [
            "Digite um número: 299.9\n",
            "299.9 não está entre 1 e 300.\n"
          ],
          "name": "stdout"
        }
      ]
    }
  ]
}