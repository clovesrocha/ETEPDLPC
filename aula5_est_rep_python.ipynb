{
  "nbformat": 4,
  "nbformat_minor": 0,
  "metadata": {
    "colab": {
      "name": "aula5_est_rep_python.ipynb",
      "provenance": [],
      "authorship_tag": "ABX9TyPpDSIUlQi8x/jH4TLTb38d",
      "include_colab_link": true
    },
    "kernelspec": {
      "name": "python3",
      "display_name": "Python 3"
    },
    "language_info": {
      "name": "python"
    }
  },
  "cells": [
    {
      "cell_type": "markdown",
      "metadata": {
        "id": "view-in-github",
        "colab_type": "text"
      },
      "source": [
        "<a href=\"https://colab.research.google.com/github/clovesrocha/ETEPDLPC/blob/master/aula5_est_rep_python.ipynb\" target=\"_parent\"><img src=\"https://colab.research.google.com/assets/colab-badge.svg\" alt=\"Open In Colab\"/></a>"
      ]
    },
    {
      "cell_type": "code",
      "metadata": {
        "colab": {
          "base_uri": "https://localhost:8080/"
        },
        "id": "PCvHU-nkL7jt",
        "outputId": "8026fc1f-08d7-4da6-b3cc-b53edae46f6e"
      },
      "source": [
        "# ETE PORTO DIGITAL\n",
        "# PROFESSOR CLOVES ROCHA\n",
        "# ESTUDANTE: ---\n",
        "\n",
        "nomes = ['José', 'Maria', 'Cloves'] \n",
        "for n in nomes: \n",
        "  print(n)"
      ],
      "execution_count": 3,
      "outputs": [
        {
          "output_type": "stream",
          "text": [
            "José\n",
            "Maria\n",
            "Cloves\n"
          ],
          "name": "stdout"
        }
      ]
    }
  ]
}