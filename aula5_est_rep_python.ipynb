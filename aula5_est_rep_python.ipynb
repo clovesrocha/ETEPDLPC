{
  "nbformat": 4,
  "nbformat_minor": 0,
  "metadata": {
    "colab": {
      "name": "aula5_est_rep_python.ipynb",
      "provenance": [],
      "authorship_tag": "ABX9TyPk9KK+rMeuEmfBXPLqJiOm",
      "include_colab_link": true
    },
    "kernelspec": {
      "name": "python3",
      "display_name": "Python 3"
    },
    "language_info": {
      "name": "python"
    }
  },
  "cells": [
    {
      "cell_type": "markdown",
      "metadata": {
        "id": "view-in-github",
        "colab_type": "text"
      },
      "source": [
        "<a href=\"https://colab.research.google.com/github/clovesrocha/ETEPDLPC/blob/master/aula5_est_rep_python.ipynb\" target=\"_parent\"><img src=\"https://colab.research.google.com/assets/colab-badge.svg\" alt=\"Open In Colab\"/></a>"
      ]
    },
    {
      "cell_type": "code",
      "metadata": {
        "colab": {
          "base_uri": "https://localhost:8080/"
        },
        "id": "PCvHU-nkL7jt",
        "outputId": "e62f2a21-a569-447b-c8e6-d4f37b6890dd"
      },
      "source": [
        "# ETE PORTO DIGITAL\n",
        "# PROFESSOR CLOVES ROCHA\n",
        "# ESTUDANTE: ---\n",
        "\n",
        "nomes = ['José', 'Maria', 'Cloves'] \n",
        "for n in nomes: print(n)"
      ],
      "execution_count": 2,
      "outputs": [
        {
          "output_type": "stream",
          "text": [
            "José\n",
            "Maria\n",
            "Cloves\n"
          ],
          "name": "stdout"
        }
      ]
    }
  ]
}