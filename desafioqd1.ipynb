{
  "nbformat": 4,
  "nbformat_minor": 0,
  "metadata": {
    "colab": {
      "name": "desafioqd1.ipynb",
      "provenance": [],
      "authorship_tag": "ABX9TyPwgNopqGvbzlR8YsoCS49F",
      "include_colab_link": true
    },
    "kernelspec": {
      "name": "python3",
      "display_name": "Python 3"
    },
    "language_info": {
      "name": "python"
    }
  },
  "cells": [
    {
      "cell_type": "markdown",
      "metadata": {
        "id": "view-in-github",
        "colab_type": "text"
      },
      "source": [
        "<a href=\"https://colab.research.google.com/github/clovesrocha/ETEPDLPC/blob/master/desafioqd1.ipynb\" target=\"_parent\"><img src=\"https://colab.research.google.com/assets/colab-badge.svg\" alt=\"Open In Colab\"/></a>"
      ]
    },
    {
      "cell_type": "code",
      "metadata": {
        "id": "gdvvTH-_wcHg"
      },
      "source": [
        "class Nodo:\n",
        "    \"\"\"Esta classe representa um nodo de uma estrutura duplamente encadeada.\"\"\"\n",
        "    def __init__(self, dado=0, proximo_nodo=None):\n",
        "        self.dado = dado\n",
        "        self.proximo = proximo_nodo\n",
        "\n",
        "    def __repr__(self):\n",
        "        return '%s -> %s' % (self.dado, self.proximo)\n",
        "\n",
        "\n",
        "class Fila:\n",
        "    \"\"\"Esta classe representa uma fila usando uma estrutura encadeada.\"\"\"\n",
        "\n",
        "    def __init__(self):\n",
        "        self.primeiro = None\n",
        "        self.ultimo   = None\n",
        "\n",
        "\n",
        "    def __repr__(self):\n",
        "        return \"[\" + str(self.primeiro) + \"]\""
      ],
      "execution_count": null,
      "outputs": []
    }
  ]
}