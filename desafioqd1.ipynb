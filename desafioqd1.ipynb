{
  "nbformat": 4,
  "nbformat_minor": 0,
  "metadata": {
    "colab": {
      "name": "desafioqd1.ipynb",
      "provenance": [],
      "authorship_tag": "ABX9TyNsjgElukn8I6tJKfztJpJ2",
      "include_colab_link": true
    },
    "kernelspec": {
      "name": "python3",
      "display_name": "Python 3"
    },
    "language_info": {
      "name": "python"
    }
  },
  "cells": [
    {
      "cell_type": "markdown",
      "metadata": {
        "id": "view-in-github",
        "colab_type": "text"
      },
      "source": [
        "<a href=\"https://colab.research.google.com/github/clovesrocha/ETEPDLPC/blob/master/desafioqd1.ipynb\" target=\"_parent\"><img src=\"https://colab.research.google.com/assets/colab-badge.svg\" alt=\"Open In Colab\"/></a>"
      ]
    },
    {
      "cell_type": "code",
      "metadata": {
        "id": "gdvvTH-_wcHg"
      },
      "source": [
        "#O exemplo abaixo tenta deixar os conceitos acima mais claros.\n",
        "\n",
        "class Nodo:\n",
        "    \"\"\"Esta classe representa um nodo de uma estrutura duplamente encadeada.\"\"\"\n",
        "    def __init__(self, dado=0, proximo_nodo=None):\n",
        "        self.dado = dado\n",
        "        self.proximo = proximo_nodo\n",
        "\n",
        "    def __repr__(self):\n",
        "        return '%s -> %s' % (self.dado, self.proximo)\n",
        "\n",
        "\n",
        "class Fila:\n",
        "    \"\"\"Esta classe representa uma fila usando uma estrutura encadeada.\"\"\"\n",
        "\n",
        "    def __init__(self):\n",
        "        self.primeiro = None\n",
        "        self.ultimo   = None\n",
        "\n",
        "\n",
        "    def __repr__(self):\n",
        "        return \"[\" + str(self.primeiro) + \"]\""
      ],
      "execution_count": 10,
      "outputs": []
    },
    {
      "cell_type": "code",
      "metadata": {
        "colab": {
          "base_uri": "https://localhost:8080/"
        },
        "id": "c1DQtvUE8zLc",
        "outputId": "f11ce754-761c-4a2a-cc94-6773e035c493"
      },
      "source": [
        "#Exemplo 1. Construir uma lista e imprimir seus elementos.\n",
        "# Python2 para 'print' sem pular linha : print(\"*\" , end = \"\");\n",
        "from __future__ import print_function\n",
        "\n",
        "n = 10;\n",
        "\n",
        "# Definir vetor/lista com: (10,11,12,13,...10+n-1)\n",
        "vet = []; # define um vetor vazio\n",
        "for i in range(0, n, 1) : # ou mais simples neste caso \"for i in range(n)\"\n",
        "  vet.append(10+i); # anexe mais um elemento `a lista\n",
        "# Imprime o vetor/lista de uma so' vez (na mesma linha)\n",
        "print(\"\\nO vetor: \", end=\"\"); # informe o que vira impresso a seguir (na mesma linha devido ao parametro end=\"\"\n",
        "print(vet);\n",
        "\n",
        "# Imprimir vet em linha unica na forma \"( 0,  0) ( 1,   1)...\"\n",
        "print(\"\\nNovamente o vetor impresso de 2 modos: \"); # informe o que vira impresso a seguir (e \"quebre\" a linha)\n",
        "i = 0;\n",
        "for item in vet : # \"item in vet\" e' um iterador, item comeca em vet[0], depois vet[1] e assim por diante\n",
        "  print(\"(%2d, %2d) \" % (item, vet[i]), end=\"\");\n",
        "  i += 1;\n",
        "print(); # quebre a linha"
      ],
      "execution_count": 11,
      "outputs": [
        {
          "output_type": "stream",
          "text": [
            "\n",
            "O vetor: [10, 11, 12, 13, 14, 15, 16, 17, 18, 19]\n",
            "\n",
            "Novamente o vetor impresso de 2 modos: \n",
            "(10, 10) (11, 11) (12, 12) (13, 13) (14, 14) (15, 15) (16, 16) (17, 17) (18, 18) (19, 19) \n"
          ],
          "name": "stdout"
        }
      ]
    }
  ]
}