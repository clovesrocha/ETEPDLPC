{
  "nbformat": 4,
  "nbformat_minor": 0,
  "metadata": {
    "colab": {
      "name": "aula3LPC-REMOTA15Mar2021.ipynb",
      "provenance": [],
      "authorship_tag": "ABX9TyPH1gFa1kWjs5pqNrkbw2yX",
      "include_colab_link": true
    },
    "kernelspec": {
      "name": "python3",
      "display_name": "Python 3"
    }
  },
  "cells": [
    {
      "cell_type": "markdown",
      "metadata": {
        "id": "view-in-github",
        "colab_type": "text"
      },
      "source": [
        "<a href=\"https://colab.research.google.com/github/clovesrocha/ETEPDLPC/blob/master/aula3LPC_REMOTA15Mar2021.ipynb\" target=\"_parent\"><img src=\"https://colab.research.google.com/assets/colab-badge.svg\" alt=\"Open In Colab\"/></a>"
      ]
    },
    {
      "cell_type": "code",
      "metadata": {
        "colab": {
          "base_uri": "https://localhost:8080/"
        },
        "id": "XJj3RrshUNFL",
        "outputId": "65b1b01a-c3c7-4299-c89b-d61e62ae0cba"
      },
      "source": [
        "# ETE PORTO DIGITAL\n",
        "# LPC 2021 - Introdução à Python\n",
        "# Prof. Cloves Rocha\n",
        "# Estudante: ----\n",
        "\n",
        "# TIPOS DE VARIÁVEIS \n",
        "#r = 'Olá Rodrigo!'\n",
        "#print(r)\n",
        "\n",
        "# TIPOS DE DADOS PRIMITIVOS \n",
        "#x = 9.5\n",
        "#print(type(x)) \n",
        "\n",
        "#nota1 = 10\n",
        "#nota2 = 9.5\n",
        "#print(nota1 == nota2)\n",
        "\n",
        "nota1 = 10\n",
        "nota2 = 9.5\n",
        "nota3 = 8\n",
        "nota4 = 8.5\n",
        "notafinal = nota1 + nota2 + nota3 + nota4\n",
        "print('Sua média é:' , notafinal/4 , 'PARABÉNS! VC FOI APROVADO(A)!')\n"
      ],
      "execution_count": 25,
      "outputs": [
        {
          "output_type": "stream",
          "text": [
            "Sua média é: 9.0 PARABÉNS! VC FOI APROVADO(A)!\n"
          ],
          "name": "stdout"
        }
      ]
    }
  ]
}