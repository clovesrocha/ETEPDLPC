{
  "nbformat": 4,
  "nbformat_minor": 0,
  "metadata": {
    "colab": {
      "name": "exemplosvetores.ipynb",
      "provenance": [],
      "authorship_tag": "ABX9TyOB7iefRbgIjc+vPFZY/j+d",
      "include_colab_link": true
    },
    "kernelspec": {
      "name": "python3",
      "display_name": "Python 3"
    },
    "language_info": {
      "name": "python"
    }
  },
  "cells": [
    {
      "cell_type": "markdown",
      "metadata": {
        "id": "view-in-github",
        "colab_type": "text"
      },
      "source": [
        "<a href=\"https://colab.research.google.com/github/clovesrocha/ETEPDLPC/blob/master/exemplosvetores.ipynb\" target=\"_parent\"><img src=\"https://colab.research.google.com/assets/colab-badge.svg\" alt=\"Open In Colab\"/></a>"
      ]
    },
    {
      "cell_type": "code",
      "metadata": {
        "id": "3dR43ukaY4wo"
      },
      "source": [
        "# ETE PORTO DIGITAL\n",
        "# DISCIPLINA: LPC\n",
        "# PROF.: CLOVES ROCHA\n",
        "# EXEMPLOS EXTRA DE VETORES/LISTAS: "
      ],
      "execution_count": null,
      "outputs": []
    },
    {
      "cell_type": "code",
      "metadata": {
        "colab": {
          "base_uri": "https://localhost:8080/"
        },
        "id": "drJfbxC4XgL6",
        "outputId": "64e6da51-2b59-498e-beae-e4f9b8d96b28"
      },
      "source": [
        "vetorfrutas = ['banana, maça, laranja']\n",
        "print(vetorfrutas)"
      ],
      "execution_count": 26,
      "outputs": [
        {
          "output_type": "stream",
          "text": [
            "['banana, maça, laranja']\n"
          ],
          "name": "stdout"
        }
      ]
    },
    {
      "cell_type": "code",
      "metadata": {
        "colab": {
          "base_uri": "https://localhost:8080/"
        },
        "id": "CiAPklrYX4y4",
        "outputId": "23497dab-f6be-4da2-d310-2cb94977e8a1"
      },
      "source": [
        "vetorcpf = [100, 101, 102]\n",
        "print(vetorcpf)"
      ],
      "execution_count": 9,
      "outputs": [
        {
          "output_type": "stream",
          "text": [
            "[100, 101, 102]\n"
          ],
          "name": "stdout"
        }
      ]
    },
    {
      "cell_type": "code",
      "metadata": {
        "colab": {
          "base_uri": "https://localhost:8080/"
        },
        "id": "o4u0bs3LYpl5",
        "outputId": "9e4fdc54-4061-47cd-982e-9e88c0badcc0"
      },
      "source": [
        "n = 10;\n",
        "vetordoprofcloves = []; #define um vetor vazio\n",
        "#for = para\n",
        "for i in range(0, n, 1): # ou mais simples neste caso \"for i in range(n)\"\n",
        "  vetordoprofcloves.append(0+i); # anexe mais um elemento à lista\n",
        "\n",
        "# Imprime o vetor/lista de uma só vez (na mesma linha)\n",
        "print('\\n O vetor: ', end=''); # informe o que vira impresso a seguir (na mesma linha devido ao parametro end='')\n",
        "print(vetordoprofcloves)\n",
        "\n",
        "# Imprimir vetor em linha única na forma \"(0, 0) (1, 1)...\"\n",
        "print('\\n Novamente o vetor impresso de 2 modos: '); # informe o que virá impresso a seguir (e \"quebre\" a linha)\n",
        "i = 0;\n",
        "for item in vetordoprofcloves : # item in vetor é um iterador, item começa em vetor[0], depois vetor [1] e assim por diante\n",
        "  print(\"(%2d, %2d) \" % (item, vetordoprofcloves[i]), end='');\n",
        "  i += 1;\n",
        "  print(); # quebre a linha\n",
        "  print('\\n Viu como é mais simples do você imaginava =)') # msg do professor."
      ],
      "execution_count": 25,
      "outputs": [
        {
          "output_type": "stream",
          "text": [
            "\n",
            " O vetor: [0, 1, 2, 3, 4, 5, 6, 7, 8, 9]\n",
            "\n",
            " Novamente o vetor impresso de 2 modos: \n",
            "( 0,  0) \n",
            "\n",
            " Viu como é mais simples do você imaginava =)\n",
            "( 1,  1) \n",
            "\n",
            " Viu como é mais simples do você imaginava =)\n",
            "( 2,  2) \n",
            "\n",
            " Viu como é mais simples do você imaginava =)\n",
            "( 3,  3) \n",
            "\n",
            " Viu como é mais simples do você imaginava =)\n",
            "( 4,  4) \n",
            "\n",
            " Viu como é mais simples do você imaginava =)\n",
            "( 5,  5) \n",
            "\n",
            " Viu como é mais simples do você imaginava =)\n",
            "( 6,  6) \n",
            "\n",
            " Viu como é mais simples do você imaginava =)\n",
            "( 7,  7) \n",
            "\n",
            " Viu como é mais simples do você imaginava =)\n",
            "( 8,  8) \n",
            "\n",
            " Viu como é mais simples do você imaginava =)\n",
            "( 9,  9) \n",
            "\n",
            " Viu como é mais simples do você imaginava =)\n"
          ],
          "name": "stdout"
        }
      ]
    }
  ]
}