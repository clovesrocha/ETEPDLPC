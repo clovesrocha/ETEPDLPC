{
  "nbformat": 4,
  "nbformat_minor": 0,
  "metadata": {
    "colab": {
      "name": "DesafioEstruturaSequencial.ipynb",
      "provenance": [],
      "collapsed_sections": [],
      "authorship_tag": "ABX9TyNcTUVSnvjlrfKO6pXFZaWU"
    },
    "kernelspec": {
      "name": "python3",
      "display_name": "Python 3"
    },
    "language_info": {
      "name": "python"
    }
  },
  "cells": [
    {
      "cell_type": "code",
      "execution_count": null,
      "metadata": {
        "colab": {
          "base_uri": "https://localhost:8080/"
        },
        "id": "VuATyE1JLm5W",
        "outputId": "2715b6a0-946d-4222-c1a3-0e475e15d7f2"
      },
      "outputs": [
        {
          "output_type": "stream",
          "name": "stdout",
          "text": [
            "Alô, ETE PORTO DIGITAL!\n"
          ]
        }
      ],
      "source": [
        "# ETE PORTO DIGITAL\n",
        "# DISCIPLINA: LÓGICA DE PROGRAMAÇÃO COMPUTACIONAL\n",
        "# PROFESSOR: CLOVES ROCHA\n",
        "# ALUNA: LUCILA SILVA\n",
        "\n",
        "# No final do desafio commit no seu GitHub pessoal.\n",
        "# 1. Faça um Programa que mostre a mensagem \"Alô ETE PORTO DIGITAL!\" na tela via Colab ou Repl.it \n",
        "\n",
        "print ('Alô, ETE PORTO DIGITAL!')"
      ]
    },
    {
      "cell_type": "code",
      "source": [
        "#2. Faça um Programa que peça um número e então mostre a mensagem 'O número informado foi [número]'.\n",
        "n = input('Digite um número  ')\n",
        "print('O número informado foi ', n)"
      ],
      "metadata": {
        "colab": {
          "base_uri": "https://localhost:8080/"
        },
        "id": "U_gf5vOuL1T4",
        "outputId": "2d026176-725e-4262-c7ae-cfa2a9bee0d8"
      },
      "execution_count": null,
      "outputs": [
        {
          "output_type": "stream",
          "name": "stdout",
          "text": [
            "Digite um número  2\n",
            "O número informado foi  2\n"
          ]
        }
      ]
    },
    {
      "cell_type": "code",
      "source": [
        "# 3. Faça um Programa que peça dois números e imprima a soma.\n",
        "num1 = int(input('Digite um número '))\n",
        "num2 = int(input('Digite outro número '))\n",
        "soma = num1 + num2\n",
        "print('O valor da soma é:  ', soma)"
      ],
      "metadata": {
        "colab": {
          "base_uri": "https://localhost:8080/"
        },
        "id": "1KxjW0NZL6Kw",
        "outputId": "9b87025b-29dc-4381-f8f5-025f7e694991"
      },
      "execution_count": null,
      "outputs": [
        {
          "output_type": "stream",
          "name": "stdout",
          "text": [
            "Digite um número 2\n",
            "Digite outro número 3\n",
            "O valor da soma é:   5\n"
          ]
        }
      ]
    },
    {
      "cell_type": "code",
      "source": [
        "# 4. Faça um Programa que peça as 4 notas bimestrais e mostre a média.\n",
        "nota1 = float(input('Digite sua primeira nota:  '))\n",
        "nota2 = float(input('Digite sua segunda nota:  '))\n",
        "nota3 = float(input('Digite sua terceira nota:  '))\n",
        "nota4 = float(input('Digite sua quarta nota:  '))\n",
        "media = (nota1+nota2+nota3+nota4)/4\n",
        "print('A média das notas é: ', media)"
      ],
      "metadata": {
        "colab": {
          "base_uri": "https://localhost:8080/"
        },
        "id": "hfEQ4uY2MRtB",
        "outputId": "46283718-1197-481c-b1f4-f18cb29b8a91"
      },
      "execution_count": null,
      "outputs": [
        {
          "output_type": "stream",
          "name": "stdout",
          "text": [
            "Digite sua primeira nota:  5\n",
            "Digite sua segunda nota:  7\n",
            "Digite sua terceira nota:  8\n",
            "Digite sua quarta nota:  9\n",
            "A média das notas é:  7.25\n"
          ]
        }
      ]
    },
    {
      "cell_type": "code",
      "source": [
        "# 5. Faça um Programa que converta metros para centímetros.\n",
        "M = float(input('Digite o valor de metro que quer converter em centímetros:  '))\n",
        "C = M*100\n",
        "print('A conversão ficou em ', C)"
      ],
      "metadata": {
        "colab": {
          "base_uri": "https://localhost:8080/"
        },
        "id": "T9hPJi5QNyfO",
        "outputId": "26961565-634c-408e-ecc5-debfced9fdf2"
      },
      "execution_count": null,
      "outputs": [
        {
          "output_type": "stream",
          "name": "stdout",
          "text": [
            "Digite o valor de metro que quer converter em centímetros:  20\n",
            "A conversão ficou em  2000.0\n"
          ]
        }
      ]
    },
    {
      "cell_type": "code",
      "source": [
        "# 6. Faça um Programa que peça o raio de um círculo, calcule e mostre sua área.\n",
        "pi = 3.14\n",
        "r = float(input('Digite o raio:  '))\n",
        "a = pi*(r*r)\n",
        "print(\"A área do Circulo é  \", a)"
      ],
      "metadata": {
        "colab": {
          "base_uri": "https://localhost:8080/"
        },
        "id": "OCdP5P8sQIpm",
        "outputId": "4ebe4016-b33f-46c9-b0c0-c1200a2d1bde"
      },
      "execution_count": null,
      "outputs": [
        {
          "output_type": "stream",
          "name": "stdout",
          "text": [
            "Digite o raio:  20\n",
            "A área do Circulo é   1256.0\n"
          ]
        }
      ]
    },
    {
      "cell_type": "code",
      "source": [
        "# 7. Faça um Programa que calcule a área de um quadrado, em seguida mostre o dobro desta área para o usuário.\n",
        "altura = float(input('Digite a altura do quadrado '))\n",
        "base = float(input('Digite a largura do quandrado '))\n",
        "total = base*altura\n",
        "dobro = total*total\n",
        "print('O dobro da área do quadrado é ' , dobro)"
      ],
      "metadata": {
        "colab": {
          "base_uri": "https://localhost:8080/"
        },
        "id": "--Fa2DG4R0ol",
        "outputId": "f35dc290-a3d5-44f1-dd47-571f9d2a8401"
      },
      "execution_count": null,
      "outputs": [
        {
          "output_type": "stream",
          "name": "stdout",
          "text": [
            "Digite a altura do quadrado 50\n",
            "Digite a largura do quandrado 20\n",
            "O dobro da área do quadrado é  1000000.0\n"
          ]
        }
      ]
    },
    {
      "cell_type": "code",
      "source": [
        "# 8. Faça um Programa que pergunte quanto você ganha por hora e o número de horas trabalhadas no mês. Calcule e mostre o total do seu salário no referido mês.\n",
        "horas = float(input('Digite as horas trabalhadas: '))\n",
        "ValorHora = float(input('Digite o valor da hora: '))\n",
        "total = horas*ValorHora\n",
        "print('O total a receber no mês é: ', total)"
      ],
      "metadata": {
        "colab": {
          "base_uri": "https://localhost:8080/"
        },
        "id": "uy4HjqEeT0BJ",
        "outputId": "a71a090e-5d60-4e75-fc84-a56d61eb9367"
      },
      "execution_count": null,
      "outputs": [
        {
          "output_type": "stream",
          "name": "stdout",
          "text": [
            "Digite as horas trabalhadas: 20\n",
            "Digite o valor da hora: 5\n",
            "O total a receber no mês é:  100.0\n"
          ]
        }
      ]
    },
    {
      "cell_type": "code",
      "source": [
        "# 9. Faça um Programa que peça a temperatura em graus Fahrenheit, transforme e mostre a temperatura em graus Celsius. C = 5 * ((F-32) / 9).\n",
        "F = float(input('Entre com a temperatura em graus Fahrenheit: '))\n",
        "C = 5 * ((F-32) /9)\n",
        "print('Valor em Celsius: {0}°C'.format(C))"
      ],
      "metadata": {
        "colab": {
          "base_uri": "https://localhost:8080/"
        },
        "id": "9DfvlaC7UyTn",
        "outputId": "33adaf31-011b-48a4-ea05-5f548ca20833"
      },
      "execution_count": null,
      "outputs": [
        {
          "output_type": "stream",
          "name": "stdout",
          "text": [
            "Entre com a temperatura em graus Fahrenheit: 30\n",
            "Valor em Celsius: -1.1111111111111112°C\n"
          ]
        }
      ]
    },
    {
      "cell_type": "code",
      "source": [
        "# 10. Faça um Programa que peça a temperatura em graus Celsius, transforme e mostre em graus Fahrenheit.\n",
        "C = float(input('Entre com a temperatura em graus Celsius: '))\n",
        "F = C * (9 / 5) + 32\n",
        "print('Valor em Fahrenheit: {0}°F'.format(F))"
      ],
      "metadata": {
        "colab": {
          "base_uri": "https://localhost:8080/"
        },
        "id": "mZaVMmYwY8sL",
        "outputId": "a13120c8-d37f-4e34-fbec-23e0c1e8436e"
      },
      "execution_count": null,
      "outputs": [
        {
          "output_type": "stream",
          "name": "stdout",
          "text": [
            "Entre com a temperatura em graus Celsius: 30\n",
            "Valor em Fahrenheit: 86.0°F\n"
          ]
        }
      ]
    },
    {
      "cell_type": "code",
      "source": [
        "# 11. Faça um Programa que peça 2 números inteiros e um número real. Calcule e mostre: o produto do dobro do primeiro com metade do segundo. a soma do triplo do primeiro com o terceiro. \n",
        "# O terceiro elevado ao cubo.\n",
        "num1 = int(input('Digite um número inteiro: '))\n",
        "num2 = int(input('Digite outro número inteiro: '))\n",
        "num3 = float(input(\"Digite mais um real: \"))\n",
        "op1 = (2*num1) + (num2/2)\n",
        "print('O valor da primeira operação é: ', op1)\n",
        "op2 = (3*num1)+ num3\n",
        "print('O valor da segunda operação é: ' , op2)\n",
        "op3 = num3*num3*num3 # Outra maneira de multiplicar é num3**3 o resultado será o mesmo\n",
        "print('O valor da terceira operação é: ' , op3)"
      ],
      "metadata": {
        "id": "aTj1K-o5ZwuM",
        "colab": {
          "base_uri": "https://localhost:8080/"
        },
        "outputId": "d37a730c-9b5c-4006-839d-458bd880b433"
      },
      "execution_count": null,
      "outputs": [
        {
          "output_type": "stream",
          "name": "stdout",
          "text": [
            "Digite um número inteiro: 10\n",
            "Digite outro número inteiro: 20\n",
            "Digite mais um real: 3\n",
            "O valor da primeira operação é:  30.0\n",
            "O valor da segunda operação é:  33.0\n",
            "O valor da terceira operação é:  27.0\n"
          ]
        }
      ]
    },
    {
      "cell_type": "code",
      "source": [
        "# 12. Tendo como dados de entrada a altura de uma pessoa, construa um algoritmo que calcule seu peso ideal, usando a seguinte fórmula: (72.7*altura) - 58\n",
        "altura = float(input('Dgite sua altura: '))\n",
        "peso = (72.7*altura) - 58\n",
        "print('Seu peso ideal é: ', peso)"
      ],
      "metadata": {
        "colab": {
          "base_uri": "https://localhost:8080/"
        },
        "id": "DnYinrhtuNsj",
        "outputId": "39e1de3f-61f1-4ede-ad09-266f9250221d"
      },
      "execution_count": null,
      "outputs": [
        {
          "output_type": "stream",
          "name": "stdout",
          "text": [
            "Dgite sua altura: 1.71\n",
            "Seu peso ideal é:  66.31700000000001\n"
          ]
        }
      ]
    },
    {
      "cell_type": "code",
      "source": [
        "# 13. Tendo como dado de entrada a altura (h) de uma pessoa, construa um algoritmo que calcule seu peso ideal, utilizando as seguintes fórmulas: Para homens: (72.7*h) - 58. \n",
        "# Para mulheres: (62.1*h) - 44.7\n",
        "sexo = int(input('Escolha: 1. Sexo Feminino / 2.Sexo Masculino: '))\n",
        "h = float(input('Digite sua altura: '))\n",
        "peso = float(input('Digite seu peso: '))\n",
        "peso_ideal = (62.1*h) - 44.7 if sexo == 1 else (72.7*h) - 58\n",
        "print('Seu peso ideal é: ' , peso_ideal)"
      ],
      "metadata": {
        "colab": {
          "base_uri": "https://localhost:8080/"
        },
        "id": "UsPFwMn5v8Ud",
        "outputId": "fbb419a0-8057-4d81-8ccc-65adf1b8d30e"
      },
      "execution_count": null,
      "outputs": [
        {
          "output_type": "stream",
          "name": "stdout",
          "text": [
            "Escolha: 1. Sexo Feminino / 2.Sexo Masculino: 2\n",
            "Digite sua altura: 1.71\n",
            "Digite seu peso: 50\n",
            "Seu peso ideal é:  66.31700000000001\n"
          ]
        }
      ]
    },
    {
      "cell_type": "code",
      "source": [
        "# Outra forma de fazer o exercício 13\n",
        "\n",
        "sexo = int(input('Escolha: 1- Sexo Masculino / 2- Sexo Feminino: '))\n",
        "h = float(input('Altura:'))\n",
        "peso = float(input('Peso:'))\n",
        "\n",
        "peso_ideal = (72.7*h) - 58 if sexo == 1 else (62.1*h) - 44.7\n",
        "\n",
        "if peso < peso_ideal:\n",
        "\tprint('Abaixo do peso ideal!')\n",
        "elif peso == peso_ideal:\n",
        "\tprint('Dentro do peso ideal!')\n",
        "else:\n",
        "\tprint('Acima do peso ideal!')\n",
        "print ('Peso: %.2f / Peso ideal: %.2f' %(peso, peso_ideal))"
      ],
      "metadata": {
        "colab": {
          "base_uri": "https://localhost:8080/"
        },
        "id": "PSoF9drhzgyz",
        "outputId": "f3726024-3da9-4091-8ea0-f024550b3cf0"
      },
      "execution_count": null,
      "outputs": [
        {
          "output_type": "stream",
          "name": "stdout",
          "text": [
            "Escolha: 1- Sexo Masculino / 2- Sexo Feminino: 2\n",
            "Altura:1.71\n",
            "Peso:77\n",
            "Acima do peso ideal!\n",
            "Peso: 77.00 / Peso ideal: 61.49\n"
          ]
        }
      ]
    },
    {
      "cell_type": "code",
      "source": [
        "# 14. João Papo-de-Pescador, homem de bem, comprou um microcomputador para controlar o rendimento diário de seu trabalho. \n",
        "# Toda vez que ele traz um peso de peixes maior que o estabelecido pelo regulamento de pesca do estado de São Paulo (50 quilos) deve pagar uma multa de R$ 4,00 por quilo excedente. \n",
        "# João precisa que você faça um programa que leia a variável peso (peso de peixes) e calcule o excesso. \n",
        "# Gravar na variável excesso a quantidade de quilos além do limite e na variável multa o valor da multa que João deverá pagar. \n",
        "# Imprima os dados do programa com as mensagens adequadas.\n",
        "print('O peso limite de peixe é de 50kgs')\n",
        "peso = float(input('Digite o peso do peixe: '))\n",
        "peso_ideal = 50\n",
        "if peso > peso_ideal:\n",
        "  excesso = peso - peso_ideal\n",
        "  multa = excesso*4.00\n",
        "  print('A multa por excesso de peso foi de ', multa , 'reais') \n",
        "else:\n",
        "  print('O peixe está dentro do peso limite')  "
      ],
      "metadata": {
        "colab": {
          "base_uri": "https://localhost:8080/"
        },
        "id": "TWZIztmk3eM4",
        "outputId": "abfc2145-5f67-48c5-cb99-3b0f761c41f4"
      },
      "execution_count": null,
      "outputs": [
        {
          "output_type": "stream",
          "name": "stdout",
          "text": [
            "O peso limite de peixe é de 50kgs\n",
            "Digite o peso do peixe: 50\n",
            "O peixe está dentro do peso limite\n"
          ]
        }
      ]
    },
    {
      "cell_type": "code",
      "source": [
        "# 15. Faça um programa que peça o tamanho de um arquivo para download (em MB) e a velocidade de um link de Internet (em Mbps), \n",
        "# calcule e informe o tempo aproximado de download do arquivo usando este link (em minutos).\n",
        "\n",
        "tamanhoArquivo = float(input(\"Digite o tamanho do arquivo para download: \"))\n",
        "velocidade = float(input(\"Digite a velocidade de um link de internet: \"))\n",
        "segundos = tamanhoArquivo/velocidade\n",
        "minutos = int(segundos/60)\n",
        "segundos = segundos%60\n",
        "print(\"Tempo aproximado para download: \" + str(minutos) + \" minutos e \" + str(segundos) + \" segundos\")"
      ],
      "metadata": {
        "colab": {
          "base_uri": "https://localhost:8080/"
        },
        "id": "MfT2r6dR8Lfr",
        "outputId": "2afd48df-4cde-49e4-ccfb-73e78861c4de"
      },
      "execution_count": null,
      "outputs": [
        {
          "output_type": "stream",
          "name": "stdout",
          "text": [
            "Digite o tamanho do arquivo para download: 30\n",
            "Digite a velocidade de um link de internet: 5\n",
            "Tempo aproximado para download: 0 minutos e 6.0 segundos\n"
          ]
        }
      ]
    }
  ]
}